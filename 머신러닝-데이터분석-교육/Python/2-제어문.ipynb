{
 "cells": [
  {
   "cell_type": "markdown",
   "metadata": {},
   "source": [
    "# 조건문(Conditional Statement)\n",
    "\n",
    "### if \n",
    "\n",
    "    1) if 조건식:\n",
    "            문장\n",
    "            문장\n",
    "            ,,,,\n",
    "       or\n",
    "       if 조건식: 문장\n",
    "      \n",
    "    2) if 조건식:\n",
    "           문장\n",
    "       else:\n",
    "           문장\n",
    "           \n",
    "    3) if 조건식:\n",
    "           문장\n",
    "       elif 조건식:\n",
    "           문장\n",
    "       elif 조건식:\n",
    "           문장\n",
    "       ...\n",
    "       [else:\n",
    "           문장]   ([]:생략가능하다는 뜻)\n",
    "           \n",
    "### 조건문의 중첩\n",
    "\n",
    "    if 조건식:\n",
    "        문장\n",
    "        ...\n",
    "        if 조건식:\n",
    "            문장\n",
    "            ...\n",
    "    else:\n",
    "        if 조건식:\n",
    "            문장\n",
    "            ..."
   ]
  },
  {
   "cell_type": "code",
   "execution_count": 3,
   "metadata": {},
   "outputs": [
    {
     "name": "stdout",
     "output_type": "stream",
     "text": [
      "숫자 입력:5\n",
      "홀수입니다.\n"
     ]
    }
   ],
   "source": [
    "# 입력받은 숫자가 짝수/홀수 인지 구별하는 프로그램 작성\n",
    "'''\n",
    "num1 = int(input(\"숫자 입력:\"))\n",
    "\n",
    "if num1%2 == 0:\n",
    "    print(\"짝수입니다.\")\n",
    "if num1%2 != 0:\n",
    "    print(\"홀수입니다.\")\n",
    "'''\n",
    "num1 = int(input(\"숫자 입력:\"))\n",
    "if num1%2 == 0:\n",
    "    print(\"짝수입니다.\")\n",
    "else:\n",
    "    print(\"홀수입니다.\")\n",
    "\n"
   ]
  },
  {
   "cell_type": "code",
   "execution_count": 25,
   "metadata": {},
   "outputs": [
    {
     "name": "stdout",
     "output_type": "stream",
     "text": [
      "입력 : d\n",
      "정답\n"
     ]
    }
   ],
   "source": [
    "# 입력받은 값이 a, b, c, d 이면 \"정답\"이라고 출력하고, 아니면 \"오답\"\n",
    "\n",
    "\"\"\"\n",
    "word = input(\"입력 : \")\n",
    "if word ==\"a\" or word ==\"b\" or word ==\"c\" or word ==\"d\":\n",
    "    print(\"정답\")\n",
    "else:\n",
    "    print(\"오답\")\n",
    "\"\"\"\n",
    "\n",
    "#ans = (\"a\", \"b\", \"c\", \"d\")\n",
    "#if input(\"입력:\") in ans:\n",
    "#    print(\"정답\")\n",
    "#else:\n",
    "#    print(\"오답\")\n",
    "    \n",
    "    \n",
    "#data = input(\"입력 : \")\n",
    "#ans = (\"a\", \"b\", \"c\", \"d\")\n",
    "\n",
    "#if ans.count(data)>0:\n",
    "#    print(\"정답\")\n",
    "#else:\n",
    "#    print(\"오답\")\n",
    "\n",
    "data = input(\"입력 : \")\n",
    "if ord(data) >= 97 and ord(data) <= 100:    #아스키코드 떄문에 a,c,d의 크기 비교 가능, 문자를 숫자처럼 인식\n",
    "# if data >= a and data <= d:\n",
    "    print(\"정답\")                           #97=a, 100=d (아스키코드!)\n",
    "else:\n",
    "    print(\"오답\")"
   ]
  },
  {
   "cell_type": "code",
   "execution_count": 30,
   "metadata": {},
   "outputs": [
    {
     "name": "stdout",
     "output_type": "stream",
     "text": [
      "65 97 66 98\n",
      "c C\n"
     ]
    }
   ],
   "source": [
    "#아스키코드 (철저히 영문 위주) - 8bit\n",
    "print(ord(\"A\"),ord(\"a\"), ord(\"B\"), ord(\"b\"))\n",
    "print(chr(99), chr(67))\n",
    "\n",
    "#한국어 등의 다른 언어들도 적용시키기 위해 16bit => Unicode"
   ]
  },
  {
   "cell_type": "code",
   "execution_count": 34,
   "metadata": {},
   "outputs": [
    {
     "name": "stdout",
     "output_type": "stream",
     "text": [
      "보통\n"
     ]
    }
   ],
   "source": [
    "# 학점 구하기\n",
    "avg = 78\n",
    "\n",
    "# if 90 <= avg <= 100:\n",
    "#     grade = \"우수\"\n",
    "# elif 70 <= avg < 90:\n",
    "#     grade = \"보통\"\n",
    "# else:\n",
    "#     grade = \"저조\"\n",
    "    \n",
    "if avg > 90:\n",
    "    grade = \"우수\"\n",
    "elif avg >= 70:\n",
    "    grade = \"보통\"\n",
    "else:\n",
    "    grade = \"저조\"\n",
    "    \n",
    "print(grade)"
   ]
  },
  {
   "cell_type": "code",
   "execution_count": 49,
   "metadata": {},
   "outputs": [
    {
     "name": "stdout",
     "output_type": "stream",
     "text": [
      "연산자를 입력하세요:*\n",
      "첫번째 숫자를 입력하세요:5\n",
      "두번째 숫자를 입력하세요:3\n",
      "결과: 5*3=15\n"
     ]
    }
   ],
   "source": [
    "# 전자 계산기 프로그램 (사칙 연산만 가능)\n",
    "# 사칙 연산 외에 다른 연산자가 입력되면 \"해당 연산기능이 없습니다\" 라고 출력\n",
    "\"\"\"\n",
    "연산자 입력 : + (엔터)\n",
    "숫자 입력 : 5 (엔터)\n",
    "숫자 입력 : 3 (엔터)\n",
    "\n",
    "결과 : 5 + 3 = 8\n",
    "\"\"\"\n",
    "op = ('+', '-', '*', '/')\n",
    "a = input(\"연산자를 입력하세요:\")\n",
    "num1 = int(input(\"첫번째 숫자를 입력하세요:\"))\n",
    "num2 = int(input(\"두번째 숫자를 입력하세요:\"))\n",
    "\n",
    "if a in op:\n",
    "    if a =='+':\n",
    "        print(\"결과: {0}{1}{2}={3}\".format(num1, a, num2, (num1+num2)))\n",
    "    elif a =='-':\n",
    "        print(\"결과: {0}{1}{2}={3}\".format(num1, a, num2, (num1-num2)))\n",
    "    elif a =='*':\n",
    "        print(\"결과: {0}{1}{2}={3}\".format(num1, a, num2, (num1*num2)))\n",
    "    else:\n",
    "        print(\"결과: {0}{1}{2}={3}\".format(num1, a, num2, (num1/num2)))\n",
    "else:\n",
    "    print(\"해당 연산기능이 없습니다.\")\n"
   ]
  },
  {
   "cell_type": "code",
   "execution_count": 46,
   "metadata": {},
   "outputs": [
    {
     "name": "stdout",
     "output_type": "stream",
     "text": [
      "아이디 : max\n",
      "패스워드 : 1233\n",
      "id와 pw가 틀렸습니다.\n"
     ]
    }
   ],
   "source": [
    "# 조건문의 중첩\n",
    "# a, b, c = 8, 10, 3\n",
    "# if a > b:\n",
    "#     if a > c:\n",
    "#         print(\"a가 제일 크다.\")\n",
    "#     else:\n",
    "#         print(\"c가 제일 크다.\")\n",
    "# else:\n",
    "#     if b > c:\n",
    "#         print(\"b가 제일 크다.\")\n",
    "#     else:\n",
    "#         print(\"c가 제일 크다.\")\n",
    "\n",
    "id = input(\"아이디 : \" ) # tom\n",
    "pw = input(\"패스워드 : \") # 1234\n",
    "\n",
    "\n",
    "if id != \"tom\":\n",
    "    if pw !=  \"1234\":\n",
    "        print(\"id와 pw가 틀렸습니다.\")\n",
    "    else:\n",
    "        print(\"id가 틀렸습니다.\")\n",
    "else:\n",
    "    if pw != \"1234\":\n",
    "        print(\"pw가 틀렸습니다.\")\n",
    "    else:\n",
    "        print(\"로그인 되었습니다.\")\n",
    "        "
   ]
  },
  {
   "cell_type": "markdown",
   "metadata": {},
   "source": [
    "# 반복문(Loop Statement)\n",
    "\n",
    "### while\n",
    "\n",
    "    while 조건식:\n",
    "        문장\n",
    "\n",
    "\n",
    "### for\n",
    "\n",
    "    for 변수 in 집합자료형\n",
    "        문장\n",
    "        \n",
    "### 강제 종료\n",
    "    \n",
    "    - break : 완전 종료\n",
    "    - continue : 일시 종료"
   ]
  },
  {
   "cell_type": "code",
   "execution_count": 61,
   "metadata": {},
   "outputs": [
    {
     "name": "stdout",
     "output_type": "stream",
     "text": [
      "**********\n",
      "* * * * * * * * * * \n",
      "==============================\n",
      "55\n",
      "\n",
      "==============================\n",
      "1024\n"
     ]
    }
   ],
   "source": [
    "# 별(*)을 10개 출력\n",
    "print(\"**********\")\n",
    "\n",
    "cnt = 0\n",
    "while cnt < 10:\n",
    "    print(\"*\", end = ' ')\n",
    "    cnt += 1\n",
    "    \n",
    "print()\n",
    "print(\"=\" *30)\n",
    "\n",
    "#1부터 10까지의 합계(55)\n",
    "cnt = 0\n",
    "sum = 0\n",
    "while cnt <= 10:\n",
    "    sum += cnt\n",
    "    cnt += 1\n",
    "    \n",
    "print(sum)\n",
    "\n",
    "print()\n",
    "print(\"=\" *30)\n",
    "\n",
    "# 2의 10승(1024)\n",
    "cnt = 0\n",
    "sum = 1\n",
    "while cnt < 10:\n",
    "    sum *= 2\n",
    "    cnt += 1\n",
    "    \n",
    "print(sum)"
   ]
  },
  {
   "cell_type": "code",
   "execution_count": null,
   "metadata": {},
   "outputs": [],
   "source": [
    "#반복 - 1. 무한반복 2. 반복횟수(반드시 검증하는 습관을 들여야 함)   *반복문의 기본구조: 초기화-조건식-카운터"
   ]
  },
  {
   "cell_type": "code",
   "execution_count": 68,
   "metadata": {},
   "outputs": [
    {
     "name": "stdout",
     "output_type": "stream",
     "text": [
      "a b c d e f g h i j k \n",
      "----------------------------\n",
      "0 1 2 3 4 5 6 7 8 9 \n",
      "----------------------------\n",
      "5 6 7 8 9 \n",
      "----------------------------\n",
      "5 7 9 "
     ]
    }
   ],
   "source": [
    "# for \n",
    "# data = [0, 1, 2, 3, 4, 5, 6, 7, 8, 9]\n",
    "data = \"abcdefghijk\"\n",
    "\n",
    "for v in data: \n",
    "    print(v, end = \" \")\n",
    "    \n",
    "print(\"\\n----------------------------\")\n",
    "\n",
    "# range(시작. 끝. 간격)\n",
    "for v in range(10):\n",
    "    print(v, end = ' ')\n",
    "    \n",
    "print(\"\\n----------------------------\")\n",
    "\n",
    "for v in range(5, 10):    #10은 미포함이라는 사실 잊지말 것\n",
    "    print(v, end = ' ')\n",
    "    \n",
    "print(\"\\n----------------------------\")\n",
    "\n",
    "for v in range(5, 10, 2):  #2는 간격을 나타냄\n",
    "    print(v, end = ' ')"
   ]
  },
  {
   "cell_type": "code",
   "execution_count": 2,
   "metadata": {},
   "outputs": [
    {
     "name": "stdout",
     "output_type": "stream",
     "text": [
      "0\n",
      "1\n",
      "2\n",
      "3\n",
      "4\n"
     ]
    }
   ],
   "source": [
    "# 강제 종료(분기문)\n",
    "for v in range(10):\n",
    "    if v == 5:\n",
    "        break       #주식 프로그램 같은 곳에 이용(장 마감하면 멈춰야 하니까)\n",
    "        #continue\n",
    "    print(v)"
   ]
  },
  {
   "cell_type": "code",
   "execution_count": 46,
   "metadata": {},
   "outputs": [
    {
     "name": "stdout",
     "output_type": "stream",
     "text": [
      "* * * * * * * * * * \n",
      "* * * * * * * * * * \n",
      "* * * * * * * * * * \n",
      "\n",
      "----------------------------\n",
      "\n",
      "* \n",
      "* * \n",
      "* * * \n",
      "* * * * \n",
      "* * * * * \n",
      "\n",
      "----------------------------\n",
      "     *\n",
      "    ***\n",
      "   *****\n",
      "  *******\n",
      " *********\n",
      "\n",
      "----------------------------\n",
      "    *\n",
      "   ***\n",
      "  *****\n",
      " *******\n",
      "*********\n",
      "\n",
      "----------------------------\n",
      "    *\n",
      "   ***\n",
      "  *****\n",
      " *******\n",
      "*********\n",
      " *******\n",
      "  *****\n",
      "   ***\n",
      "    *\n",
      "\n",
      "----------------------------\n"
     ]
    }
   ],
   "source": [
    "# 반복문의 중첩\n",
    "'''\n",
    "**********\n",
    "**********\n",
    "**********\n",
    "'''\n",
    "for row in range(3):   #행이 3번을 돌고 있음 (1번돌고 2번돌고 3번돌고 끝난다는 의미임)\n",
    "    for col in range(10):      #열은 10번을 돌게끔 설정\n",
    "        print(\"*\", end = \" \")\n",
    "    print()\n",
    "    \n",
    "print(\"\\n----------------------------\")\n",
    "\n",
    "'''\n",
    "* \n",
    "**\n",
    "***\n",
    "****\n",
    "*****\n",
    "'''\n",
    "for row in range(6):\n",
    "    for col in range(row):       # row가 도는 횟수가 동일하므로 row로 설정해주면 됌/.\n",
    "        print(\"*\",end = \" \")    # end = \" \"  하나씩 줄띄기하지말고 붙여서 쓰도록? \n",
    "    print()\n",
    "    \n",
    "print(\"\\n----------------------------\")\n",
    "    \n",
    "'''\n",
    "    *\n",
    "   ***\n",
    "  *****\n",
    " *******\n",
    "*********\n",
    "'''\n",
    "for col in range(1,6):\n",
    "    print(\" \"*(5-col) , \"*\"*(2*col-1))   # 피라미드 : 글자당 픽셀이 정해져있기때문에 홀수갯수 또는 짝수갯수로만 만들수있다.\n",
    "#오른쪽으로 치우친 피라미드에서 살짝 응용하면 됌. 짝수,홀수 지정해주면 됌! *수학적 사고방식이 필요\n",
    "    \n",
    "print(\"\\n----------------------------\")\n",
    "\n",
    "line = 5\n",
    "for x in range(1, line * 2, 2):\n",
    "    print((\" \" * ( (line * 2 - 1 - x) // 2 )) + (\"*\" * x))\n",
    "\n",
    "print(\"\\n----------------------------\")\n",
    "    \n",
    "'''\n",
    "    *\n",
    "   ***\n",
    "  *****\n",
    " *******\n",
    "*********\n",
    " *******\n",
    "  *****\n",
    "   ***\n",
    "    *\n",
    "'''\n",
    "line = 5\n",
    "for x in range(1, line * 2, 2):\n",
    "    print((\" \" * ( (line * 2 - 1 - x) // 2 )) + (\"*\" * x))\n",
    "\n",
    "for y in range(line * 2-3, 0, -2):\n",
    "    print((\" \" * ( (line * 2 - 1 - y) // 2 )) + \"*\" * y)\n",
    "  \n",
    "print(\"\\n----------------------------\")\n",
    "\n",
    "# https://blog.naver.com/PostView.nhn?blogId=noxburn&logNo=220710246578&categoryNo=1&parentCategoryNo=0\n"
   ]
  },
  {
   "cell_type": "code",
   "execution_count": 90,
   "metadata": {},
   "outputs": [
    {
     "name": "stdout",
     "output_type": "stream",
     "text": [
      "1\n"
     ]
    }
   ],
   "source": [
    "# random (가위바위보에 응용할 수 있음)\n",
    "import random \n",
    "num = random.randint(0, 2)\n",
    "print(num)"
   ]
  },
  {
   "cell_type": "code",
   "execution_count": null,
   "metadata": {},
   "outputs": [],
   "source": []
  },
  {
   "cell_type": "code",
   "execution_count": null,
   "metadata": {},
   "outputs": [],
   "source": []
  },
  {
   "cell_type": "code",
   "execution_count": null,
   "metadata": {},
   "outputs": [],
   "source": []
  },
  {
   "cell_type": "code",
   "execution_count": null,
   "metadata": {},
   "outputs": [],
   "source": []
  },
  {
   "cell_type": "code",
   "execution_count": null,
   "metadata": {},
   "outputs": [],
   "source": []
  }
 ],
 "metadata": {
  "kernelspec": {
   "display_name": "Python 3",
   "language": "python",
   "name": "python3"
  },
  "language_info": {
   "codemirror_mode": {
    "name": "ipython",
    "version": 3
   },
   "file_extension": ".py",
   "mimetype": "text/x-python",
   "name": "python",
   "nbconvert_exporter": "python",
   "pygments_lexer": "ipython3",
   "version": "3.7.1"
  }
 },
 "nbformat": 4,
 "nbformat_minor": 2
}
