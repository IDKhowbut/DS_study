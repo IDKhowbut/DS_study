{
 "cells": [
  {
   "cell_type": "code",
   "execution_count": 5,
   "metadata": {},
   "outputs": [
    {
     "name": "stdout",
     "output_type": "stream",
     "text": [
      "1\n",
      "1\n",
      "1 1\n",
      "1 와 1\n"
     ]
    }
   ],
   "source": [
    "a = 1\n",
    "print(a)\n",
    "b = 1\n",
    "print(b)\n",
    "print(a,b)\n",
    "print(a,\"와\",b)"
   ]
  },
  {
   "cell_type": "code",
   "execution_count": 10,
   "metadata": {},
   "outputs": [
    {
     "name": "stdout",
     "output_type": "stream",
     "text": [
      "<class 'int'>\n",
      "<class 'str'>\n",
      "<class 'float'>\n"
     ]
    },
    {
     "data": {
      "text/plain": [
       "str"
      ]
     },
     "execution_count": 10,
     "metadata": {},
     "output_type": "execute_result"
    }
   ],
   "source": [
    "a = 10\n",
    "print(type(a))\n",
    "a = \"가\"\n",
    "print(type(a))\n",
    "a = 3.14\n",
    "print(type(a))\n",
    "a = \"10\"\n",
    "type(a)"
   ]
  },
  {
   "cell_type": "code",
   "execution_count": 20,
   "metadata": {},
   "outputs": [
    {
     "name": "stdout",
     "output_type": "stream",
     "text": [
      "True\n",
      "False\n",
      "8791212143568 8791212143568\n"
     ]
    }
   ],
   "source": [
    "#변수는 절대로 수정 불가\n",
    "a = 10\n",
    "b = 10\n",
    "\n",
    "print(a is b)\n",
    "b = 5\n",
    "print(a is b)\n",
    "\n",
    "a = b\n",
    "print(id(a),id(b))\n",
    "\n",
    "#동시에 여러 변수에 하나의 객체를 할당\n",
    "a = b = c = 10\n",
    "\n",
    "#여러 변수에 여러 개의 객체 할당\n",
    "a,b,c = 10,11,12"
   ]
  },
  {
   "cell_type": "markdown",
   "metadata": {},
   "source": [
    "자료형\n",
    "=====\n",
    "\n",
    "## 종류\n",
    "\n",
    "    1)기본 자료형\n",
    "        - 정수형(int), 실수형(float), 복소수형, 문자형(str), 함수형\n",
    "        \n",
    "    2)집합(iterable) 자료형\n",
    "        - 리스트, 튜플, 딕트, 세트(set)\n",
    "        \n",
    "## 수정 가능성에 따라\n",
    "\n",
    "    1) 변경 가능 : list, dict, set\n",
    "    \n",
    "    2) 변경 불가능 : int, float, complex, bool, str, tuple"
   ]
  },
  {
   "cell_type": "code",
   "execution_count": 22,
   "metadata": {},
   "outputs": [
    {
     "data": {
      "text/plain": [
       "(1, 2)"
      ]
     },
     "execution_count": 22,
     "metadata": {},
     "output_type": "execute_result"
    }
   ],
   "source": [
    "divmod(5,3)"
   ]
  },
  {
   "cell_type": "code",
   "execution_count": 45,
   "metadata": {
    "collapsed": true
   },
   "outputs": [
    {
     "name": "stdout",
     "output_type": "stream",
     "text": [
      "python is very simple\n",
      "여러줄로\n",
      "문자열을\n",
      "작성할 수 \n",
      "있습니다.\n",
      "---------------------------\n",
      "여러줄로 \n",
      "문자열을 \n",
      "작성할 수 \n",
      "있습니다.\n",
      "홍길동님 \t 안녕하세요\n",
      "\\n은 줄바꿈 기능입니다.\n",
      " \"\\t\"는 탭키 기능입니다.\n",
      "190\n"
     ]
    }
   ],
   "source": [
    "# 문자열\n",
    "var1 = 'python is very simple'\n",
    "print(var1)\n",
    "\n",
    "var1 = '''여러줄로\n",
    "문자열을\n",
    "작성할 수 \n",
    "있습니다.'''\n",
    "print(var1)\n",
    "print(\"---------------------------\")\n",
    "# 특수문자(제어문자) : \\문자\n",
    "var1 = \"여러줄로 \\n문자열을 \\n작성할 수 \\n있습니다.\"\n",
    "print(var1)\n",
    "\n",
    "var1 = \"홍길동님 \\t 안녕하세요\"\n",
    "print(var1)\n",
    "\n",
    "# escape문자 : \\\n",
    "var1 = \"\\\\n은 줄바꿈 기능입니다.\"\n",
    "print(var1)\n",
    "\n",
    "\"\"\"\n",
    "\"\\t\"는 탭키 기능을 수행한다.\n",
    "\"\"\"\n",
    "var1 = \" \\\"\\\\t\\\"는 탭키 기능입니다.\"\n",
    "print(var1)\n",
    "\n",
    "# \\는 문장이 길어질 때 줄바꿈\n",
    "var1 = 10 + 20 *4 + 20 * \\\n",
    "      + 5\n",
    "print(var1)"
   ]
  },
  {
   "cell_type": "code",
   "execution_count": 19,
   "metadata": {
    "collapsed": true
   },
   "outputs": [
    {
     "name": "stdout",
     "output_type": "stream",
     "text": [
      "덧셈결과 : 3 + 4 = 7\n",
      "덧셈결과 : 3% + 3% = 6\n",
      "====================\n",
      "a,b,c,d,e,f,g\n",
      "['Life', 'is', 'too', 'short']\n",
      "['홍길동', '임꺽정', '신돌석']\n",
      "1\n",
      "11\n"
     ]
    }
   ],
   "source": [
    "\"\"\"\n",
    "# Concatenation(문자열 더해서 연결하기)\n",
    "head = \"Python\"\n",
    "tail = \" is fun!\"\n",
    "num = 100\n",
    "print(head + tail , str(num))\n",
    "\n",
    "a = \"python\"\n",
    "print(a * 2)\n",
    "\n",
    "print(\"=\" * 20)\n",
    "\n",
    "# indexing : 가리킨다 (indexing이 잘되어있으면 데이터를 손쉽고 빠르게 찾을 수 있음)\n",
    "a = \"Life is too short, You need Python\"\n",
    "print(a[10])\n",
    "print(a[-1], a[-2], a[-3])\n",
    "\n",
    "# Slicing : 잘라내기, 추출하기 (indexing이 있기에 Slicing도 가능한 것!)\n",
    "print(a[0:4])\n",
    "print(a[5:])\n",
    "print(a[:4])\n",
    "print(a[:])\n",
    "## a[시작번호:끝 번호]를 지정하면 끝 번호에 해당하는 것은 포함되지 않는다. e.g) a[0:4]=0,1,2,3 (a<=a<3)\n",
    "\n",
    "# 수정\n",
    "a = \"pithon\"\n",
    "# a[1] = \"y\"\n",
    "# print(a)\n",
    "\n",
    "b = a[:1] + \"y\" + a[2:]\n",
    "print(b)\n",
    "\n",
    "print(\"=\" * 20)\n",
    "\n",
    "\"\"\"\n",
    "\n",
    "#포맷팅\n",
    "print(\"%s결과 : %d + %d = %d\"%(\"덧셈\", 3, 4, 3+4))\n",
    "print(\"{0}결과 : {1}% + {1}% = {2}\".format(\"덧셈\", 3, 3+3)) # ????????\n",
    "\n",
    "print(\"=\" * 20)\n",
    "\n",
    "# 관련 함수\n",
    "# count()\n",
    "# find()\n",
    "# index()\n",
    "var1 = \",\"\n",
    "var2 = var1.join(\"abcdefg\")\n",
    "print(var2)\n",
    "\n",
    "var1 = \"Life is too short\"\n",
    "var2 = var1.split()\n",
    "print(var2)\n",
    "var1 = \"홍길동:임꺽정:신돌석\"\n",
    "var2 = var1.split(\":\")\n",
    "print(var2)\n",
    "\n",
    "print(var1.count(\"홍\"))\n",
    "print(len(var1))"
   ]
  },
  {
   "cell_type": "markdown",
   "metadata": {},
   "source": [
    "+ list\n",
    "    - 임의의 객체를 순차적으로 저장하는 집합적 자료형\n",
    "    - 각 값에 대해 인덱스가 부여됌\n",
    "    - 변경가능\n",
    "    - \"[ ]\" 사용\n",
    "    - 복합 자료형"
   ]
  },
  {
   "cell_type": "code",
   "execution_count": 45,
   "metadata": {
    "collapsed": true
   },
   "outputs": [
    {
     "name": "stdout",
     "output_type": "stream",
     "text": [
      "[1, 3, 4, 7, 9]\n",
      "11\n",
      "9\n",
      "<class 'list'>\n",
      "['a', 'b', 'c']\n",
      "b\n",
      "====================\n",
      "[10, 2, 3, 4, 5]\n",
      "[1, 2, 3, 4, 5]\n",
      "====================\n",
      "[1, 2, 3]\n",
      "1\n",
      "[1, 2, 3, 4, 5, 6]\n",
      "[1, 2, 3, 1, 2, 3, 1, 2, 3]\n",
      "3hi\n",
      "====================\n",
      "[1, 2]\n",
      "['a', 'b', 3]\n",
      "['a', [4, 5, 6], 3]\n",
      "['a']\n",
      "====================\n",
      "[0, 1, 2, 3]\n",
      "[0, 1, 2, 3, 10]\n",
      "[0, 1, 2, 3, 10, 20]\n",
      "[0, 1, 2, 3, 10, 20, [21, 22, 23]]\n",
      "[0, 1, 2, 3, 10, 20, [21, 22, 23], 30]\n",
      "[0, 1, 2, 3, 10, 20, [21, 22, 23], 30, 31, 32, 33]\n",
      "17\n",
      "[0, 1, 2, 3, 10, 20, [21, 22, 23], 30, 31, 32, 33, 40]\n",
      "[0, 1, 2, 3, 10, 20, [21, 22, 23], 30, 31, 32, 33, 40, 41, 42, 43, 44]\n",
      "====================\n",
      "[1, 2, 3, 4]\n",
      "['a', 'b', 'c']\n",
      "['c', 'b', 'a']\n",
      "====================\n",
      "2\n",
      "[1, 1, 2, 3]\n",
      "[1, 2, 1, 2, 3]\n",
      "[2, 1, 2, 3]\n",
      "[1, 2]\n",
      "3\n",
      "====================\n",
      "True\n",
      "False\n"
     ]
    }
   ],
   "source": [
    "# 기본적인 index\n",
    "a = [1, 3, 4, 7, 9]\n",
    "print(a)\n",
    "print(a[0] + 10)\n",
    "print(a[-1])\n",
    "print(type(a))\n",
    "\n",
    "b = [1, 2, 3, ['a', 'b', 'c']]\n",
    "print(b[3])    # b[-1]\n",
    "print(b[3][1])\n",
    "\n",
    "print(\"=\" * 20)\n",
    "\n",
    "# 복사(얕은 복사: 데이터가 아니라 데이터의 주소를 복사, reference count와 관련) \n",
    "  #그래서 원본인 a를 함부로 지우면 안됌!\n",
    "a = [1, 2, 3, 4, 5]\n",
    "\n",
    "b = a\n",
    "b[0] = 10\n",
    "print(a)\n",
    "\n",
    "# 복사(깊은 복사: 실제 데이터를 복사하는 것)\n",
    "a = [1, 2, 3, 4, 5]\n",
    "\n",
    "b = a[:]  # [:] : 실제 값을 꺼낸 것임\n",
    "b[0] = 10\n",
    "print(a)\n",
    "\n",
    "print(\"=\" * 20)\n",
    "\n",
    "# 연산\n",
    "a = [1, 2, 3]\n",
    "b = [4, 5, 6]\n",
    "print(a)\n",
    "print(a[0])\n",
    "## 그냥 print(a)는 실제 값을 가져오는 것이 아니다. 주소만...?\n",
    "## print(a[0])로 해야 a의 0번째 실제 값을 가져올 수 있음 (그런의미가 됌)\n",
    "print (a + b) # +는 연결의 기능 (더하는게 아니라 연결의 의미를 가진다고 생각하기)\n",
    "print(a * 3)\n",
    "print(str(a[2]) + \"hi\")\n",
    "\n",
    "print(\"=\" * 20)\n",
    "\n",
    "# 변경(수정)\n",
    "a = [1, 2, 3]\n",
    "print(a[0:2])\n",
    "a[0:2] = ['a', 'b']\n",
    "print(a)\n",
    "\n",
    "a[1] = [4, 5, 6]\n",
    "print(a)\n",
    "\n",
    "a[1:3] = []\n",
    "print(a)\n",
    "\n",
    "print(\"=\" * 20)\n",
    "\n",
    "# 추가(insert()), append(), extend(), +=)    \n",
    "a = [1, 2, 3]\n",
    "a.insert(0, 0)\n",
    "print(a)\n",
    "a.insert(4, 10)\n",
    "print(a)\n",
    "a.append(20)\n",
    "print(a)\n",
    "a.append([21, 22, 23])\n",
    "print(a)\n",
    "a.extend([30]) #extend : 집합형 자료만 추가 가능(단일형 인식 못함), original data에서 확장시키는 개념(append와 다름!)\n",
    "print(a)\n",
    "a.extend([31, 32, 33])\n",
    "print(a)\n",
    "\n",
    "b = 10\n",
    "b +=5   # b = b + 5\n",
    "b +=2   # b = b + 2\n",
    "print(b)\n",
    "\n",
    "a += [40]\n",
    "print(a)\n",
    "\n",
    "a += [41, 42, 43, 44]\n",
    "print(a)\n",
    "\n",
    "print(\"=\" * 20)\n",
    "\n",
    "# 정렬\n",
    "a = [1, 4, 3, 2]\n",
    "a.sort()\n",
    "print(a)\n",
    "a = ['a', 'c', 'b']\n",
    "a.sort()\n",
    "print(a)       #아스키코드??\n",
    "a.reverse()\n",
    "print(a)\n",
    "\n",
    "print(\"=\" * 20)\n",
    "\n",
    "# 위치 찾기\n",
    "a = [1, 2, 3]\n",
    "print(a.index(3))\n",
    "# print(a.index(5)) :해당 위치에 해당 값이 없으므로.\n",
    "\n",
    "# 삭제\n",
    "a = [1, 2, 3, 1, 2, 3]\n",
    "a[1:3] = []   #n-1까지 출력임을 잊지말자\n",
    "print(a)\n",
    "\n",
    "a = [1, 2, 3, 1, 2, 3]\n",
    "a.remove(3)   #n-1 임!\n",
    "print(a)\n",
    "\n",
    "del a[0]\n",
    "print(a)\n",
    "\n",
    "# pop: stack에서 데이터 뽑아오는 것    #Stack: 데이터 push 에서 쌓아놓는 것 - LIFO(후입선출)방법, 주로 임시데이터 저장에 쓰임 e.g)주소\n",
    "a = [1, 2, 3]\n",
    "b = a.pop()\n",
    "print(a)\n",
    "print(b)\n",
    "\n",
    "#데이터를 삭제되지 않게, 안전하게 보관하는 곳=Heap   (*Stack과 Heap)\n",
    "\n",
    "print(\"=\" * 20)\n",
    "\n",
    "# 포함 여부\n",
    "a = [1, 2, 3, 4, 5]\n",
    "print(2 in a)   # in은 연산자! not in도 쓸 수 있음\n",
    "print(2 not in a)"
   ]
  },
  {
   "cell_type": "markdown",
   "metadata": {},
   "source": [
    "+ 튜플\n",
    "    - 리스트와 거의 유사\n",
    "    - \"( )\" 사용\n",
    "    - 변경 불가 (읽기 전용)\n",
    "    - 리스트보다 속도가 빠르다\n",
    "    \n"
   ]
  },
  {
   "cell_type": "code",
   "execution_count": 62,
   "metadata": {},
   "outputs": [
    {
     "name": "stdout",
     "output_type": "stream",
     "text": [
      "('a', 'b', 'c', 'a')\n",
      "<class 'tuple'>\n",
      "4\n",
      "2\n",
      "1\n",
      "====================\n",
      "['a', 'b', 'c', 'a']\n",
      "['a', 10, 'c', 'a']\n",
      "('a', 10, 'c', 'a')\n",
      "====================\n",
      "10 20 30\n",
      "====================\n",
      "(10, 20)\n",
      "(20, 10)\n"
     ]
    }
   ],
   "source": [
    "a = ('a', 'b', 'c', 'a')\n",
    "print(a)\n",
    "print(type(a))\n",
    "print(len(a))\n",
    "print(a.count('a'))\n",
    "print(a.index('b'))\n",
    "\n",
    "print(\"=\" * 20)\n",
    "\n",
    "# a[1] = 10  # 튜플은 변경 불가! -> 변경하고 싶다 -> 튜플을 리스트로 바꾸어줌\n",
    "b = list(a)\n",
    "print(b)\n",
    "b[1] = 10\n",
    "print(b)\n",
    "c = tuple(b)\n",
    "print(c)\n",
    "\n",
    "print(\"=\" * 20)\n",
    "\n",
    "a, b, c = (10, 20, 30)\n",
    "print(a, b, c)\n",
    "\n",
    "print(\"=\" * 20)\n",
    "\n",
    "# swap 알고리즘(교체 알고리즘) - 하나의 공간이 더 필요함\n",
    "t1 = (10, 20)\n",
    "print(t1)\n",
    "a, b = t1\n",
    "\n",
    "b, a = a, b\n",
    "\n",
    "t2 = (a, b)\n",
    "print(t2)\n"
   ]
  },
  {
   "cell_type": "markdown",
   "metadata": {},
   "source": [
    "+ dict (dictionary)\n",
    "    - 순서가 없다. (index 사용 불가)\n",
    "    - 키(key)를 이용하여 값을 저장 및 조회\n",
    "    - \"{키 : 값}\" 사용\n",
    "    - 두 데이터를 한 쌍으로 묶어서 관리?\n",
    "    - 데이터를 조회하는 용도로 쓴다."
   ]
  },
  {
   "cell_type": "code",
   "execution_count": 81,
   "metadata": {
    "collapsed": true
   },
   "outputs": [
    {
     "name": "stdout",
     "output_type": "stream",
     "text": [
      "{'name': '김철수', 'phone': '0101111111', 'birth': '901231'}\n",
      "<class 'dict'>\n",
      "김철수 0101111111 901231\n",
      "김철수 0101111111 901231\n",
      "dict_keys(['name', 'phone', 'birth'])\n",
      "['name', 'phone', 'birth']\n",
      "dict_values(['김철수', '0101111111', '901231'])\n",
      "dict_items([('name', '김철수'), ('phone', '0101111111'), ('birth', '901231')])\n",
      "('name', '김철수')\n",
      "{'name': '홍길동', 'phone': '0101111111', 'birth': '901231'}\n",
      "{'name': '홍길동', 'phone': '0101111111', 'birth': '901231', 'addr': '서울시 강남구'}\n",
      "{'name': '홍길동', 'phone': '0101111111', 'addr': '서울시 강남구'}\n",
      "{}\n",
      "{'k1': 1, 'k2': 'abc', 'k3': 3.4}\n",
      "True\n"
     ]
    }
   ],
   "source": [
    "a = {'name':\"김철수\", 'phone':'0101111111', 'birth':'901231'}\n",
    "print(a)\n",
    "print(type(a))\n",
    "print(a['name'], a['phone'], a['birth'])   # index가 아닌 'key'로 접근한다\n",
    "print(a.get('name'), a.get('phone'), a.get('birth'))\n",
    "print(a.keys())\n",
    "print(list(a.keys()))   #list로 변환\n",
    "print(a.values())\n",
    "\n",
    "print(a.items())\n",
    "b = list(a.items())\n",
    "print(b[0])\n",
    "\n",
    "a[\"name\"] = \"홍길동\"\n",
    "print(a)\n",
    "a[\"addr\"] = \"서울시 강남구\"\n",
    "print(a)\n",
    "del a[\"birth\"]\n",
    "print(a)\n",
    "a.clear()\n",
    "print(a)\n",
    "\n",
    "a = dict(k1 = 1, k2 = 'abc', k3 = 3.4)  # dict형으로 모양 변환해주기\n",
    "print(a)\n",
    "print('k2' in a)\n"
   ]
  },
  {
   "cell_type": "code",
   "execution_count": 82,
   "metadata": {},
   "outputs": [
    {
     "name": "stdout",
     "output_type": "stream",
     "text": [
      "{'name': '홍길동', 'birth': '1128', 'age': '30'}\n"
     ]
    }
   ],
   "source": [
    "a = {'name': '홍길동', 'birth':'1128', 'age':'30'}\n",
    "print(a)"
   ]
  },
  {
   "cell_type": "markdown",
   "metadata": {},
   "source": [
    "+ Set\n",
    "    - \"{ }\" 사용 (하나의 단일값임, dict와 다르다)\n",
    "    - 순서가 없다. (index쓸 수 없음)\n",
    "    - 중복 불가\n",
    "    - union(), intersection(), difference()"
   ]
  },
  {
   "cell_type": "code",
   "execution_count": 110,
   "metadata": {
    "collapsed": true
   },
   "outputs": [
    {
     "name": "stdout",
     "output_type": "stream",
     "text": [
      "{1, 2, 3}\n",
      "3\n",
      "====================\n",
      "{4, 5, 6}\n",
      "{4, 5, 6}\n",
      "{1, 2, 3, 4, 5, 6, 7, 8, 9}\n",
      "{4, 5, 6}\n",
      "{1, 2, 3, 4, 5, 6, 7, 8, 9}\n",
      "{1, 2, 3, 4, 5, 6, 7, 8, 9}\n",
      "{1, 2, 3}\n",
      "{8, 9, 7}\n",
      "{1, 2, 3}\n",
      "{8, 9, 7}\n",
      "====================\n",
      "{1, 2, 3, 4, 5, 6, 7, 8}\n",
      "{1, 2, 3, 4, 5, 6, 7, 8, 9}\n",
      "{1, 3, 4, 5, 6, 7, 8, 9}\n",
      "{1, 4, 5, 6, 7, 8, 9}\n",
      "{1, 2, 3, 4}\n"
     ]
    }
   ],
   "source": [
    "a = {1, 2, 3, 1}\n",
    "print(a)\n",
    "print(len(a))\n",
    "# print(a[1]) - 순서가 없기 때문에 index사용할 수 없다.\n",
    "\n",
    "print(\"=\" * 20)\n",
    "\n",
    "s1 = {1, 2, 3, 4, 5, 6}\n",
    "s2 = {4, 5, 6, 7, 8, 9}\n",
    "\n",
    "print(s1 & s2)  #& 연산자! (교집합적인 역할 수행)\n",
    "print(s1.intersection(s2))\n",
    "\n",
    "print(s1 | s2)\n",
    "print(s1.intersection(s2))\n",
    "\n",
    "print(s1 | s2)\n",
    "print(s1.union(s2))\n",
    "\n",
    "print(s1 - s2)\n",
    "print(s2 - s1)\n",
    "\n",
    "print(s1.difference(s2))\n",
    "print(s2.difference(s1))\n",
    "\n",
    "print(\"=\" * 20)\n",
    "\n",
    "# 여러 개 추가\n",
    "s1.update({7, 8})\n",
    "print(s1)\n",
    "\n",
    "#1개 추가\n",
    "s1.add(9)\n",
    "print(s1)\n",
    "\n",
    "\n",
    "# 삭제 (데이터가 없으면 에러 발생)\n",
    "s1.remove(2)\n",
    "print(s1)\n",
    "\n",
    "# 삭제 (데이터가 없으면 그냥 통과)\n",
    "s1.discard(3)\n",
    "print(s1)\n",
    "\n",
    "a = None\n",
    "a = set()\n",
    "b = [1, 2, 3, 4, 4, 2]\n",
    "a = set(b)\n",
    "print(a)\n",
    "\n",
    "#참, 거짓\n"
   ]
  },
  {
   "cell_type": "markdown",
   "metadata": {},
   "source": [
    "## 연산자(Operator)\n",
    "\n",
    "    - \"( )\"를 활용하자.\n",
    "    - 연산자 모양만 보고 판단하지 말자\n",
    "\n",
    "### 산술 연산자(Arithmatic)\n",
    "    +, -, /, *, %, //, **\n",
    "   \n",
    "### 비교연산자\n",
    "    >, <, >=, <=, ==, !=\n",
    "    \n",
    "### 논리 연산자\n",
    "    and, or, not(단항, 토글)\n",
    "    \n",
    "    A    B    A and B    A or B    not A    A^B(xor)\n",
    "    ----------------------------------------------------\n",
    "    T    T      T          T        F        F\n",
    "    T    F      F          T        F        T\n",
    "    F    T      F          T        T        T\n",
    "    F    F      F          F        T        F\n",
    "    \n",
    "### 대입(치환) 연산자\n",
    "    =, +=, =+, *=, /=, ...  #()사용을 생활화할 것!\n",
    "    \n",
    "===================================================================\n",
    "\n",
    "### 포함 여부 연산자\n",
    "    in, not in\n",
    "\n",
    "### 비트 연산자 (2진수 연산)\n",
    "    &(and), |(or), ^(xor, 배타적인or), ~, <<, >>, ..."
   ]
  },
  {
   "cell_type": "code",
   "execution_count": 115,
   "metadata": {},
   "outputs": [
    {
     "name": "stdout",
     "output_type": "stream",
     "text": [
      "1\n",
      "[2, 3, 4]\n",
      "5\n"
     ]
    }
   ],
   "source": [
    "# 대입 연산자\n",
    "a1, a2, a3 = [1, 2, 3]\n",
    "a1, *a2, a3 = [1, 2, 3, 4, 5]    # *을 이용한 데이터 할당 (아스테리스크?)\n",
    "print(a1)\n",
    "print(a2)\n",
    "print(a3)"
   ]
  },
  {
   "cell_type": "code",
   "execution_count": 24,
   "metadata": {},
   "outputs": [
    {
     "name": "stdout",
     "output_type": "stream",
     "text": [
      "7\n",
      "False\n",
      "5\n",
      "True\n",
      "True True False False False False False\n",
      "암호화된 값 :  35493334\n",
      "복호화된 값 :  648723\n"
     ]
    }
   ],
   "source": [
    "# 비트 연산자\n",
    "a, b = 5, 7\n",
    "print(a and b) # 연산 결과에 의미가 없다..\n",
    "print(a>3 and b<4) # 연산 결과에 의미가 생김! (10진수이용하는 연산자)\n",
    "print(a & b) # 비트연산자(2진수)  # 2진수-0은 거짓 1은 참  #2진수로 참,거짓 판별 후 이 값을 10진수로 변환한 것\n",
    "#5를 2진수로 변환, 7을 2진수로 변환-> 2진수 값들을 & 해줌 -> 결과값을 10진수로 변환 = 5\n",
    "\n",
    "print(a>3 & b<4) # 연산 결과 이상함  # So, you need to use a right method for a right answer\n",
    "\n",
    "\n",
    "# 불(bool) 자료형이란 참(True)과 거짓(False)을 나타내는 자료형이다.\n",
    "print(bool(\"hello\"), bool(10), bool(\"\"), bool([]), bool({}), bool({}), bool(None))\n",
    "\n",
    "# xor(exclusive or) : ^  (데이터를 암호화하고 복호화할 떄 많이 사용, 머신러닝에 영향많다?!)\n",
    "password = 648723\n",
    "key = 34894789\n",
    "encode = password ^ key\n",
    "print(\"암호화된 값 : \", encode)\n",
    "print(\"복호화된 값 : \", encode ^ key)"
   ]
  },
  {
   "cell_type": "code",
   "execution_count": 6,
   "metadata": {},
   "outputs": [
    {
     "name": "stdout",
     "output_type": "stream",
     "text": [
      "당신의 이름은홍길동\n",
      "안녕하세요~ 홍길동 님\n",
      "첫번째 숫자10\n",
      "두번째 숫자5\n",
      "결과:10. 5\n",
      "덧셈결과:10 + 5 = 15\n"
     ]
    }
   ],
   "source": [
    "# input\n",
    "name = input(\"당신의 이름은\")\n",
    "print(\"안녕하세요~\", name, \"님\")\n",
    "\n",
    "num1 = int(input(\"첫번째 숫자\"))  #int으로 정수형으로 바꿔줌\n",
    "num2 = int(input(\"두번째 숫자\"))\n",
    "print(\"결과:{0}. {1}\".format(num1, num2))  #.format 과 %를 이용한 시각화...? = 포맷팅\n",
    "print(\"{0}결과:{1} + {2} = {3}\".format(\"덧셈\", num1, num2, (num1 + num2)))"
   ]
  },
  {
   "cell_type": "code",
   "execution_count": 2,
   "metadata": {},
   "outputs": [
    {
     "name": "stdout",
     "output_type": "stream",
     "text": [
      "금액을 입력하세요:2760\n",
      "cash= 2760  500: 5  100: 2  50: 1  10: 1  1: 0\n"
     ]
    }
   ],
   "source": [
    "# 예제1\n",
    "# 교환할 돈은 얼마입니까? 2760(엔터)\n",
    "\n",
    "# 오백원짜리 ==> ?개\n",
    "# 백원짜리 ==> ?개\n",
    "# 오십원짜리 ==> ?개\n",
    "# 십원짜리 ==> ?개\n",
    "# 나머지 바꾸지 못한 잔돈 ==> ?원\n",
    "\n",
    "\n",
    "cash=int(input(\"금액을 입력하세요:\"));\n",
    "\n",
    "#기존 화폐 저장\n",
    "cash_org=cash;\n",
    "\n",
    "#금액별 화폐수 분류\n",
    "c500=cash//500;\n",
    "cash=cash-c500*500;\n",
    "c100=cash//100;\n",
    "cash=cash-c100*100;\n",
    "c50=cash//50;\n",
    "cash=cash-c50*50;\n",
    "c10=cash//10;\n",
    "cash=cash-c10*10;\n",
    "\n",
    "print(\"cash=\",cash_org,\" 500:\",c500,\" 100:\",c100,\" 50:\",c50,\" 10:\",c10,\" 1:\",cash);\n",
    "\n",
    "\n",
    "# 출처: https://whiteit.tistory.com/entry/파이썬-소스코드-화폐-교환-프로그램금액별 [소스코드 저장소:: For Example]\n",
    "\n"
   ]
  },
  {
   "cell_type": "code",
   "execution_count": 1,
   "metadata": {},
   "outputs": [
    {
     "name": "stdout",
     "output_type": "stream",
     "text": [
      "[0, 1, 2, 3]\n",
      "[0, 1, 2, 3, 10]\n",
      "[0, 1, 2, 3, 10, 20]\n",
      "[0, 1, 2, 3, 10, 20, [21, 22, 23]]\n",
      "[0, 1, 2, 3, 10, 20, [21, 22, 23], 30]\n",
      "[0, 1, 2, 3, 10, 20, [21, 22, 23], 30, 31, 32, 33]\n"
     ]
    }
   ],
   "source": [
    "a = [1, 2, 3]\n",
    "a.insert(0, 0)\n",
    "print(a)\n",
    "a.insert(4, 10)\n",
    "print(a)\n",
    "a.append(20)\n",
    "print(a)\n",
    "a.append([21, 22, 23])\n",
    "print(a)\n",
    "a.extend([30]) #extend : 집합형 자료만 추가 가능(단일형 인식 못함), original data에서 확장시키는 개념(append와 다름!)\n",
    "print(a)\n",
    "a.extend([31, 32, 33])\n",
    "print(a)"
   ]
  },
  {
   "cell_type": "code",
   "execution_count": null,
   "metadata": {},
   "outputs": [],
   "source": []
  },
  {
   "cell_type": "code",
   "execution_count": null,
   "metadata": {},
   "outputs": [],
   "source": []
  },
  {
   "cell_type": "code",
   "execution_count": null,
   "metadata": {},
   "outputs": [],
   "source": []
  }
 ],
 "metadata": {
  "kernelspec": {
   "display_name": "Python 3",
   "language": "python",
   "name": "python3"
  },
  "language_info": {
   "codemirror_mode": {
    "name": "ipython",
    "version": 3
   },
   "file_extension": ".py",
   "mimetype": "text/x-python",
   "name": "python",
   "nbconvert_exporter": "python",
   "pygments_lexer": "ipython3",
   "version": "3.7.1"
  }
 },
 "nbformat": 4,
 "nbformat_minor": 2
}
