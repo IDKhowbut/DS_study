{
 "cells": [
  {
   "cell_type": "markdown",
   "metadata": {},
   "source": [
    "# 특징\n",
    "\n",
    "    1) 묶음\n",
    "        - 변수 (멤버변수, 필드, 속성, 인스턴스 변수)\n",
    "        - 함수 (메서드, 멤버함수)\n",
    "         : 함수는 단일기능, 클래스에서 비슷한 기능의 함수들을 모아두는..? 것, \n",
    "           너무 다른 여러기능을 모아두면 쓸모없어짐\n",
    "           \n",
    "    2) 설계도\n",
    "       : 실체가 없음, 이걸 사용할 메모리공간이 필요하다.\n",
    "         e.g)자동차설계도가 있다고 운전을 할 수는 없는 것 처럼\n",
    "        - 객체: 클래스를 구체(실체화)\n",
    "        - 인스턴스: 클래스를 사용할 수 있는 실제 메모리 공간\n",
    "                    (복사된 공간)\n",
    "        \n",
    "### 1. 작성 방법\n",
    "\n",
    "    class 이름 : \n",
    "        변수\n",
    "        함수\n",
    "        \n",
    "### 2. 객체의 특징\n",
    "\n",
    "    1) 상속성(Inheritance)\n",
    "    2) 다형성(Polymorphism)\n",
    "    3) 캡슐화(Encapulation)\n",
    "    \n",
    "### 3. 사용자 정의 자료형\n",
    "\n",
    "### 4. 표준화\n",
    "\n",
    "# 문법\n",
    "\n",
    "### 1. static\n",
    "\n",
    "### 2. self (Java의 this 와 유사)\n",
    "    1) 현재 사용 중인 객체의 주소를 저장하고 있는 참조변수\n",
    "    2) read only\n",
    "        \n",
    "### 3. 생성자와 소멸자( __init__ , __del__ )\n",
    "    1) 메서드(함수라는 이야기)\n",
    "    2) 객체를 생성하는 용도\n",
    "    3) 객체를 처음 만들 때 호출되고 단 한번만 호출됌.\n",
    "    4) 초기화 용도\n",
    "    5) 소멸자는 객체가 소멸될 때 호출되는 메서드 (callback method) (확실하게 마무리안된 것들 닫아줌)\n",
    "        \n",
    "### 4. _ , __\n",
    "    1) 기본 인터프리터에서 사용\n",
    "    2) 값을 무시\n",
    "    3) 접근 권한(private) : \"_\"(접근은 가능, 되도록이면 쓰지말라는 경고의 의미로 보면 됌), \"__\"(접근도 막아줌) , 둘 다 강제성은 없음?\n",
    "    \n",
    "    \n",
    "### 5. 정적 메서드, 클래스 메서드\n",
    "    - 정적 메서드 : 하나밖에 없는 메서드라서 self값 안넣는다. (인자를 받을 수 없음)\n",
    "    \n",
    "### 6. 상속\n",
    "    - 상속 주는건 부모클래스 / 상속받는건 자식클래스\n",
    "    - 부모 클래스: 모든 자식들이 공통으로 가지고 있는 최소의...무엇?\n",
    "    - 단계별로 기능을 확장시키기 위해 이러한 기능을 사용한다.\n",
    "    - 부모: 대략적 자식: 구체적임   그래서 부모에서 자식으로 상속하면서 확장시키는 것임\n",
    "    - 부모,자식 간으로 있지 않으면 서로 다 다른 class임 (그래서 형제들은 다 다른 class다! 연관없음!)\n",
    "    - 부모가 없는 자식이 만들어질 순 없음! (자식 생성하면 자연히 부모가 선 생성됌)\n",
    "    - 부모는 자식들의 \"최소 공통\"\n",
    "    \n",
    "    1) Overriding(재정의), Overloading(중복정의)  파이썬은 Overriding만 지원한다.\n",
    "       : 메모리 낭비하지말고 부모로부터 물려받은거 조금만 수정해서 쓰자는 취지\n",
    "    2) super()    부모가 가진 original이 필요할때\n",
    "    3) Override를 이용한 다형성(표준화)\n",
    "    4) 다중 상속  (클래스 다중상속은 위험함.. 너무 복잡하고 트래픽 잡아먹고 오류날 확률 높음)\n",
    "       : 파이썬에서는 위험부담을 적게 설정?해놨기 때문에 다중 상속 지원이 가능하다!\n",
    "    5) 추상(abstract) 클래스 \n",
    "       : 추상 method를 하나라도(at least one) 가지고 있는 클래스 -> 추상 method란?\n",
    "    6) object: 모든 클래스의 부모?!\n",
    "    \n",
    "# 클래스의 관계\n",
    "\n",
    "### is a : 상속\n",
    "    특정 클래스 객체가 다른 클래스 객체에게 자신의 멤버를 물려주는 상속 관계\n",
    "    부모 자식 관계\n",
    "    강한 결합 관계\n",
    "\n",
    "### has a : 포함\n",
    "    특정 클래스 내에서 해당 클래스의 멤버처럼 다른 클래스 객체를 포함하고 있는 경우\n",
    "    약한 결합 관계\n",
    "    \n",
    "    1) Aggreagation : 약한 관계\n",
    "    2) Composition : 강한 관계\n",
    "    \n",
    "### UML\n",
    "\n",
    "### 객체지향 설계원칙(SOLID)"
   ]
  },
  {
   "cell_type": "code",
   "execution_count": 6,
   "metadata": {},
   "outputs": [
    {
     "name": "stdout",
     "output_type": "stream",
     "text": [
      "10\n",
      "20\n",
      "30\n",
      "<class 'int'>\n"
     ]
    }
   ],
   "source": [
    "a = 10\n",
    "\n",
    "class Test:\n",
    "    b = 20\n",
    "    \n",
    "print(a)\n",
    "\n",
    "#print(Test().b)    # 객체 생성 (함수 호출이 아님! 헷갈리지 말 것) \".\" 은 인스턴스에 접근할 때 사용\n",
    "# 이렇게 한번 쓰고 나면 class는 끝남.. 더이상 사용 불가 (이유: 주소저장을 안했다.)\n",
    "\n",
    "t = Test()   # 주소 설정\n",
    "print(t.b)\n",
    "\n",
    "t.b = 30\n",
    "print(t.b)\n",
    "\n",
    "print(type(a))"
   ]
  },
  {
   "cell_type": "code",
   "execution_count": 9,
   "metadata": {},
   "outputs": [
    {
     "name": "stdout",
     "output_type": "stream",
     "text": [
      "10 20\n"
     ]
    }
   ],
   "source": [
    "#Test().b = 10  # 객체 생성! 헷갈리면 도큐먼트 찾아보기.. 익숙해지면 구분이 갈 것임\n",
    "#Test().b = 20  # 위의 객체와 다른 메모리 공간에 존재\n",
    "t1 = Test()    \n",
    "t2 = Test()    # 주소 지정\n",
    "\n",
    "t1.b = 10     #똑같은 변수b이지만 주소가 다르다\n",
    "t2.b = 20\n",
    "\n",
    "print(t1.b, t2.b)"
   ]
  },
  {
   "cell_type": "markdown",
   "metadata": {},
   "source": [
    "### 객체지향언어 (규모 big)\n",
    "     -Java 등\n",
    "\n",
    "    1) 상속성(Inheritance): 코드 재사용\n",
    "    \n",
    "    2) 다형성(Polymorphism)\n",
    "    \n",
    "    3) 캡슐화(Encapsulation): 추상화, 쓰기 좋게끔 묶어놓음\n",
    "       - 편의 제공\n",
    "       - 보안  : Private VS Public\n",
    "    \n",
    "### 객체기반언어\n",
    "     - Javascript"
   ]
  },
  {
   "cell_type": "code",
   "execution_count": 2,
   "metadata": {},
   "outputs": [
    {
     "name": "stdout",
     "output_type": "stream",
     "text": [
      "국적 : korean\n",
      "이름 : 홍길동\n",
      "나이 : 30\n",
      "신장 : 172.5\n",
      "self : 81669256\n",
      "<class '__main__.Person'>\n",
      "['__class__', '__delattr__', '__dict__', '__dir__', '__doc__', '__eq__', '__format__', '__ge__', '__getattribute__', '__gt__', '__hash__', '__init__', '__init_subclass__', '__le__', '__lt__', '__module__', '__ne__', '__new__', '__reduce__', '__reduce_ex__', '__repr__', '__setattr__', '__sizeof__', '__str__', '__subclasshook__', '__weakref__', 'age', 'height', 'info', 'name', 'nation']\n"
     ]
    }
   ],
   "source": [
    "class Person:        #class 이름 첫글자는 대문자로 하기(관례)\n",
    "    nation = \"한국\"\n",
    "    name = str()  #None으로도 가능\n",
    "    age = int()\n",
    "    height = float()\n",
    "    \n",
    "    def info(self):   #클래스 안에서 만들어지는 함수는 무조건 첫번째 인자가 \"self\"이어야 함\n",
    "        print(\"국적 :\", self.nation)\n",
    "        print(\"이름 :\", self.name)\n",
    "        print(\"나이 :\", self.age)\n",
    "        print(\"신장 :\", self.height)\n",
    "        print(\"self :\", id(self))\n",
    "    \n",
    "#####################################################\n",
    "\n",
    "hong = Person()\n",
    "hong.nation = \"korean\"    # hong.xxxx <- 속성\n",
    "# Person.nation = \"대한민국\"  (변경 안됌)\n",
    "hong.name = \"홍길동\"\n",
    "hong.age = \"30\"\n",
    "hong.height = 172.5\n",
    "hong.info()\n",
    "print(type(hong))\n",
    "print(dir(hong))"
   ]
  },
  {
   "cell_type": "code",
   "execution_count": 23,
   "metadata": {},
   "outputs": [
    {
     "name": "stdout",
     "output_type": "stream",
     "text": [
      "국적 : 한국\n",
      "이름 : 홍길동\n",
      "나이 : 30\n",
      "신장 : 172.5\n",
      "self : 86635240\n",
      "p1의 주소 : 86635240\n",
      "국적 : 한국\n",
      "이름 : 임꺽정\n",
      "나이 : 35\n",
      "신장 : 173\n",
      "self : 86637032\n",
      "국적 : 한국\n",
      "이름 : 신돌석\n",
      "나이 : 31\n",
      "신장 : 170\n",
      "self : 86634960\n",
      "********************\n",
      "국적 : 대한민국\n",
      "이름 : 홍길동\n",
      "나이 : 30\n",
      "신장 : 172.5\n",
      "self : 86635240\n",
      "국적 : 대한민국\n",
      "이름 : 임꺽정\n",
      "나이 : 35\n",
      "신장 : 173\n",
      "self : 86637032\n",
      "국적 : 대한민국\n",
      "이름 : 신돌석\n",
      "나이 : 31\n",
      "신장 : 170\n",
      "self : 86634960\n"
     ]
    }
   ],
   "source": [
    "p1 = Person()\n",
    "p1.name = \"홍길동\"\n",
    "p1.age = 30\n",
    "p1.height = 172.5\n",
    "p1.info()   # p1이 가지고 있는 주소값이 ()에 전달되는 것임. \n",
    "print(\"p1의 주소 :\", id(p1))\n",
    "\n",
    "p2 = Person()\n",
    "p2.name = \"임꺽정\"\n",
    "p2.age = 35\n",
    "p2.height = 173\n",
    "p2.info()\n",
    "\n",
    "p3 = Person()\n",
    "p3.name = \"신돌석\"\n",
    "p3.age = 31\n",
    "p3.height = 170\n",
    "p3.info()\n",
    "\n",
    "print(\"*\" *20)\n",
    "\n",
    "# static 변수\n",
    "# 객체를 통해 값이 지정된 경우에는 static을 통한 값의 변경이 이루어지지 않는다.\n",
    "Person.nation = \"대한민국\"  # 객체가 아닌 클래스로 접근 ?? # 하나의 값을 클래스 전체에 공유\n",
    "p1.info()\n",
    "p2.info()\n",
    "p3.info()"
   ]
  },
  {
   "cell_type": "code",
   "execution_count": null,
   "metadata": {},
   "outputs": [],
   "source": [
    "# self : 자바에선 this. 일종의 읽기전용 변수(값을 바꾸거나 함부로 할 수 없음)"
   ]
  },
  {
   "cell_type": "code",
   "execution_count": 41,
   "metadata": {},
   "outputs": [
    {
     "name": "stdout",
     "output_type": "stream",
     "text": [
      "생성자 호출 None\n",
      "a =  50\n",
      "생성자 호출 100\n",
      "a =  50\n",
      "True\n",
      "True\n",
      "False\n"
     ]
    }
   ],
   "source": [
    "# 생성자(__init__ : 따로 만들지 않아도 자체적으로 생성되어있음  TestClss() 괄호를 만들어줘야 생성)\n",
    "class TestClass: \n",
    "    a = 10\n",
    " \n",
    "    def __init__(self, arg1=None):    # default인수를 주면 인자없이도 객체생성이 가능하다.\n",
    "        print(\"생성자 호출\", arg1)    #생략되어 있던 것 뿐!\n",
    "        self.a = 50                  # self. 가 없으면 a는 단지 지역변수일 뿐!\n",
    "        print(\"a = \", self.a)\n",
    "        \n",
    "class TestClass2:\n",
    "    pass\n",
    "\n",
    "#############################################################\n",
    "\n",
    "#TestClass()        # 인자없이도 객체생성이 가능하게 하는 방법은?\n",
    "t1 = TestClass()\n",
    "t2 = TestClass(100)\n",
    "t3 = TestClass2()\n",
    "\n",
    "print(isinstance(t1,TestClass))       # is로 시작하는 것들은 대부분 참/거짓을 가려내는 메서드\n",
    "print(isinstance(t2,TestClass))\n",
    "print(isinstance(t3,TestClass))\n",
    "# print(isinstance(t1,t2))"
   ]
  },
  {
   "cell_type": "code",
   "execution_count": 100,
   "metadata": {},
   "outputs": [
    {
     "data": {
      "text/plain": [
       "<bound method initTest.setItem of <__main__.initTest object at 0x0000000005305198>>"
      ]
     },
     "execution_count": 100,
     "metadata": {},
     "output_type": "execute_result"
    }
   ],
   "source": [
    "class initTest:\n",
    "    name = str()\n",
    "    age = int()\n",
    "    salary = float()\n",
    "    \n",
    "    def setItem(self, name, age, sal):   #메서드 첫번째 인자 \"self\" 반드시 넣을 것\n",
    "        # 검증 코드 작성\n",
    "        self.name = name\n",
    "        self.age = age\n",
    "        self.sal = sal\n",
    "    \n",
    "########################################################\n",
    "\n",
    "# obj1.name = \"홍길동\"\n",
    "# obj1.age = 30\n",
    "# obj1.salary = 3500000\n",
    "obj1 = initTest()\n",
    "obj1.setItem(\"홍길동\", 30, 3500000)"
   ]
  },
  {
   "cell_type": "code",
   "execution_count": 75,
   "metadata": {
    "scrolled": true
   },
   "outputs": [
    {
     "name": "stdout",
     "output_type": "stream",
     "text": [
      "이름 :  홍길동\n",
      "나이 :  30\n",
      "급여 :  3500000\n"
     ]
    }
   ],
   "source": [
    "class InitTest:\n",
    "    name = str()\n",
    "    age = int()\n",
    "    salary = float()\n",
    "    \n",
    "    def __init__(self, name, age, sal):   #메서드 첫번째 인자 \"self\" 반드시 넣을 것\n",
    "        self.name = name\n",
    "        self.age = age\n",
    "        self.sal = sal\n",
    "        \n",
    "    def print_info(self):\n",
    "        print(\"이름 : \", self.name)\n",
    "        print(\"나이 : \", self.age)\n",
    "        print(\"급여 : \", self.sal)\n",
    "        \n",
    "obj1 = InitTest(\"홍길동\", 30, 3500000)\n",
    "obj1.print_info()\n",
    "# 생성자: 클래스 인스턴스 생성과 초깃값 입력을 한 번에 처리, 인스턴스 생성과 동시에 자동으로 호출되는 메서드"
   ]
  },
  {
   "cell_type": "code",
   "execution_count": 68,
   "metadata": {
    "collapsed": true
   },
   "outputs": [
    {
     "name": "stdout",
     "output_type": "stream",
     "text": [
      "<__main__.Profile object at 0x00000000052E7828>\n"
     ]
    },
    {
     "ename": "NameError",
     "evalue": "name 'Employee' is not defined",
     "output_type": "error",
     "traceback": [
      "\u001b[1;31m---------------------------------------------------------------------------\u001b[0m",
      "\u001b[1;31mNameError\u001b[0m                                 Traceback (most recent call last)",
      "\u001b[1;32m<ipython-input-68-9c551eedd412>\u001b[0m in \u001b[0;36m<module>\u001b[1;34m\u001b[0m\n\u001b[0;32m     25\u001b[0m \u001b[0m취미\u001b[0m \u001b[1;33m:\u001b[0m \u001b[0m여행\u001b[0m\u001b[1;33m,\u001b[0m \u001b[0m낚시\u001b[0m\u001b[1;33m,\u001b[0m \u001b[0m운동\u001b[0m\u001b[1;33m\u001b[0m\u001b[1;33m\u001b[0m\u001b[0m\n\u001b[0;32m     26\u001b[0m '''\n\u001b[1;32m---> 27\u001b[1;33m \u001b[0me2\u001b[0m \u001b[1;33m=\u001b[0m \u001b[0mEmployee\u001b[0m\u001b[1;33m(\u001b[0m\u001b[1;36m1112\u001b[0m\u001b[1;33m,\u001b[0m \u001b[1;34m\"강호동\"\u001b[0m\u001b[1;33m,\u001b[0m \u001b[1;36m2000000\u001b[0m\u001b[1;33m,\u001b[0m \u001b[1;33m[\u001b[0m\u001b[1;34m\"요리\"\u001b[0m\u001b[1;33m,\u001b[0m \u001b[1;34m\"등산\"\u001b[0m\u001b[1;33m,\u001b[0m \u001b[1;34m\"운동\"\u001b[0m\u001b[1;33m]\u001b[0m\u001b[1;33m)\u001b[0m\u001b[1;33m\u001b[0m\u001b[1;33m\u001b[0m\u001b[0m\n\u001b[0m\u001b[0;32m     28\u001b[0m \u001b[0me3\u001b[0m \u001b[1;33m=\u001b[0m \u001b[0mEmployee\u001b[0m\u001b[1;33m(\u001b[0m\u001b[1;36m1113\u001b[0m\u001b[1;33m,\u001b[0m \u001b[1;34m\"홍길수\"\u001b[0m\u001b[1;33m,\u001b[0m \u001b[1;36m3000000\u001b[0m\u001b[1;33m,\u001b[0m \u001b[1;33m[\u001b[0m\u001b[1;34m\"여행\"\u001b[0m\u001b[1;33m,\u001b[0m \u001b[1;34m\"독서\"\u001b[0m\u001b[1;33m,\u001b[0m \u001b[1;34m\"수영\"\u001b[0m\u001b[1;33m]\u001b[0m\u001b[1;33m)\u001b[0m\u001b[1;33m\u001b[0m\u001b[1;33m\u001b[0m\u001b[0m\n\u001b[0;32m     29\u001b[0m \u001b[0mtotal\u001b[0m \u001b[1;33m=\u001b[0m \u001b[0me1\u001b[0m\u001b[1;33m.\u001b[0m\u001b[0mgerCount\u001b[0m\u001b[1;33m(\u001b[0m\u001b[1;33m)\u001b[0m\u001b[1;33m\u001b[0m\u001b[1;33m\u001b[0m\u001b[0m\n",
      "\u001b[1;31mNameError\u001b[0m: name 'Employee' is not defined"
     ]
    }
   ],
   "source": [
    "#callback 메서드??\n",
    "\n",
    "# e1 = Employee(1111, \"홍길동\", 1000000, [\"여행\", \"낚시\", \"운동\"])\n",
    "# e1.display()\n",
    "\n",
    "class Profile:\n",
    "    num = str()\n",
    "    name = str()\n",
    "    salary = float()\n",
    "    hobby = list()\n",
    "    \n",
    "    def __init__(self, num, name, salary, hobby):\n",
    "        self.num = num\n",
    "        self.name = name\n",
    "        self.salary = salary\n",
    "        self.hobby = hobby\n",
    "        \n",
    "    def print_info(self):\n",
    "        print(\"이름 : \", self.name)\n",
    "        print(\"나이 : \", self.age)\n",
    "        print(\"급여 : \", self.sal)\n",
    "        \n",
    "obj1 = Profile(\"홍길동\", 30, 3500000)\n",
    "obj1.print_info()        \n",
    "    \n",
    "'''\n",
    "사번 : 1111\n",
    "이름 : 홍길동\n",
    "급여 : 1000000\n",
    "취미 : 여행, 낚시, 운동\n",
    "'''\n",
    "e2 = Employee(1112, \"강호동\", 2000000, [\"요리\", \"등산\", \"운동\"])\n",
    "e3 = Employee(1113, \"홍길수\", 3000000, [\"여행\", \"독서\", \"수영\"])\n",
    "total = Employee.getCount()             #static 이용?\n",
    "print(\"총인원수 : \", total) #3\n",
    "\n",
    "e3.setSalary(2500000)\n",
    "e3.setHobby([\"피아노\", \"드론\"])\n",
    "e3.display()\n",
    "'''\n",
    "사번 : 1112\n",
    "이름 : 신돌석\n",
    "금여 : 2500000\n",
    "취미 : 독서, 낚시, 수영, 피아노, 드론\n",
    "'''"
   ]
  },
  {
   "cell_type": "code",
   "execution_count": 72,
   "metadata": {},
   "outputs": [
    {
     "name": "stdout",
     "output_type": "stream",
     "text": [
      "<__main__.Profile object at 0x00000000052E82B0>\n"
     ]
    }
   ],
   "source": [
    "class Profile:\n",
    "    num = str()\n",
    "    name = str()\n",
    "    salary = float()\n",
    "    hobby = str()\n",
    "    \n",
    "    def __init__(self, num, name, salary, hobby):\n",
    "        self.num = num\n",
    "        self.name = name\n",
    "        self.salary = salary\n",
    "        self.hobby = hobby\n",
    "        "
   ]
  },
  {
   "cell_type": "code",
   "execution_count": 77,
   "metadata": {
    "collapsed": true
   },
   "outputs": [
    {
     "data": {
      "text/plain": [
       "['__class__',\n",
       " '__delattr__',\n",
       " '__dict__',\n",
       " '__dir__',\n",
       " '__doc__',\n",
       " '__eq__',\n",
       " '__format__',\n",
       " '__ge__',\n",
       " '__getattribute__',\n",
       " '__gt__',\n",
       " '__hash__',\n",
       " '__init__',\n",
       " '__init_subclass__',\n",
       " '__le__',\n",
       " '__lt__',\n",
       " '__module__',\n",
       " '__ne__',\n",
       " '__new__',\n",
       " '__reduce__',\n",
       " '__reduce_ex__',\n",
       " '__repr__',\n",
       " '__setattr__',\n",
       " '__sizeof__',\n",
       " '__str__',\n",
       " '__subclasshook__',\n",
       " '__weakref__',\n",
       " 'age',\n",
       " 'name',\n",
       " 'print_info',\n",
       " 'salary']"
      ]
     },
     "execution_count": 77,
     "metadata": {},
     "output_type": "execute_result"
    }
   ],
   "source": [
    "dir(InitTest)"
   ]
  },
  {
   "cell_type": "code",
   "execution_count": 82,
   "metadata": {},
   "outputs": [
    {
     "name": "stdout",
     "output_type": "stream",
     "text": [
      "10\n",
      "10\n",
      "20\n"
     ]
    }
   ],
   "source": [
    "#원래대로 설계된 멤버변수 외에 객체별로 별도의 변수를 추가할 수 있다.\n",
    "class TempClass:\n",
    "    a = 10\n",
    "    \n",
    "    def display(self):\n",
    "        print(self.a)\n",
    "        \n",
    "#######################################################################\n",
    "\n",
    "obj1 = TempClass()\n",
    "obj1.display()\n",
    "\n",
    "obj2 = TempClass()\n",
    "obj2.display()\n",
    "\n",
    "obj2.b = 20\n",
    "print(obj2.b)"
   ]
  },
  {
   "cell_type": "code",
   "execution_count": 87,
   "metadata": {},
   "outputs": [
    {
     "name": "stdout",
     "output_type": "stream",
     "text": [
      "1 3\n"
     ]
    }
   ],
   "source": [
    "a, _ , c = (1, 2, 3) # unpacking  2의 값은 무시하겠다는 뜻?? ?????\n",
    "# a = [1, 2, 3] # packing\n",
    "\n",
    "print(a, c)"
   ]
  },
  {
   "cell_type": "code",
   "execution_count": 88,
   "metadata": {},
   "outputs": [
    {
     "name": "stdout",
     "output_type": "stream",
     "text": [
      "1 3\n"
     ]
    }
   ],
   "source": [
    "a, b, c = (1, 2, 3)  # ?????????? 위와 무엇이 다름?\n",
    "print(a, c)"
   ]
  },
  {
   "cell_type": "code",
   "execution_count": 96,
   "metadata": {
    "collapsed": true
   },
   "outputs": [
    {
     "name": "stdout",
     "output_type": "stream",
     "text": [
      "1 5\n",
      "0\n",
      "1\n",
      "2\n",
      "3\n"
     ]
    }
   ],
   "source": [
    "a, *_, c = (1, 2, 3, 4, 5) # 1번째와 마지막번째 값만 쓰겠다.  값을 무시할때 _ 사용\n",
    "print(a, c)\n",
    "\n",
    "for a, _ in enumerate([\"가\", \"나\", \"다\", \"라\"]):  # index만 나타내게 하는 코드\n",
    "    print(a)"
   ]
  },
  {
   "cell_type": "code",
   "execution_count": 8,
   "metadata": {
    "collapsed": true
   },
   "outputs": [
    {
     "name": "stdout",
     "output_type": "stream",
     "text": [
      "안녕하세요.\n",
      "first입니다. 홍길동입니다.\n",
      "['_PrivateTest__second', '_PrivateTest__str2', '__class__', '__delattr__', '__dict__', '__dir__', '__doc__', '__eq__', '__format__', '__ge__', '__getattribute__', '__gt__', '__hash__', '__init__', '__init_subclass__', '__le__', '__lt__', '__module__', '__ne__', '__new__', '__reduce__', '__reduce_ex__', '__repr__', '__setattr__', '__sizeof__', '__str__', '__subclasshook__', '__weakref__', '_first', '_str1']\n",
      "홍길동입니다.\n",
      "second입니다.\n"
     ]
    }
   ],
   "source": [
    "class PrivateTest:\n",
    "    _str1 = \"안녕하세요.\"\n",
    "    __str2 = \"홍길동입니다.\"\n",
    "    def _first(self):\n",
    "        print(\"first입니다.\", self.__str2)  # 이렇게하면 private을 표현 사용할 수가 있다. (메서드를 통한 간접적 접근)\n",
    "        \n",
    "    def __second(self):\n",
    "        print(\"second입니다.\")\n",
    "        \n",
    "###########################################\n",
    "\n",
    "obj1 = PrivateTest()\n",
    "print(obj1._str1)\n",
    "#print(obj1.__str2)  # 이 때에는 홍길동입니다. 가 보이지 않음.\n",
    "obj1._first()         # 메서드를 통한 간접적 접근  # \"_\" : 굳이 쓰겠다면 사용은 가능하나 이로 인해 발생되는 문제는 니 알아서 해..란 뜻\n",
    "# obj1.__second()\n",
    "print(dir(obj1))   #클래스의 목록들 확인 가능\n",
    "\n",
    "print(obj1._PrivateTest__str2)  # 왜 에러가 안남? : _PrivateTest해서 조정을 해줌?????? dir 확인해보면 됌여, obj1에 포함되어있는 거였음.\n",
    "obj1._PrivateTest__second()"
   ]
  },
  {
   "cell_type": "markdown",
   "metadata": {},
   "source": [
    "#### 1. 정적메소드(@classmethod와 @staticmethod)\n",
    "- 정적메소드라 함은 클래스에서 직접 접근할 수 있는 메소드입니다.\n",
    "- 파이썬에서는 클래스에서 직접 접근할 수 있는 메소드가 두가지가 있습니다.staticmethod와 classmethod 입니다.\n",
    "- 하지만 파이썬에서는 다른언어와는 다르게 정적메소드임에도 불구하고 인스턴스에서도 접근이 가능합니다. 이 차이에 유의해야합니다.\n",
    "- 에디터에서 static_method.py파일을 작성합니다.\n",
    "- 인스턴스 메소드는 첫번째 인자로 객체 자신 self자신을 입력합니다.\n",
    "- classmethod는 첫번째 인자로 클래스를 입력합니다.\n",
    "- staticmethod는 특별히 추가되는 인자가 없습니다."
   ]
  },
  {
   "cell_type": "code",
   "execution_count": 3,
   "metadata": {},
   "outputs": [
    {
     "name": "stdout",
     "output_type": "stream",
     "text": [
      "True\n",
      "2\n"
     ]
    }
   ],
   "source": [
    "class Rectangle:\n",
    "    #width = float()      # 딱히 지정해주지 않아도 된다고...? 하지만 혼란을 방지하고자 써준다.\n",
    "    #height = float() \n",
    "    cnt = 0 # def 안에 넣으면 각 객체별로 카운트가 되기 때문에 def 밖에서 정의해줘야함\n",
    "    def __init__(self, width, height):   # 폭과 높이, 2개의 인자       #초기화 작업 수행(생성자는 초기화 용도로만 즉, 준비사항으로만)\n",
    "        self.width = width        # self로 접근, 각 객체로의 접근\n",
    "        self.height = height\n",
    "        Rectangle.cnt += 1\n",
    "        \n",
    "    def calcArea(self):     # 사각형의 면적을 구하는 메서드  # width 와 height에 따라 만들어야하는 사각형이 여럿->self 사용\n",
    "        area = self.width * self.height\n",
    "        return area\n",
    "    \n",
    "    @staticmethod                         # 정적메서드 사용할때 위에 얹어주는 골뱅이.. means \"decorator\" / 역할: Wrapping\n",
    "    def isSquare(width, height):         # 정사각형인지/아닌지 판별하는 메서드, 정적메서드로 할거라 self넣지 않음\n",
    "        return width == height          # @staticmethod : 굳이 쓸 필요없지만 가독성을 위해 표시해줌\n",
    "    \n",
    "    @classmethod\n",
    "    def printCount(cls):\n",
    "        print(cls.cnt)\n",
    "    \n",
    "square = Rectangle.isSquare(4,4)   # 정적메서드를 쓰면 굳이 객체생성할 필요없이 이렇게 바로 쓸 수 있다.\n",
    "print(square)\n",
    "\n",
    "r1 = Rectangle(5, 5)              # 클래스메서드에서는 객체생성을 해줌\n",
    "r2 = Rectangle(2, 5)\n",
    "r1.printCount()"
   ]
  },
  {
   "cell_type": "code",
   "execution_count": 26,
   "metadata": {
    "collapsed": true
   },
   "outputs": [
    {
     "name": "stdout",
     "output_type": "stream",
     "text": [
      "움직이는 동물\n",
      "아르르알알\n",
      "움직이는 동물\n",
      "현재 속도는 40\n",
      "True\n",
      "True\n"
     ]
    }
   ],
   "source": [
    "class Animal:     # 즉흥적으로 상속하는 경우x. 상속은 사전에 철저한 계획하에 만들어지는 기능이다.\n",
    "    def move(self):\n",
    "        print(\"움직이는 동물\")\n",
    "        \n",
    "# v = Animal()\n",
    "# v.move()\n",
    "        \n",
    "############################################################\n",
    "\n",
    "class Dog(Animal):    # 이게 바로 상속임! Animal의 속성이 Dog에게도 적용되었음\n",
    "    def bark(self):\n",
    "        print(\"아르르알알\")\n",
    "\n",
    "#############################################################\n",
    "\n",
    "class Horse(Animal):\n",
    "    def speed(self, val):\n",
    "        print(\"현재 속도는 \" + str(val))\n",
    "\n",
    "#############################################################\n",
    "    \n",
    "# main class\n",
    "d1 = Dog()\n",
    "d1.move()\n",
    "d1.bark()\n",
    "\n",
    "h1 = Horse()\n",
    "h1.move()\n",
    "h1.speed(\"40\")\n",
    "\n",
    "print(isinstance(d1, Dog))\n",
    "print(isinstance(d1, Animal))"
   ]
  },
  {
   "cell_type": "code",
   "execution_count": 39,
   "metadata": {},
   "outputs": [
    {
     "name": "stdout",
     "output_type": "stream",
     "text": [
      "30\n",
      "600\n",
      "20\n",
      "30\n",
      "-10\n",
      "200\n",
      "0.5\n",
      "100000000000000000000\n",
      "0으로 나눌 수 없습니다.\n",
      "None\n"
     ]
    }
   ],
   "source": [
    "# Overriding\n",
    "class Calculator:\n",
    "    def __init__(self, first=None, second=None):\n",
    "        self.first = first\n",
    "        self.second = second\n",
    "        \n",
    "    def setData(self, first=None, second=None):    # 수정 및 변경에 사용\n",
    "        self.first = first\n",
    "        self.second = second\n",
    "        \n",
    "    def sum(self):\n",
    "        result = self.first + self.second\n",
    "        return result\n",
    "    \n",
    "    def sub(self):\n",
    "        result = self.first - self.second\n",
    "        return result\n",
    "    \n",
    "    def mul(self):\n",
    "        result = self.first * self.second\n",
    "        return result\n",
    "    \n",
    "    def div(self):\n",
    "        result = self.first / self.second\n",
    "        return result\n",
    "    \n",
    "###############################################################\n",
    "\n",
    "class CalculatorV1(Calculator):        # 기존에 있던 Calculator 상속받아옴. 생성자도 상속받아옴!\n",
    "    def pow(self):\n",
    "        result = self.first ** self.second\n",
    "        return result\n",
    "    \n",
    "    def div(self):  # overriding  반드시 똑같은 이름, 똑같은 모양으로 틀을 만들어야함(다르면 그냥 또 하나의 새로운 함수가 됌)\n",
    "        if self.second == 0:\n",
    "            print(\"0으로 나눌 수 없습니다.\")\n",
    "            return\n",
    "        else:\n",
    "            return self.first/self.second\n",
    "\n",
    "###############################################################\n",
    "\n",
    "# main class\n",
    "calc1 = Calculator()   #Cal +tab키 = Calculator\n",
    "calc1.setData(10,20)\n",
    "print(calc1.sum())\n",
    "\n",
    "calc2 = Calculator(20, 30)\n",
    "print(calc2.mul())\n",
    "calc2.setData(40,20)  # 이런식으로 입력값 변경이 가능!\n",
    "print(calc2.sub())\n",
    "\n",
    "calc3 = CalculatorV1(10,20)     # 파이썬은 생성자도 상속받아옴!\n",
    "# calc3.setData(10, 20)\n",
    "print(calc3.sum())\n",
    "print(calc3.sub())\n",
    "print(calc3.mul())\n",
    "print(calc3.div())\n",
    "print(calc3.pow())\n",
    "\n",
    "calc3.setData(10,0)\n",
    "print(calc3.div())"
   ]
  },
  {
   "cell_type": "code",
   "execution_count": 47,
   "metadata": {},
   "outputs": [
    {
     "name": "stdout",
     "output_type": "stream",
     "text": [
      "Person 생성자\n",
      "안녕\n",
      "나이:30, tell:난 사람이다\n",
      "나이:30, tell:난 사람이다\n",
      "나이:20, tell:난 사람이다\n"
     ]
    }
   ],
   "source": [
    "#super()\n",
    "class Person:\n",
    "    say = \"난 사람이다\"\n",
    "    __age = \"20\"       # 하나의 Private에 보통 2개의 메서드가 있어야함 (1. 설정 set(setter메서드) 2. 조회 get(getter메서드)<-관례임)\n",
    "    age = \"20\"\n",
    "    \n",
    "    def __init__(self, age):     # __age 라서 외부접근이 안되니까 여기에서 age를 수정할 수 있게끔? \n",
    "        print(\"Person 생성자\")\n",
    "        self.__age = age\n",
    "        \n",
    "    def printinfo(self):\n",
    "        print(\"나이:{}, tell:{}\".format(self.__age, self.say))\n",
    "        \n",
    "    def hello(self):\n",
    "        print(\"안녕\")\n",
    "        \n",
    "    def setAge(self, age):    # 값을 설정\n",
    "        self.__age = age\n",
    "        \n",
    "    def getAge(self):         # 값을 조회\n",
    "        return self.__age\n",
    "    \n",
    "#########################################################################################\n",
    "\n",
    "class Employee(Person):\n",
    "    pass\n",
    "\n",
    "#########################################################################################\n",
    "    \n",
    "# main 모듈\n",
    "e1 = Employee(30)  # __init에서 (self, age)로 설정했기때문에 age값을 써줘고 실행시켜야 함\n",
    "e1.hello()\n",
    "e1.printinfo()\n",
    "dir(e1)\n",
    "e1.__age = 20   # 새로운 변수하나 추가한 것으로 된다. (age 출력값의 변화는 없음)\n",
    "e1.printinfo()\n",
    "e1.setAge(20)    # setter method로 값 변경을 했다!\n",
    "e1.printinfo()\n",
    "\n",
    "\n"
   ]
  },
  {
   "cell_type": "code",
   "execution_count": 58,
   "metadata": {},
   "outputs": [
    {
     "name": "stdout",
     "output_type": "stream",
     "text": [
      "Employee 생성자\n",
      "나이:40, tell:일하는 동물\n",
      "40\n",
      "20\n"
     ]
    }
   ],
   "source": [
    "#super()\n",
    "class Person:\n",
    "    say = \"난 사람이다\"\n",
    "    #__age = \"20\"       # 하나의 Private에 보통 2개의 메서드가 있어야함 (1. 설정 set(setter메서드) 2. 조회 get(getter메서드)<-관례임)\n",
    "    age = \"20\"\n",
    "    \n",
    "    def __init__(self, age):     # __age 라서 외부접근이 안되니까 여기에서 age를 수정할 수 있게끔? \n",
    "        print(\"Person 생성자\")\n",
    "        self.age = age\n",
    "        \n",
    "    def printinfo(self):\n",
    "        print(\"나이:{}, tell:{}\".format(self.age, self.say))\n",
    "        \n",
    "    def hello(self):\n",
    "        print(\"안녕\")\n",
    "        \n",
    "#     def setAge(self, age):    # 값을 설정\n",
    "#         self.__age = age\n",
    "        \n",
    "#     def getAge(self):         # 값을 조회\n",
    "#         return self.__age\n",
    "\n",
    "#########################################################################################\n",
    "\n",
    "class Employee(Person):         # 써놓지 않아고 이미 age란 변수가 존재하고 있다.(상속)\n",
    "    say = \"일하는 동물\"         \n",
    "    subject = \"근로자\"\n",
    "    \n",
    "    def __init__(self):\n",
    "        print(\"Employee 생성자\")\n",
    "        \n",
    "    def eprintinfo(self):\n",
    "        print(self.age)    # age 변수는 두개이다! 부모가 갖고 있는것, 자식이 갖고 있는것\n",
    "        print(super().age)    # super() : 부모의 주소를 가지고 온다\n",
    "\n",
    "#########################################################################################\n",
    "    \n",
    "# main 모듈\n",
    "#e1 = Employee(30)  # __init에서 (self, age)로 설정했기때문에 age값을 써줘고 실행시켜야 함\n",
    "# e1.hello()\n",
    "# e1.printinfo()\n",
    "# dir(e1)\n",
    "# e1.__age = 20   # 새로운 변수하나 추가한 것으로 된다. (age 출력값의 변화는 없음)\n",
    "# e1.printinfo()\n",
    "# e1.setAge(20)    # setter method로 값 변경을 했다!\n",
    "# e1.printinfo()\n",
    "\n",
    "e2 = Employee()\n",
    "e2.age = 40\n",
    "e2.printinfo()\n",
    "e2.eprintinfo()"
   ]
  },
  {
   "cell_type": "code",
   "execution_count": 62,
   "metadata": {},
   "outputs": [
    {
     "name": "stdout",
     "output_type": "stream",
     "text": [
      "전화걸기\n",
      "통화 기능\n",
      "통화기능 + 카메라 기능\n",
      "통화기능 + 카메라 기능 + 인터넷 기능\n"
     ]
    }
   ],
   "source": [
    "# Override를 이용한 다형성\n",
    "class Phone:\n",
    "    def call(self):\n",
    "        print(\"전화걸기\")\n",
    "#########################################################################################\n",
    "class FolderPhone(Phone):\n",
    "    def call(self):\n",
    "        print(\"통화 기능\")\n",
    "#########################################################################################\n",
    "class CameraPhone(Phone):\n",
    "    def call(self):\n",
    "        print(\"통화기능 + 카메라 기능\")\n",
    "#########################################################################################\n",
    "class SmartPhone(Phone):\n",
    "    def call(self):\n",
    "        print(\"통화기능 + 카메라 기능 + 인터넷 기능\")\n",
    "#########################################################################################\n",
    "\n",
    "p = Phone()\n",
    "p.call()\n",
    "\n",
    "p = FolderPhone()    # 재정의 (override), 공통된 하나의 이름으로 다양한 기능을 표현? 할 수 있다.  표준화와 비..슷..?\n",
    "p.call()\n",
    "\n",
    "p = CameraPhone()\n",
    "p.call()\n",
    "\n",
    "p = SmartPhone()\n",
    "p.call()"
   ]
  },
  {
   "cell_type": "code",
   "execution_count": 71,
   "metadata": {},
   "outputs": [
    {
     "name": "stdout",
     "output_type": "stream",
     "text": [
      "TV볼륨의 크기는 -30로 감소되었습니다.\n",
      "Radio볼륨의 크기는 10로 증가되었습니다.\n",
      "Speaker볼륨의 크기는 5로 증가되었습니다.\n"
     ]
    }
   ],
   "source": [
    "# 표준화\n",
    "class Volume:\n",
    "    vol = 0\n",
    "    def volumeup(self, vol):\n",
    "        pass\n",
    "#         self.vol += vol\n",
    "#         print(\"볼륨의 크기는 %d로 증가되었습니다.\"%self.vol)\n",
    "        \n",
    "    def volumedown(self):\n",
    "        pass\n",
    "#         self.vol -= vol\n",
    "#         print(\"볼륨의 크기는 %d로 감소되었습니다.\"%self.vol)\n",
    "#########################################################################################\n",
    "class TV(Volume):\n",
    "    def volumeup(self, vol):\n",
    "        self.vol += vol\n",
    "        print(\"TV볼륨의 크기는 %d로 증가되었습니다.\"%self.vol)\n",
    "        \n",
    "    def volumedown(self, vol):\n",
    "        self.vol -= vol\n",
    "        print(\"TV볼륨의 크기는 %d로 감소되었습니다.\"%self.vol)\n",
    "\n",
    "class Radio(Volume):\n",
    "    def volumeup(self, vol):\n",
    "        self.vol += vol\n",
    "        print(\"Radio볼륨의 크기는 %d로 증가되었습니다.\"%self.vol)\n",
    "        \n",
    "    def volumedown(self, vol):\n",
    "        self.vol -= vol\n",
    "        print(\"Radio볼륨의 크기는 %d로 감소되었습니다.\"%self.vol)\n",
    "\n",
    "class Speaker(Volume):\n",
    "    def volumeup(self, vol):\n",
    "        self.vol += vol\n",
    "        print(\"Speaker볼륨의 크기는 %d로 증가되었습니다.\"%self.vol)\n",
    "        \n",
    "    def volumedown(self, vol):\n",
    "        self.vol -= vol\n",
    "        print(\"Speaker볼륨의 크기는 %d로 감소되었습니다.\"%self.vol)\n",
    "        \n",
    "t = TV()\n",
    "r = Radio()\n",
    "s = Speaker()\n",
    "\n",
    "t.volumedown(30)\n",
    "r.volumeup(10)\n",
    "s.volumeup(5)\n",
    "    "
   ]
  },
  {
   "cell_type": "code",
   "execution_count": 72,
   "metadata": {},
   "outputs": [
    {
     "name": "stdout",
     "output_type": "stream",
     "text": [
      "통화 기능\n",
      "촬영 기능\n"
     ]
    }
   ],
   "source": [
    "# 다중 상속시, 부모 클래스는 최소한의! 공통 기능을 가지고 있어야함.\n",
    "class Phone:\n",
    "    def call(self):\n",
    "        print(\"통화 기능\")        \n",
    "#########################################################################\n",
    "class Camera:\n",
    "    def picture(self):\n",
    "        print(\"촬영 기능\")\n",
    "#########################################################################\n",
    "class PhoneCamera(Phone, Camera):\n",
    "    pass\n",
    "#########################################################################\n",
    "\n",
    "cp = PhoneCamera()\n",
    "cp.call()\n",
    "cp.picture()"
   ]
  },
  {
   "cell_type": "code",
   "execution_count": null,
   "metadata": {},
   "outputs": [],
   "source": [
    "# 추상 메서드 : 내용은 없고 껍데기만 있는 메서드.. 강제적임, 구속력이 있음. *반드시 overriding을 해야한다는 구속력(안하면 error 발생)"
   ]
  },
  {
   "cell_type": "code",
   "execution_count": 78,
   "metadata": {},
   "outputs": [
    {
     "ename": "TypeError",
     "evalue": "Can't instantiate abstract class Volume with abstract methods volumeUp",
     "output_type": "error",
     "traceback": [
      "\u001b[1;31m---------------------------------------------------------------------------\u001b[0m",
      "\u001b[1;31mTypeError\u001b[0m                                 Traceback (most recent call last)",
      "\u001b[1;32m<ipython-input-78-4b92d77ac204>\u001b[0m in \u001b[0;36m<module>\u001b[1;34m\u001b[0m\n\u001b[0;32m     17\u001b[0m \u001b[0mtest\u001b[0m \u001b[1;33m=\u001b[0m \u001b[0mTestVolume\u001b[0m\u001b[1;33m(\u001b[0m\u001b[1;33m)\u001b[0m\u001b[1;33m\u001b[0m\u001b[1;33m\u001b[0m\u001b[0m\n\u001b[0;32m     18\u001b[0m \u001b[1;33m\u001b[0m\u001b[0m\n\u001b[1;32m---> 19\u001b[1;33m \u001b[0mvolume\u001b[0m \u001b[1;33m=\u001b[0m \u001b[0mVolume\u001b[0m\u001b[1;33m(\u001b[0m\u001b[1;33m)\u001b[0m\u001b[1;33m\u001b[0m\u001b[1;33m\u001b[0m\u001b[0m\n\u001b[0m",
      "\u001b[1;31mTypeError\u001b[0m: Can't instantiate abstract class Volume with abstract methods volumeUp"
     ]
    }
   ],
   "source": [
    "from abc import *      #abc=abstract 약자  * : 모든걸 import하겠다  # 추상클래스가 되면 객체를 생성할 수가 없다.\n",
    "\n",
    "class Volume(metaclass=ABCMeta):\n",
    "    vol = 0\n",
    "    \n",
    "    @abstractmethod\n",
    "    def volumeUp(self, vol):\n",
    "        pass\n",
    "        \n",
    "    def volumeDown(self, vol):  # 이건 일반 method라서 강제력 없음\n",
    "        pass\n",
    "##########################################################################\n",
    "class TestVolume(Volume):\n",
    "    def volumeUp(self, vol):\n",
    "        print(\"소리 증가\")\n",
    "##########################################################################\n",
    "test = TestVolume()\n",
    "\n",
    "volume = Volume()  # 불가 Why? 목적을 명확하게 하기 위해 자식클래스에 집중..쓸데없는 객체가 생기는 일이 방지됌. "
   ]
  },
  {
   "cell_type": "code",
   "execution_count": 81,
   "metadata": {
    "collapsed": true
   },
   "outputs": [
    {
     "data": {
      "text/plain": [
       "['__abs__',\n",
       " '__add__',\n",
       " '__and__',\n",
       " '__bool__',\n",
       " '__ceil__',\n",
       " '__class__',\n",
       " '__delattr__',\n",
       " '__dir__',\n",
       " '__divmod__',\n",
       " '__doc__',\n",
       " '__eq__',\n",
       " '__float__',\n",
       " '__floor__',\n",
       " '__floordiv__',\n",
       " '__format__',\n",
       " '__ge__',\n",
       " '__getattribute__',\n",
       " '__getnewargs__',\n",
       " '__gt__',\n",
       " '__hash__',\n",
       " '__index__',\n",
       " '__init__',\n",
       " '__init_subclass__',\n",
       " '__int__',\n",
       " '__invert__',\n",
       " '__le__',\n",
       " '__lshift__',\n",
       " '__lt__',\n",
       " '__mod__',\n",
       " '__mul__',\n",
       " '__ne__',\n",
       " '__neg__',\n",
       " '__new__',\n",
       " '__or__',\n",
       " '__pos__',\n",
       " '__pow__',\n",
       " '__radd__',\n",
       " '__rand__',\n",
       " '__rdivmod__',\n",
       " '__reduce__',\n",
       " '__reduce_ex__',\n",
       " '__repr__',\n",
       " '__rfloordiv__',\n",
       " '__rlshift__',\n",
       " '__rmod__',\n",
       " '__rmul__',\n",
       " '__ror__',\n",
       " '__round__',\n",
       " '__rpow__',\n",
       " '__rrshift__',\n",
       " '__rshift__',\n",
       " '__rsub__',\n",
       " '__rtruediv__',\n",
       " '__rxor__',\n",
       " '__setattr__',\n",
       " '__sizeof__',\n",
       " '__str__',\n",
       " '__sub__',\n",
       " '__subclasshook__',\n",
       " '__truediv__',\n",
       " '__trunc__',\n",
       " '__xor__',\n",
       " 'bit_length',\n",
       " 'conjugate',\n",
       " 'denominator',\n",
       " 'from_bytes',\n",
       " 'imag',\n",
       " 'numerator',\n",
       " 'real',\n",
       " 'to_bytes']"
      ]
     },
     "execution_count": 81,
     "metadata": {},
     "output_type": "execute_result"
    }
   ],
   "source": [
    "dir(object)\n",
    "i = 10\n",
    "dir(i)"
   ]
  },
  {
   "cell_type": "code",
   "execution_count": 90,
   "metadata": {},
   "outputs": [
    {
     "name": "stdout",
     "output_type": "stream",
     "text": [
      "파이썬 클래스\n",
      "파이썬 클래스\n",
      "\n",
      "데이터 변경\n",
      "데이터 변경\n",
      "데이터 변경\n",
      "\n",
      "데이터 변경\n",
      "데이터 변경\n",
      "i2 데이터만 변경\n"
     ]
    }
   ],
   "source": [
    "# __class__, __slots__\n",
    "class Test:\n",
    "    data = \"파이썬 클래스\"\n",
    "##########################################################################\n",
    "i1 = Test()\n",
    "i2 = Test()\n",
    "print(i1.data)\n",
    "print(i2.data)\n",
    "print()\n",
    "i1.__class__.data = \"데이터 변경\"\n",
    "print(Test.data)\n",
    "print(i1.data)\n",
    "print(i2.data)\n",
    "print()\n",
    "i2.data = \"i2 데이터만 변경\"\n",
    "print(Test.data)\n",
    "print(i1.data)\n",
    "print(i2.data)"
   ]
  },
  {
   "cell_type": "code",
   "execution_count": 96,
   "metadata": {},
   "outputs": [
    {
     "name": "stdout",
     "output_type": "stream",
     "text": [
      "호랑이 20\n"
     ]
    },
    {
     "ename": "AttributeError",
     "evalue": "'Animal' object has no attribute 'title'",
     "output_type": "error",
     "traceback": [
      "\u001b[1;31m---------------------------------------------------------------------------\u001b[0m",
      "\u001b[1;31mAttributeError\u001b[0m                            Traceback (most recent call last)",
      "\u001b[1;32m<ipython-input-96-c8edecd5ab4a>\u001b[0m in \u001b[0;36m<module>\u001b[1;34m\u001b[0m\n\u001b[0;32m     12\u001b[0m \u001b[0ma\u001b[0m\u001b[1;33m.\u001b[0m\u001b[0mprintData\u001b[0m\u001b[1;33m(\u001b[0m\u001b[1;33m)\u001b[0m\u001b[1;33m\u001b[0m\u001b[1;33m\u001b[0m\u001b[0m\n\u001b[0;32m     13\u001b[0m \u001b[1;33m\u001b[0m\u001b[0m\n\u001b[1;32m---> 14\u001b[1;33m \u001b[0ma\u001b[0m\u001b[1;33m.\u001b[0m\u001b[0mtitle\u001b[0m \u001b[1;33m=\u001b[0m \u001b[1;34m\"동물\"\u001b[0m\u001b[1;33m\u001b[0m\u001b[1;33m\u001b[0m\u001b[0m\n\u001b[0m\u001b[0;32m     15\u001b[0m \u001b[0ma\u001b[0m\u001b[1;33m.\u001b[0m\u001b[0mprintData\u001b[0m\u001b[1;33m(\u001b[0m\u001b[1;33m)\u001b[0m\u001b[1;33m\u001b[0m\u001b[1;33m\u001b[0m\u001b[0m\n",
      "\u001b[1;31mAttributeError\u001b[0m: 'Animal' object has no attribute 'title'"
     ]
    }
   ],
   "source": [
    "# __slots__\n",
    "\n",
    "class Animal:\n",
    "    __slots__ = [\"name\", \"nai\"]  # 요 것들만 추가,수정해서 쓰겠다고 제한시킴\n",
    "    def printData(self):\n",
    "        print(self.name, self.nai)   # 특정 개체의 변수를 넣을 수 있다???\n",
    "##########################################################################\n",
    "a = Animal()\n",
    "# a.printData()\n",
    "a.name = \"호랑이\"\n",
    "a.nai = 20\n",
    "a.printData()\n",
    "\n",
    "a.title = \"동물\""
   ]
  },
  {
   "cell_type": "code",
   "execution_count": 7,
   "metadata": {},
   "outputs": [
    {
     "name": "stdout",
     "output_type": "stream",
     "text": [
      "tom의 회전량은우회전10\n",
      "tom의 회전량은좌회전-8\n"
     ]
    }
   ],
   "source": [
    "# 자동차와 핸들\n",
    "class PohamHandle:\n",
    "    quantity = 0\n",
    "\n",
    "    def leftTurn(self, quantity):          #좌회전인 경우 수행\n",
    "        self.quantity = quantity         #quantity에 회전량 기억\n",
    "        return '좌회전'\n",
    "    def rightTurn(self, quantity):        #우회전인 경우 수행\n",
    "        self.quantity = quantity\n",
    "        return '우회전'\n",
    "\n",
    "    def straight(self, quantity):          #직진인 경우 수행\n",
    "        self.quantity = quantity\n",
    "        return '직진'\n",
    "#######################################################################\n",
    "class PohamCar:\n",
    "    turnShow = '정지'\n",
    "\n",
    "    def __init__(self, ownerName):\n",
    "        self.ownerName = ownerName  #인스턴스 별로 ownerName 멤버 등록\n",
    "        self.handle = PohamHandle()    #클래스의 포함  의존관계\n",
    "\n",
    "    def turnHandle(self, q):             #q 값으로 회전방향 결정\n",
    "        if q > 0:\n",
    "            self.turnShow = self.handle.rightTurn(q)\n",
    "        elif q < 0:\n",
    "            self.turnShow = self.handle.leftTurn(q)\n",
    "        elif q == 0:\n",
    "            self.turnShow = self.handle.straight(q)\n",
    "#######################################################################\n",
    "# 메인 모듈\n",
    "tom = PohamCar(\"tom\") # handle과는 관계없음\n",
    "tom.turnHandle(10)\n",
    "print(tom.ownerName + \"의 회전량은\" + tom.turnShow + str(tom.handle.quantity))\n",
    "\n",
    "tom.turnHandle(-8)\n",
    "print(tom.ownerName + \"의 회전량은\" + tom.turnShow + str(tom.handle.quantity))"
   ]
  },
  {
   "cell_type": "code",
   "execution_count": 8,
   "metadata": {},
   "outputs": [
    {
     "name": "stdout",
     "output_type": "stream",
     "text": [
      "냉장고 문 열기\n",
      "냉장고 속에 음식이 들어감\n",
      "- 사과 2019-03-31\n",
      "\n",
      "냉장고 문 닫기\n"
     ]
    }
   ],
   "source": [
    "class Fridge:\n",
    "    isOpened = False   #냉장고 문 개폐 여부 확인용\n",
    "    foods = []          #FoodData type 자료 저장용\n",
    "\n",
    "    def open(self):      #냉장고 문 열기 메소드\n",
    "        self.isOpened = True\n",
    "        print('냉장고 문 열기')\n",
    "\n",
    "    def put(self, thing):  #냉장고에 음식물 넣기 메소드\n",
    "        if self.isOpened:\n",
    "            self.foods.append(thing)   #포함\n",
    "            print('냉장고 속에 음식이 들어감')\n",
    "            self.list()\n",
    "        else:\n",
    "            print('냉장고 문이 닫혀서 음식을 넣을 수 없음')\n",
    "\n",
    "    def close(self):     #냉장고 문 닫기 메소드\n",
    "        self.isOpened = False\n",
    "        print('냉장고 문 닫기')\n",
    "\n",
    "    def list(self):       #냉장고 속 음식물 목록 보기\n",
    "        for f in self.foods:\n",
    "            print('-', f.irum, f.expiry_date)\n",
    "        print()\n",
    "###############################################################################\n",
    "class FoodData:\n",
    "    def __init__(self, irum, expiry_date):\n",
    "        self.irum = irum\n",
    "        self.expiry_date = expiry_date\n",
    "###############################################################################\n",
    "# main\n",
    "\n",
    "f = Fridge()\n",
    "apple = FoodData(\"사과\", \"2019-03-31\")\n",
    "\n",
    "f.open()\n",
    "f.put(apple)  # 매개변수가 FoodData 됌.  포함관계?? # 결과: 냉장고 속에 음식이 들어감 - 사과 2019-03-31\n",
    "f.close()\n"
   ]
  },
  {
   "cell_type": "code",
   "execution_count": null,
   "metadata": {},
   "outputs": [],
   "source": []
  },
  {
   "cell_type": "code",
   "execution_count": null,
   "metadata": {},
   "outputs": [],
   "source": []
  },
  {
   "cell_type": "code",
   "execution_count": null,
   "metadata": {},
   "outputs": [],
   "source": []
  },
  {
   "cell_type": "code",
   "execution_count": null,
   "metadata": {},
   "outputs": [],
   "source": []
  },
  {
   "cell_type": "code",
   "execution_count": null,
   "metadata": {},
   "outputs": [],
   "source": []
  },
  {
   "cell_type": "code",
   "execution_count": null,
   "metadata": {},
   "outputs": [],
   "source": []
  }
 ],
 "metadata": {
  "kernelspec": {
   "display_name": "Python 3",
   "language": "python",
   "name": "python3"
  },
  "language_info": {
   "codemirror_mode": {
    "name": "ipython",
    "version": 3
   },
   "file_extension": ".py",
   "mimetype": "text/x-python",
   "name": "python",
   "nbconvert_exporter": "python",
   "pygments_lexer": "ipython3",
   "version": "3.7.1"
  }
 },
 "nbformat": 4,
 "nbformat_minor": 2
}
