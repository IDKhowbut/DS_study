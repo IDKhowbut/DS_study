{
 "cells": [
  {
   "cell_type": "markdown",
   "metadata": {},
   "source": [
    "# 함수(function)\n",
    "\n",
    "## 1. 함수의 정의 : 일정한 작업을 수행하는 코드 블럭\n",
    "\n",
    "## 2. 함수의 장점 \n",
    "    \n",
    "    1) 반복적인 코드를 없애주어 코드의 길이를 짧게 만들어 준다.\n",
    "    2) 프로그램의 유지보수를 쉽게 만들어준다.\n",
    "  \n",
    "## 3. 함수의 정의\n",
    "    \n",
    "    def 함수명(...): <-괄호 안에 무언가 있을수도/없을수도 있음, :은 블럭의 시작\n",
    "        기능 정의\n",
    "        ...\n",
    "    [return ...] <-[] : 생략가능하다는 의미에서 쓴 기호임3\n",
    "    \n",
    "## 4. 함수의 호출 방식\n",
    "    \n",
    "    1) 인자(인수)가 없는 방식 (jump)\n",
    "    2) 인자가 있는 방식 (jump)\n",
    "    3) 반환값의 여부 : return\n",
    "        - 함수에서 처리된 값을 반환\n",
    "        - 함수의 강제 종료"
   ]
  },
  {
   "cell_type": "code",
   "execution_count": 7,
   "metadata": {},
   "outputs": [
    {
     "name": "stdout",
     "output_type": "stream",
     "text": [
      "********************\n",
      "\t채팅 프로그램\n",
      "****************************************\n",
      "1. 방 만들기\n",
      "2. 나가기\n",
      "******************************\n"
     ]
    }
   ],
   "source": [
    "def line(cnt) : #cnt: 매개변수,parameter (값은 올 수 없다!)\n",
    "    #print(\"*************************************\")  모듈화 / 모듈화의 최소단위\n",
    "    for v in range(cnt):\n",
    "        print(\"*\", end=\"\")\n",
    "    print()\n",
    "    \n",
    "############################################################################\n",
    "\n",
    "line(20)                       # 함수 호출, de line()이 있는 위치로 연결되어 for문이 실행되는것(실행위치 변화), 끝나고 복귀 = interrupt\n",
    "print(\"\\t채팅 프로그램\")\n",
    "line(40)                       #line(비어있음): 인자가 없는 방식 line(입력값) - *입력값=실인자(argument)\n",
    "print(\"1. 방 만들기\")\n",
    "print(\"2. 나가기\")\n",
    "line(30)"
   ]
  },
  {
   "cell_type": "code",
   "execution_count": 10,
   "metadata": {},
   "outputs": [
    {
     "name": "stdout",
     "output_type": "stream",
     "text": [
      "********************\n",
      "\t채팅 프로그램\n",
      "----------------------------------------\n",
      "1. 방 만들기\n",
      "2. 나가기\n",
      "==============================\n"
     ]
    }
   ],
   "source": [
    "def line(cnt, type):                 #parameter의 갯수와, 밑의 호출할때의 함수에서의 parameter 갯수 동일해야 함\n",
    "    for v in range(cnt):\n",
    "        print(type, end=\"\")\n",
    "    print()\n",
    "    \n",
    "############################################################################\n",
    "\n",
    "line(20, \"*\")                       \n",
    "print(\"\\t채팅 프로그램\")\n",
    "line(40, \"-\")                       \n",
    "print(\"1. 방 만들기\")\n",
    "print(\"2. 나가기\")\n",
    "line(30, \"=\")"
   ]
  },
  {
   "cell_type": "code",
   "execution_count": 12,
   "metadata": {
    "scrolled": true
   },
   "outputs": [
    {
     "name": "stdout",
     "output_type": "stream",
     "text": [
      "********************\n",
      "반환된 결과: 20\n",
      "\t채팅 프로그램\n",
      "----------------------------------------\n",
      "1. 방 만들기\n",
      "2. 나가기\n",
      "==============================\n"
     ]
    },
    {
     "data": {
      "text/plain": [
       "30"
      ]
     },
     "execution_count": 12,
     "metadata": {},
     "output_type": "execute_result"
    }
   ],
   "source": [
    "# 3)반환값의 여부 (return, 복귀할 때)  복귀할 때 빈손으로 오는게 아닌 어떤 값? 을 가지고 오고 싶을 때\n",
    "    #반환값으로 작업을 이어나가야할 때 return을 써주는 것임!\n",
    "\n",
    "def line(cnt, type):                 \n",
    "    for v in range(cnt):\n",
    "        print(type, end=\"\")\n",
    "    print()\n",
    "    return cnt         #이 return값을 받아서 저장해 줄 수 있는 변수를 써줘야함. 예) 아랫줄의 result같은.,\n",
    "\n",
    "############################################################################\n",
    "\n",
    "result = line(20, \"*\")    \n",
    "print(\"반환된 결과:\", result)\n",
    "print(\"\\t채팅 프로그램\")\n",
    "line(40, \"-\")                       \n",
    "print(\"1. 방 만들기\")\n",
    "print(\"2. 나가기\")\n",
    "line(30, \"=\")"
   ]
  },
  {
   "cell_type": "code",
   "execution_count": 16,
   "metadata": {},
   "outputs": [
    {
     "name": "stdout",
     "output_type": "stream",
     "text": [
      "두 수의 교환\n",
      "결과: 5, 10\n"
     ]
    }
   ],
   "source": [
    "def swap(n1, n2):\n",
    "    n3 = n1\n",
    "    n1 = n2\n",
    "    n2 = n3\n",
    "    print(\"결과: {}, {}\".format(n1,n2))\n",
    "\n",
    "#이게 바로 모듈화임!\n",
    "\n",
    "######################################################\n",
    "num1 = 10\n",
    "num2 = 5\n",
    "\n",
    "print(\"두 수의 교환\") # switch or swap\n",
    "swap(num1, num2)\n",
    "# num3 = num1  # 하나의 변수를 새로 만들어주어 해결한다.\n",
    "# num1 = num2\n",
    "# num2 = num3\n",
    "# print(\"결과: {}, {}\".format(num1,num2))"
   ]
  },
  {
   "cell_type": "code",
   "execution_count": 20,
   "metadata": {},
   "outputs": [
    {
     "name": "stdout",
     "output_type": "stream",
     "text": [
      "두 수의 교환\n",
      "결과: 5, 10\n"
     ]
    }
   ],
   "source": [
    "def swap(n1, n2):\n",
    "    n3 = n1\n",
    "    n1 = n2\n",
    "    n2 = n3\n",
    "    return (n1, n2)     #파이썬은 return을 여러값을 할 수 있다. (다른언어는 못함?)\n",
    "    print(\"실행되지 않는 불필요한 것\")  #return에서 중단되었기 때문\n",
    "######################################################\n",
    "\n",
    "num1 = 10\n",
    "num2 = 5\n",
    "\n",
    "print(\"두 수의 교환\")                   # switch or swap\n",
    "num1, num2 = swap(num1, num2)           #호출하고 return값을 num1, num2로 받은 것\n",
    "print(\"결과: {}, {}\".format(num1,num2))"
   ]
  },
  {
   "cell_type": "code",
   "execution_count": null,
   "metadata": {},
   "outputs": [],
   "source": [
    "def swap(n1, n2):\n",
    "    n3 = n1\n",
    "    return     # n3 = n1 에서 중단하고 복귀함 (함수의 강제종료)\n",
    "    n1 = n2\n",
    "    n2 = n3\n",
    "    \n",
    "num1 = 10\n",
    "num2 = 5\n",
    "num1, num2 = swap(num1, num2)"
   ]
  },
  {
   "cell_type": "markdown",
   "metadata": {},
   "source": [
    "## 파이썬 함수의 특징"
   ]
  },
  {
   "cell_type": "code",
   "execution_count": 24,
   "metadata": {},
   "outputs": [
    {
     "name": "stdout",
     "output_type": "stream",
     "text": [
      "전국 대표\n",
      "funcSoccer 내부:  전국 대표\n"
     ]
    }
   ],
   "source": [
    "# 변수의 생존 범위(또는 유효 범위) : 전역변수, 지역변수 <-stack의 특징을 가져온 함수\n",
    "# 전역변수는 관리가 힘듦. 되도록이면 쓰지말것.. 지역변수는 관리가 용이 but 지역제한이 있다. 하지만 지역변수를 대부분 사용함\n",
    "player = \"전국 대표\"\n",
    "\n",
    "def funcSoccer():\n",
    "    name = \"홍길동\"\n",
    "    print(\"funcSoccer 내부: \", player)\n",
    "    \n",
    "print(player)\n",
    "funcSoccer()\n",
    "#print(name)  오류발생. name의 정의는 함수 안에서만 한정되었기 때문에 함수를 벗어나면 정의할 수가 없다."
   ]
  },
  {
   "cell_type": "code",
   "execution_count": 1,
   "metadata": {},
   "outputs": [
    {
     "name": "stdout",
     "output_type": "stream",
     "text": [
      "전국 대표\n",
      "funcSoccer 내부:  홍길동 지역 대표\n",
      "지역 대표\n"
     ]
    }
   ],
   "source": [
    "player = \"전국 대표\"\n",
    "\n",
    "def funcSoccer():\n",
    "    global player       #전역변수\n",
    "    \n",
    "    name = \"홍길동\"\n",
    "    player = \"지역 대표\"\n",
    "    print(\"funcSoccer 내부: \", name, player)\n",
    "    \n",
    "print(player)\n",
    "funcSoccer()\n",
    "print(player)"
   ]
  },
  {
   "cell_type": "code",
   "execution_count": 32,
   "metadata": {},
   "outputs": [
    {
     "name": "stdout",
     "output_type": "stream",
     "text": [
      "안녕하세요~ 홍길동\n",
      "안녕하세요~ 무명씨\n"
     ]
    }
   ],
   "source": [
    "# default 인수\n",
    "def hello(name=\"무명씨\"):\n",
    "    print(\"안녕하세요~\", name)\n",
    "\n",
    "##################################################\n",
    "\n",
    "hello(\"홍길동\")\n",
    "hello()"
   ]
  },
  {
   "cell_type": "code",
   "execution_count": 2,
   "metadata": {},
   "outputs": [
    {
     "name": "stdout",
     "output_type": "stream",
     "text": [
      "안녕하세요~ 홍길동\n",
      "반드시 이름을 입력하세요\n",
      "안녕하세요~30님! 당신의 나이는임꺽정세 입니다.\n",
      "안녕하세요~None님! 당신의 나이는신돌석세 입니다.\n",
      "안녕하세요~None님! 당신의 나이는25세 입니다.\n"
     ]
    }
   ],
   "source": [
    "# default 인수\n",
    "def hello(name = None):\n",
    "    if name == None:\n",
    "        print(\"반드시 이름을 입력하세요\")\n",
    "        return\n",
    "    \n",
    "    print(\"안녕하세요~\", name)\n",
    "    \n",
    "def hello2(age = 25, name = None):                         #default값 = 25  default인수는 반드시 오른쪽부터 채워야함\n",
    "    #print(\"안녕하세요~%s님~! 당신의 나이는 %d세입니다.\"%(name, age))\n",
    "    print(\"안녕하세요~{}님! 당신의 나이는{}세 입니다.\".format(name, age))\n",
    "\n",
    "##################################################\n",
    "\n",
    "hello(\"홍길동\")\n",
    "hello()\n",
    "hello2(\"임꺽정\", 30)\n",
    "hello2(\"신돌석\")\n",
    "hello2()"
   ]
  },
  {
   "cell_type": "code",
   "execution_count": 47,
   "metadata": {
    "collapsed": true
   },
   "outputs": [
    {
     "name": "stdout",
     "output_type": "stream",
     "text": [
      "안녕하세요~ 홍길동\n",
      "반드시 이름을 입력하세요\n",
      "안녕하세요~30님! 당신의 나이는임꺽정세 입니다.\n",
      "안녕하세요~None님! 당신의 나이는신돌석세 입니다.\n",
      "안녕하세요~None님! 당신의 나이는25세 입니다.\n",
      "안녕하세요~신돌석님! 당신의 나이는30세 입니다.\n"
     ]
    }
   ],
   "source": [
    "# default 인수\n",
    "def hello(name = None):\n",
    "    if name == None:\n",
    "        print(\"반드시 이름을 입력하세요\")\n",
    "        return\n",
    "    \n",
    "    print(\"안녕하세요~\", name)\n",
    "    \n",
    "def hello2(age = 25, name = None):                         #default값 = 25  default인수는 반드시 오른쪽부터 채워야함\n",
    "    #print(\"안녕하세요~%s님~! 당신의 나이는 %d세입니다.\"%(name, age))\n",
    "    print(\"안녕하세요~{}님! 당신의 나이는{}세 입니다.\".format(name, age))\n",
    "\n",
    "##################################################\n",
    "\n",
    "hello(\"홍길동\")\n",
    "hello()\n",
    "hello2(\"임꺽정\", 30)\n",
    "hello2(\"신돌석\")\n",
    "hello2()\n",
    "hello2(name=\"신돌석\", age=30) #직접 키워드 매칭"
   ]
  },
  {
   "cell_type": "code",
   "execution_count": 4,
   "metadata": {},
   "outputs": [
    {
     "name": "stdout",
     "output_type": "stream",
     "text": [
      "홍길동 님 환영합니다.\n",
      "홍길동 님 환영합니다.\n",
      "임꺽정 님 환영합니다.\n",
      "홍길동 님 환영합니다.\n",
      "임꺽정 님 환영합니다.\n",
      "scott 님 환영합니다.\n",
      "----------------------------------------------\n",
      "<class 'tuple'>\n",
      "<class 'tuple'>\n",
      "<class 'tuple'>\n",
      "scott 님 환영합니다.\n"
     ]
    }
   ],
   "source": [
    "# 가변 인수\n",
    "def greeting(name):\n",
    "    pass #함수의 내용 아직 없을때 오류안나도록 pass쓸 수 있음,\n",
    "    for n in name:\n",
    "        print(n, \"님 환영합니다.\")\n",
    "\n",
    "def greeting2(weight=0, height=0, *name): # * : 인자의 개수와 상관없이 할당할 수 있음 / *변수(수정용)로 쓰던걸 인자에서도 다르게 활용가능.\n",
    "    #weight=0, height=0 <-default처리한 것임 (error해결)\n",
    "    print(type(name))\n",
    "    #출력결과 : class tuple\n",
    "    for n in name:\n",
    "        print(n, \"님 환영합니다.\")\n",
    "\n",
    "greeting([\"홍길동\"]) #[]로 안묶어주면 각각의 글자들이 하나씩 출력됌\n",
    "greeting([\"홍길동\", \"임꺽정\"])  #[]로 묶어주면 하나로 보아서 error나지 않음\n",
    "greeting([\"홍길동\", \"임꺽정\", \"scott\"])\n",
    "\n",
    "print(\"----------------------------------------------\")\n",
    "\n",
    "greeting2(\"홍길동\") \n",
    "greeting2(\"홍길동\", \"임꺽정\") \n",
    "greeting2(\"홍길동\", \"임꺽정\", \"scott\")"
   ]
  },
  {
   "cell_type": "code",
   "execution_count": 63,
   "metadata": {},
   "outputs": [
    {
     "name": "stdout",
     "output_type": "stream",
     "text": [
      "50 170\n",
      "{'irum': '홍길동', 'age': 20, 'addr': '서울시'}\n"
     ]
    }
   ],
   "source": [
    "def Info(w, h, **other):       # w=weight h=height  #** : dict형을 갖기위한 집합자료, 이 역시 갯수와 상관없이 print할 수 있다?\n",
    "    print(w, h)\n",
    "    print(other)\n",
    "    \n",
    "Info(50, 170, irum=\"홍길동\", age=20, addr=\"서울시\")  #변수는 값을 하나만 받을 수 있어서 irum=\"홍길동\" 이런 형태는 힘들다.\n",
    "#키와 값을 dict형으로 하나로 받을 수 있는 작업을 해줘야함 =>**"
   ]
  },
  {
   "cell_type": "code",
   "execution_count": 64,
   "metadata": {},
   "outputs": [
    {
     "name": "stdout",
     "output_type": "stream",
     "text": [
      "{'name': '홍길동', 'job': 'PD', 'age': 30}\n"
     ]
    }
   ],
   "source": [
    "def set_person(name, job, age):\n",
    "    person ={\"name\":name, \"job\":job, \"age\":age}\n",
    "    return person\n",
    "\n",
    "result = set_person(\"홍길동\", \"PD\", 30)\n",
    "print(result)"
   ]
  },
  {
   "cell_type": "markdown",
   "metadata": {},
   "source": [
    "# 사용자 정의 함수\n",
    "\n",
    "  1) 내장 함수 (외울 필요없지만 연습을 통해 익혀둘 것!) : 파이썬에 기본으로 깔려있는 함수\n",
    "  \n",
    "  2) 외장 함수 : 내가 따로 추가해서 써야하는 함수"
   ]
  },
  {
   "cell_type": "markdown",
   "metadata": {},
   "source": [
    "## 내장함수"
   ]
  },
  {
   "cell_type": "code",
   "execution_count": 68,
   "metadata": {},
   "outputs": [],
   "source": [
    "print? # 이렇게 함수이름에 ?를 붙이면 해당 함수 사용방법을 참고할 수 있느 페이지가 보여짐"
   ]
  },
  {
   "cell_type": "code",
   "execution_count": 98,
   "metadata": {
    "collapsed": true
   },
   "outputs": [
    {
     "name": "stdout",
     "output_type": "stream",
     "text": [
      "True\n",
      "False\n",
      "True\n",
      "False\n",
      "0 홍길동\n",
      "1 임꺽정\n",
      "2 Tom\n",
      "3 Jerry\n",
      "3+4\n",
      "7\n",
      "7\n",
      "수식을 입력 : 3+4\n",
      "7\n",
      "(2, 1)\n"
     ]
    }
   ],
   "source": [
    "#~~~~~~~~~~~~~~~~~~~~~~~~~~~\n",
    "# all(), any()              #and연산자와 or연산자를 함수시키 놓음 \n",
    "#~~~~~~~~~~~~~~~~~~~~~~~~~~~~~~~\n",
    "print(all([1, 2,3, -1, 2]))\n",
    "print(all([1, 2,3, 0, -2]))\n",
    "\n",
    "print(any([1, 2,3, 0, -2]))\n",
    "print(any([0, \"\", None]))\n",
    "\n",
    "#------------------------------\n",
    "#divmod(a, b)\n",
    "#------------------------------\n",
    "# print(divmod(7,3))\n",
    "# print(divmod(1.3, 0.2)) #컴퓨터는 2진법을 이해하고 사용하다보니 실수(부동소수점)처리가 완벽하지 않을 수 있음.\n",
    "\n",
    "#--------------------------------------------------------------------------------------------------\n",
    "# enumerate(iterator) : 열거형 , 순서가 있는 자료형을 입력받아 인덱스 값을 포함해서 return\n",
    "#--------------------------------------------------------------------------------------------------\n",
    "for i, data in enumerate([\"홍길동\", \"임꺽정\", \"Tom\", \"Jerry\"]):\n",
    "    print(i, data)\n",
    "    \n",
    "#-------------------------------------------------------------------------\n",
    "# eval(expression) : 표현식을 파이썬에서 실행 가능하게 만들어주는 역할, 계산식의 경우 수식자체를 유효하게 만들어줌.\n",
    "#-------------------------------------------------------------------------\n",
    "print(\"3+4\") # 그냥 문자열\n",
    "print(eval(\"3+4\")) #계산값을 보여줌\n",
    "print(eval(\"3\") + eval(\"4\"))\n",
    "\n",
    "exp = input(\"수식을 입력 : \")\n",
    "print(eval(exp))\n",
    "\n",
    "print(eval(\"divmod(9, 4)\"))"
   ]
  },
  {
   "cell_type": "code",
   "execution_count": 105,
   "metadata": {},
   "outputs": [
    {
     "name": "stdout",
     "output_type": "stream",
     "text": [
      "20\n",
      "20 40 60 80 [20, 40, 60, 80]\n",
      "----------------------------------------\n",
      "<map object at 0x00000000052E6550>\n",
      "[20, 40, 60, 80]\n"
     ]
    }
   ],
   "source": [
    "#-------------------------------------------------------------------------\n",
    "# map(function, iterable) : 집합의 각 요소가 함수에 의해 수행된 결과를 묶어서 return\n",
    "# (함수의 주소를 넘겨라)\n",
    "#-------------------------------------------------------------------------\n",
    "def calc(x):\n",
    "    return x*2\n",
    "\n",
    "a = calc(10)\n",
    "print(a)\n",
    "\n",
    "# 함수를 여러번 호출해서 써야하는 경우에 map 함수를 사용함\n",
    "\n",
    "b = []\n",
    "for n in [10, 20, 30, 40]:\n",
    "    a = calc(n)                    # 함수를 직접적으로 사용\n",
    "    print(a, end = \" \")\n",
    "    b.append(a)\n",
    "    \n",
    "print(b)\n",
    "#이런 과정을 map이라는 함수로 과정을 줄일 수 있음\n",
    "print(\"----------------------------------------\")\n",
    "\n",
    "print(map(calc, [10, 20, 30, 40]))  #map에 calc함수 주소 알려줌 <- print실행하면 data의 주소만 알려줌(간접적 사용)\n",
    "\n",
    "# 이 경우, list함수를 써서 데이터확인이 가능하다!\n",
    "print(list(map(calc, [10, 20, 30, 40])))\n"
   ]
  },
  {
   "cell_type": "code",
   "execution_count": 6,
   "metadata": {},
   "outputs": [
    {
     "name": "stdout",
     "output_type": "stream",
     "text": [
      "[(1, 4, 7), (2, 5, 8), (3, 6, 9)]\n"
     ]
    }
   ],
   "source": [
    "#-------------------------------------------------------------------------\n",
    "# zip(iterable) : 동일한 갯수로 이루어진 자료형을 묶어주는 역할\n",
    "#-------------------------------------------------------------------------\n",
    "list1 = [1, 2, 3]\n",
    "list2 = [4, 5, 6]\n",
    "list3 = [7, 8, 9, 10]\n",
    "\n",
    "print(list(zip(list1, list2, list3)))  #pirnt없어도 동일한 결과값 출력됌."
   ]
  },
  {
   "cell_type": "code",
   "execution_count": null,
   "metadata": {},
   "outputs": [],
   "source": [
    "# 리스트 표현 관련하여:\n",
    "\n",
    " #둘 다 동일\n",
    " # A = list() : 가독성이 좋다.\n",
    " # A = [] : 코드의 길이가 짧다. "
   ]
  },
  {
   "cell_type": "code",
   "execution_count": 127,
   "metadata": {},
   "outputs": [
    {
     "name": "stdout",
     "output_type": "stream",
     "text": [
      "large size 피자를 주문하셨습니다.\n",
      "토핑: 더블 크러스트\n",
      "medium size 피자를 주문하셨습니다.\n",
      "토핑: 파인애플, 버섯, 토마토\n"
     ]
    }
   ],
   "source": [
    "#예제\n",
    "#order(\"large\", \"더블 크러스트\")\n",
    "'''\n",
    "large size 피자를 주문하셨습니다.\n",
    "토핑: 더블 크러스트\n",
    "\n",
    "'''\n",
    "\n",
    "#order(\"medium\", \"파인애플\", \"버섯\", \"토마토\")\n",
    "'''\n",
    "medium size 피자를 주문하셨습니다.\n",
    "토핑 : 파인애플, 버섯, 토마토\n",
    "'''\n",
    "\n",
    "def order(size, topping, *other):\n",
    "    print(size, \"size 피자를 주문하셨습니다.\")\n",
    "    print(\"토핑:\", topping, *other)\n",
    "order(\"large\", \"더블 크러스트\")\n",
    "order (\"medium\", \"파인애플,\", \"버섯,\", \"토마토\")\n"
   ]
  },
  {
   "cell_type": "markdown",
   "metadata": {},
   "source": [
    "## 외장 함수"
   ]
  },
  {
   "cell_type": "code",
   "execution_count": 28,
   "metadata": {
    "collapsed": true
   },
   "outputs": [
    {
     "name": "stdout",
     "output_type": "stream",
     "text": [
      "['C:\\\\chung\\\\pythonwork', 'C:\\\\Users\\\\acorn\\\\Anaconda3\\\\python37.zip', 'C:\\\\Users\\\\acorn\\\\Anaconda3\\\\DLLs', 'C:\\\\Users\\\\acorn\\\\Anaconda3\\\\lib', 'C:\\\\Users\\\\acorn\\\\Anaconda3', '', 'C:\\\\Users\\\\acorn\\\\Anaconda3\\\\lib\\\\site-packages', 'C:\\\\Users\\\\acorn\\\\Anaconda3\\\\lib\\\\site-packages\\\\win32', 'C:\\\\Users\\\\acorn\\\\Anaconda3\\\\lib\\\\site-packages\\\\win32\\\\lib', 'C:\\\\Users\\\\acorn\\\\Anaconda3\\\\lib\\\\site-packages\\\\Pythonwin', 'C:\\\\Users\\\\acorn\\\\Anaconda3\\\\lib\\\\site-packages\\\\IPython\\\\extensions', 'C:\\\\Users\\\\acorn\\\\.ipython']\n",
      "3.141592653589793\n",
      "C:\\chung\\pythonwork\n",
      "0.2934584702578955\n",
      "7\n",
      "Hello World!\n",
      "내가 만든 모듈입니다.\n",
      "110\n",
      "Hello World!\n",
      "내가 만든 모듈입니다.\n"
     ]
    }
   ],
   "source": [
    "#----------\n",
    "# sys \n",
    "#----------\n",
    "import sys   #sys.py라는 파일(모듈)을 불러오겠다는 의미\n",
    "print(sys.path)\n",
    "#sys.exit()\n",
    "dir(sys)\n",
    "sys.platform\n",
    "sys.version\n",
    "\n",
    "#-----------\n",
    "# math\n",
    "#-----------\n",
    "import math\n",
    "dir(math)\n",
    "print(math.pi)\n",
    "\n",
    "#-----------\n",
    "# OS\n",
    "#-----------\n",
    "import os\n",
    "print(os.getcwd())  #current working directory\n",
    "\n",
    "#-----------\n",
    "# random\n",
    "#-----------\n",
    "import random\n",
    "print(random.random())  #0부터 1사이의 난수를 보여줌\n",
    "print(random.randrange(1, 10)) #random범위를 정해놓고, 그 범위 안에서의 난수를 보여줌\n",
    "\n",
    "#-----------\n",
    "# mymodule\n",
    "#-----------\n",
    "import mymodule\n",
    "mymodule.display()\n",
    "print(mymodule.sum(10, 100))     #이런 모듈들이 모여서 라이브러리를 형성한다.\n",
    "dir(mymodule)\n",
    "\n",
    "from mymodule import display  # 더 추가할 경우 \",\" or 전체 추가하려면 앞에 \"*\"을 붙인다.\n",
    "display()"
   ]
  },
  {
   "cell_type": "markdown",
   "metadata": {},
   "source": [
    "## 명령행 인자(Command Line Argument)"
   ]
  },
  {
   "cell_type": "code",
   "execution_count": 69,
   "metadata": {},
   "outputs": [
    {
     "name": "stdout",
     "output_type": "stream",
     "text": [
      "해당 사항 없음\n",
      "해당 사항 없음\n"
     ]
    }
   ],
   "source": [
    "'''\n",
    "PhoneBook.py 프로그램을 작성한다.\n",
    "데이터 준비\n",
    "    홍길동, 010-111-1111, 서울시 강남구\n",
    "    임꺽정, 010-222-2221, 서울시 서초구\n",
    "    신돌석, 010-333-3331, 서울시 강북구\n",
    "\n",
    "프로그램 실행 결과\n",
    "python PhoneBook.py\n",
    "이름 : 임꺽정\n",
    "전화 : 010-222-2221\n",
    "주소 : 서울시 서초구\n",
    "'''\n",
    "\n",
    "import sys\n",
    "a = [\"홍길동\", \"010-111-1111\", \"서울시 강남구\"]\n",
    "b = [\"임꺽정\", \"010-222-2221\", \"서울시 서초구\"]\n",
    "c = [\"신돌석\", \"010-333-3331\", \"서울시 강북구\"]\n",
    "arg = sys.argv[1:]\n",
    "for v in arg:\n",
    "    if v == \"홍길동\":\n",
    "        print(\"이름: {0} \\n전화: {1} \\n주소: {2}\".format(a[0],a[1],a[2]))\n",
    "    elif v == \"임꺽정\":\n",
    "        print(\"이름: {0} \\n전화: {1} \\n주소: {2}\".format(b[0],b[1],b[2]))\n",
    "    elif v == \"신돌석\":\n",
    "        print(\"이름: {0} \\n전화: {1} \\n주소: {2}\".format(c[0],c[1],c[2]))\n",
    "    else:\n",
    "        print(\"해당 사항 없음\")\n"
   ]
  },
  {
   "cell_type": "code",
   "execution_count": 55,
   "metadata": {
    "collapsed": true
   },
   "outputs": [
    {
     "name": "stdout",
     "output_type": "stream",
     "text": [
      "2019-03-19 ,  2019 , 3 , 19\n",
      "2019-03-19 12:43:56.885835\n",
      "-1 day, 0:00:00\n",
      "어제 : 2019-03-18\n",
      "-1 57600\n",
      "2019-03-19 04:43:56.885835\n",
      "03/19/2019\n",
      "2019-03-19 12:43:56\n",
      "03/19/2019\n",
      "<class 'datetime.datetime'>\n",
      "<class 'str'>\n",
      "<class 'str'>\n",
      "<class 'datetime.datetime'>\n",
      "2019-03-19 12:41:50\n"
     ]
    }
   ],
   "source": [
    "# 날짜 관련 함수들\n",
    "from datetime import date, datetime, timedelta\n",
    "\n",
    "# 오늘 날짜\n",
    "today = date.today()\n",
    "print(today, \", \", today.year, \",\", today.month, \",\", today.day)\n",
    "\n",
    "# 시간\n",
    "ctime = datetime.today()\n",
    "print(ctime)\n",
    "\n",
    "# 날짜와 시간계산\n",
    "# timedelta?\n",
    "mydays = timedelta(days=-1)\n",
    "print(mydays)\n",
    "print(\"어제 : {}\".format(today+mydays))     #처음 사용하는 것은 꼭 document에서 확인하기\n",
    "\n",
    "myhours = timedelta(hours=-8)\n",
    "print(myhours.days, myhours.seconds)\n",
    "print(\"{}\".format(ctime + myhours))\n",
    "\n",
    "# 날짜 형식\n",
    "print(\"{}\".format(today.strftime(\"%m/%d/%Y\")))\n",
    "\n",
    "# 시, 분, 초\n",
    "print(\"{}\".format(ctime.strftime(\"%Y-%m-%d %H:%M:%S\")))\n",
    "\n",
    "# 날짜 형식(strftime(), strptime())\n",
    "print(\"%s\"%(today.strftime(\"%m/%d/%Y\")))  #날짜형->문자형\n",
    "print(type(ctime))\n",
    "d = ctime.strftime(\"%Y-%m-%d %H:%M:%S\")\n",
    "print(type(d))\n",
    "\n",
    "strDate = \"2019-3-19 12:41:50\"\n",
    "print(type(strDate))\n",
    "mydate = datetime.strptime(strDate, \"%Y-%m-%d %H:%M:%S\")   #문자형->날짜형\n",
    "print(type(mydate))\n",
    "print(mydate)"
   ]
  },
  {
   "cell_type": "markdown",
   "metadata": {},
   "source": [
    "## 파일처리\n",
    "\n",
    "    1) open(파일명(경로 포함), 모드)\n",
    "        - mode : r, w, a, rb(byte, 2진수로 저장, 2진파일), wb, ab\n",
    "        \n",
    "    2) close()\n",
    "    \n",
    "    3) 순차접근방식 (쓰기 조금 불편함)\n",
    "        예외적으로 임의접근을 지원 : seek(위치), tell(현재위치)"
   ]
  },
  {
   "cell_type": "code",
   "execution_count": 70,
   "metadata": {},
   "outputs": [
    {
     "name": "stdout",
     "output_type": "stream",
     "text": [
      "Hello World\n",
      "\n",
      "안녕 모두들\n"
     ]
    }
   ],
   "source": [
    "f = open(\"filetest.txt\", \"r\") # 불러올 파일이 같은 경로에 위치해있으면 파일명만 써주면 됌\n",
    "# print(id(f))\n",
    "# line = f.readline()\n",
    "# print(line)\n",
    "# line = f.readline()\n",
    "# print(line)\n",
    "\n",
    "# realdline() : 한 줄씩 문자열로 읽어들임\n",
    "while True:               # 무한 반복문\n",
    "    line = f.readline()   # f 의 meaning : 파일을 읽어와라\n",
    "    if not line :         # line의 값이 없는 경우\n",
    "         break\n",
    "            \n",
    "    print(line)\n",
    "    \n",
    "f.close()"
   ]
  },
  {
   "cell_type": "code",
   "execution_count": 74,
   "metadata": {},
   "outputs": [
    {
     "name": "stdout",
     "output_type": "stream",
     "text": [
      "<class 'list'>\n",
      "Hello World\n",
      "\n",
      "안녕 모두들\n"
     ]
    }
   ],
   "source": [
    "# readlines() : 모든 행을 한꺼번에 읽어서 각각의 행을 요소로 갖는 리스트형으로 반환\n",
    "f = open(\"filetest.txt\", \"r\")\n",
    "lines = f.readlines()\n",
    "print(type(lines))\n",
    "\n",
    "for line in lines:\n",
    "    print(line)\n",
    "f.close()"
   ]
  },
  {
   "cell_type": "code",
   "execution_count": 77,
   "metadata": {
    "scrolled": true
   },
   "outputs": [
    {
     "name": "stdout",
     "output_type": "stream",
     "text": [
      "<class 'str'>\n",
      "Hello World\n",
      "안녕 모두들\n"
     ]
    }
   ],
   "source": [
    "# read()\n",
    "f = open(\"filetest.txt\", \"r\")\n",
    "data = f.read()\n",
    "print(type(data))\n",
    "\n",
    "print(data)\n",
    "f.close()"
   ]
  },
  {
   "cell_type": "code",
   "execution_count": 79,
   "metadata": {},
   "outputs": [],
   "source": [
    "f = open(\"filetest2.txt\", \"w\")   # 저장할 때에는 없는 파일은 생성, BUT 읽어올 때에는 파일이 필요하겠쥬? #모드:w\n",
    "for i in range(10):      # 0~9 까지\n",
    "    data = \"안녕..%d\\n\" % i\n",
    "    f.write(data)  #file에다가 data를 출력하겠다는 이야기임=파일에 저장하겠다\n",
    "f.close()"
   ]
  },
  {
   "cell_type": "code",
   "execution_count": 80,
   "metadata": {},
   "outputs": [],
   "source": [
    "f = open(\"filetest2.txt\", \"a\")   \n",
    "for i in range(10, 21):     # 10~20 까지\n",
    "    data = \"안녕..%d\\n\" % i\n",
    "    f.write(data)  \n",
    "f.close()"
   ]
  },
  {
   "cell_type": "code",
   "execution_count": 91,
   "metadata": {},
   "outputs": [],
   "source": [
    "# binary mode\n",
    "\n",
    "# f = open(\"filetest3.txt\", \"wb\")   \n",
    "# for i in range(10):    \n",
    "#     data = \"CLASS\"를 배우고 나서 하겠음   #wb 실행 시에는 문자열을 직접적으로 넣을수가 없음\n",
    "#     f.write(data)  \n",
    "# f.close()"
   ]
  },
  {
   "cell_type": "code",
   "execution_count": 88,
   "metadata": {},
   "outputs": [],
   "source": [
    "# csv 형식으로 저장 (콤마, 세퍼레이터) 엑셀과 호환할 때 꼭 필요한 형식\n",
    "nums = [0, 1, 2, 3, 4, 5, 6, 7, 8, 9]\n",
    "count = len(nums)\n",
    "\n",
    "f = open(\"result.csv\", \"a\")\n",
    "for i in range(count):\n",
    "    if i < count-1 :                  #마지막 위치의 전 까지만 세미콤마? 가 찍히게끔 하는 조건문\n",
    "        f.write(str(nums[i]) + \",\")     #숫자를 문자로 바꿨으니 + 연산자로 연결이 가능\n",
    "    else:\n",
    "        f.write(str(nums[i]) + \"\\n\")\n",
    "f.close()"
   ]
  },
  {
   "cell_type": "code",
   "execution_count": 6,
   "metadata": {},
   "outputs": [
    {
     "ename": "TypeError",
     "evalue": "'int' object is not callable",
     "output_type": "error",
     "traceback": [
      "\u001b[1;31m---------------------------------------------------------------------------\u001b[0m",
      "\u001b[1;31mTypeError\u001b[0m                                 Traceback (most recent call last)",
      "\u001b[1;32m<ipython-input-6-f346f6cc372c>\u001b[0m in \u001b[0;36m<module>\u001b[1;34m\u001b[0m\n\u001b[0;32m     10\u001b[0m             \u001b[0mf\u001b[0m\u001b[1;33m.\u001b[0m\u001b[0mwrite\u001b[0m\u001b[1;33m(\u001b[0m\u001b[0mstr\u001b[0m\u001b[1;33m(\u001b[0m\u001b[0mnums\u001b[0m\u001b[1;33m[\u001b[0m\u001b[0mi\u001b[0m\u001b[1;33m]\u001b[0m\u001b[1;33m)\u001b[0m \u001b[1;33m+\u001b[0m \u001b[1;34m\"\\n\"\u001b[0m\u001b[1;33m)\u001b[0m\u001b[1;33m\u001b[0m\u001b[1;33m\u001b[0m\u001b[0m\n\u001b[0;32m     11\u001b[0m \u001b[1;33m\u001b[0m\u001b[0m\n\u001b[1;32m---> 12\u001b[1;33m \u001b[0mcount\u001b[0m\u001b[1;33m(\u001b[0m\u001b[1;33m)\u001b[0m\u001b[1;33m\u001b[0m\u001b[1;33m\u001b[0m\u001b[0m\n\u001b[0m",
      "\u001b[1;31mTypeError\u001b[0m: 'int' object is not callable"
     ]
    }
   ],
   "source": [
    "# with문으로 바꾸기\n",
    "nums = [0, 1, 2, 3, 4, 5, 6, 7, 8, 9]\n",
    "count = len(nums)\n",
    "\n",
    "with open(\"result.csv\", \"a\") as f:\n",
    "    for i in range(count):\n",
    "        if i < count-1 :                  \n",
    "            f.write(str(nums[i]) + \",\") \n",
    "        else:\n",
    "            f.write(str(nums[i]) + \"\\n\")\n",
    "        "
   ]
  },
  {
   "cell_type": "code",
   "execution_count": 90,
   "metadata": {},
   "outputs": [],
   "source": [
    "# 파이썬 교재 속 예시 (p.166)\n",
    "with open(\"foo.txt\", \"w\")as f:\n",
    "    f.write(\"Life is too short, you need python\")"
   ]
  },
  {
   "cell_type": "code",
   "execution_count": 106,
   "metadata": {},
   "outputs": [
    {
     "name": "stdout",
     "output_type": "stream",
     "text": [
      "Hello World\n",
      "안녕 모두들\n",
      "파일 포인터 : 24\n",
      "파일 포인터 : 3\n",
      "lo World\n",
      "\n"
     ]
    }
   ],
   "source": [
    "# 임의 접근  (기본적으로는 순차접근이다!)\n",
    "with open(\"filetest.txt\", \"r\") as f:\n",
    "    for line in f:\n",
    "        print(line, end=\"\")\n",
    "    print()\n",
    "    print(\"파일 포인터 : %d\"%f.tell())\n",
    "    \n",
    "    # seek(이동할 위치, 기준 위치)\n",
    "    # 기준위치 : 0(default, 파일의 시작위치), 1(파일의 현재위치), 2(파일의 끝 위치)\n",
    "    f.seek(3,0)\n",
    "    print(\"파일 포인터 : %d\"%f.tell())\n",
    "    line = f.readline()\n",
    "    print(line)"
   ]
  },
  {
   "cell_type": "code",
   "execution_count": 114,
   "metadata": {},
   "outputs": [
    {
     "name": "stdout",
     "output_type": "stream",
     "text": [
      "2-제어문.ipynb\n"
     ]
    }
   ],
   "source": [
    "# 파일 목록 (여러 개의 파일을 동시에 읽어오는 방법) # 하나씩만 읽으려면 open을 쓰면 됌.\n",
    "import glob\n",
    "#files = glob.glob(\"*\")   #현재 폴더에 있는 모든 파일을 읽어오겠다는 뜻\n",
    "#files = glob.glob(\"*.txt\")  #확장자가 txt인 파일만 불러오겠다는 뜻\n",
    "#files = glob.glob(\"*.ipynb\") \n",
    "files = glob.glob(\"?????.ipynb\") #파일명이 5자리수인것만 불러옴(물음표갯수)\n",
    "\n",
    "for file in files:\n",
    "    print(file)"
   ]
  },
  {
   "cell_type": "markdown",
   "metadata": {},
   "source": [
    "## 재귀함수(recursive function)"
   ]
  },
  {
   "cell_type": "code",
   "execution_count": null,
   "metadata": {},
   "outputs": [],
   "source": [
    "# 알고리즘!\n",
    "# 재귀함수를 쓰는 것과 반복문을 쓰는 것 상당히 비슷함 (BUT 성능에 차이가 있을 수 있다)\n",
    "# 알고리즘 테스트에 많이 이용함"
   ]
  },
  {
   "cell_type": "code",
   "execution_count": 3,
   "metadata": {},
   "outputs": [
    {
     "name": "stdout",
     "output_type": "stream",
     "text": [
      "5 4 3 2 1 완료\n"
     ]
    }
   ],
   "source": [
    "def CountDown(n):\n",
    "    if n == 0:\n",
    "        print(\"완료\")\n",
    "    else:\n",
    "        print(n, end=' ')\n",
    "        CountDown(n-1)\n",
    "        \n",
    "#############################################\n",
    "# for i in range(5):\n",
    "CountDown(5)"
   ]
  },
  {
   "cell_type": "code",
   "execution_count": 16,
   "metadata": {},
   "outputs": [
    {
     "name": "stdout",
     "output_type": "stream",
     "text": [
      "5\n",
      "4\n",
      "3\n",
      "2\n"
     ]
    },
    {
     "data": {
      "text/plain": [
       "120"
      ]
     },
     "execution_count": 16,
     "metadata": {},
     "output_type": "execute_result"
    }
   ],
   "source": [
    "def factorial(n):         #값을 저장할 필요가 생김(팩토리얼)\n",
    "    if n == 1:\n",
    "        return 1\n",
    "    print(n)\n",
    "    return n *factorial(n-1)\n",
    "\n",
    "factorial(5)"
   ]
  },
  {
   "cell_type": "code",
   "execution_count": null,
   "metadata": {},
   "outputs": [],
   "source": [
    "# 변수-> 집합자료형-> 합수-> 클래스"
   ]
  },
  {
   "cell_type": "markdown",
   "metadata": {},
   "source": [
    "## 클래스(객체..)"
   ]
  },
  {
   "cell_type": "code",
   "execution_count": null,
   "metadata": {},
   "outputs": [],
   "source": [
    "# 구조적, 절차적 언어 -> 객체지향적 언어(프로그래밍에서 필요한 데이터를 추상화시켜 상태와 행위를 가진 객체를 만들고 그 객체들 간의 유기적인 상호작용을 통해 로직을 구성하는 프로그래밍 방법\n",
    "\n",
    "# 출처: https://jeong-pro.tistory.com/95 [기본기를 쌓는 정아마추어 코딩블로그])"
   ]
  }
 ],
 "metadata": {
  "kernelspec": {
   "display_name": "Python 3",
   "language": "python",
   "name": "python3"
  },
  "language_info": {
   "codemirror_mode": {
    "name": "ipython",
    "version": 3
   },
   "file_extension": ".py",
   "mimetype": "text/x-python",
   "name": "python",
   "nbconvert_exporter": "python",
   "pygments_lexer": "ipython3",
   "version": "3.7.1"
  }
 },
 "nbformat": 4,
 "nbformat_minor": 2
}
