{
 "cells": [
  {
   "cell_type": "markdown",
   "metadata": {},
   "source": [
    "# Numpy\n",
    "--------------------\n",
    "### 1) 벡터 및 행렬 연산과 관련된 편리한 기능을 제공\n",
    "### 2) list와 거의 동일하지만 numpy 배열의 특징(2가지)을 가진다.\n",
    "        - 모든 원소가 같은 자료형이어야 한다.\n",
    "        - 원소의 갯수를 바꿀 수 없다.\n",
    "### 3) 빠를 속도를 지원\n",
    "### 4) 벡터화 연상, 배열 인덱싱을 통한 질의 가능\n",
    "### 5) http://www.numpy.org"
   ]
  },
  {
   "cell_type": "code",
   "execution_count": 1,
   "metadata": {},
   "outputs": [],
   "source": [
    "import numpy as np"
   ]
  },
  {
   "cell_type": "markdown",
   "metadata": {},
   "source": [
    "### 1차원 배열"
   ]
  },
  {
   "cell_type": "code",
   "execution_count": 7,
   "metadata": {},
   "outputs": [
    {
     "name": "stdout",
     "output_type": "stream",
     "text": [
      "<class 'numpy.ndarray'>\n",
      "(6,)\n"
     ]
    }
   ],
   "source": [
    "ar = np.array([10, 20, 20, 31, 45, 56])\n",
    "print(type(ar))  # ndarray: n차원의 배열이라는 뜻\n",
    "print(ar.shape)  # (6,): 1차원의 값이 6개가 있다는 뜻"
   ]
  },
  {
   "cell_type": "code",
   "execution_count": 11,
   "metadata": {},
   "outputs": [
    {
     "data": {
      "text/plain": [
       "[0, 1, 2, 3, 4, 5, 6, 7, 8, 9, 0, 1, 2, 3, 4, 5, 6, 7, 8, 9]"
      ]
     },
     "execution_count": 11,
     "metadata": {},
     "output_type": "execute_result"
    }
   ],
   "source": [
    "# 벡터화 연산\n",
    "data = [0, 1, 2, 3, 4, 5, 6, 7, 8, 9]\n",
    "\n",
    "result = []\n",
    "for i in data:\n",
    "    result.append(i*2)\n",
    "result\n",
    "\n",
    "ar = np.array(data)\n",
    "result = ar * 2\n",
    "result\n",
    "\n",
    "# 이건 벡터 연산 아님(그냥 list)\n",
    "result = data * 2\n",
    "result"
   ]
  },
  {
   "cell_type": "markdown",
   "metadata": {},
   "source": [
    "### 2차원 배열\n",
    "   :1차원 배열 여러개를 합친것"
   ]
  },
  {
   "cell_type": "code",
   "execution_count": 12,
   "metadata": {},
   "outputs": [
    {
     "data": {
      "text/plain": [
       "array([[0, 1, 2],\n",
       "       [3, 4, 5]])"
      ]
     },
     "execution_count": 12,
     "metadata": {},
     "output_type": "execute_result"
    }
   ],
   "source": [
    "ar = np.array([[0, 1, 2], [3, 4, 5]])\n",
    "# list를 배열로 전환  리스트 2개를 묶기위해 []사용 = 2차원 배열, [ 겹쳐진 갯수를 보면 차원을 알 수 있다!\n",
    "ar"
   ]
  },
  {
   "cell_type": "code",
   "execution_count": 17,
   "metadata": {},
   "outputs": [
    {
     "name": "stdout",
     "output_type": "stream",
     "text": [
      "2\n",
      "3\n",
      "(2, 3)\n"
     ]
    }
   ],
   "source": [
    "print(len(ar))     # 행의 갯수\n",
    "print(len(ar[0]))  # 열의 갯수  # 꼭 0으로 안해두 되구 1 로 해도 됨 [x]: 행을 가리킴\n",
    "# ar[0][0]=값?     # ar이 가리키는 3개의 ..무엇..\n",
    "print(ar.shape)    # 2행 3열 이라는 뜻"
   ]
  },
  {
   "cell_type": "markdown",
   "metadata": {},
   "source": [
    "### 3차원 배열"
   ]
  },
  {
   "cell_type": "code",
   "execution_count": 30,
   "metadata": {},
   "outputs": [
    {
     "name": "stdout",
     "output_type": "stream",
     "text": [
      "[[[ 1  2  3  4]\n",
      "  [ 5  6  7  8]\n",
      "  [ 9 10 11 12]]\n",
      "\n",
      " [[ 1  2  3  4]\n",
      "  [ 5  6  7  8]\n",
      "  [ 9 10 11 12]]]\n",
      "2 3 4\n",
      "(2, 3, 4)\n",
      "3\n"
     ]
    }
   ],
   "source": [
    "ar = np.array([[[1, 2, 3, 4],[5, 6, 7, 8],[9, 10, 11, 12]], \n",
    "               [[1, 2, 3, 4],[5, 6, 7, 8],[9, 10, 11, 12]]])\n",
    "print(ar)\n",
    "print(len(ar), len(ar[0]), len(ar[0][0]))\n",
    "print(ar.shape)\n",
    "print(ar.ndim)    # 차원 알려줌\n"
   ]
  },
  {
   "cell_type": "markdown",
   "metadata": {},
   "source": [
    "### 배열의 인덱싱"
   ]
  },
  {
   "cell_type": "code",
   "execution_count": 33,
   "metadata": {},
   "outputs": [
    {
     "name": "stdout",
     "output_type": "stream",
     "text": [
      "2 4\n",
      "0 1 5\n"
     ]
    }
   ],
   "source": [
    "ar = np.array([0,1,2,3,4])\n",
    "print(ar[2], ar[-1])\n",
    "\n",
    "ar2 = np.array([[0,1,2], [3,4,5]])\n",
    "print(ar2[0,0], ar2[0,1], ar2[-1,-1])   # ar 0행의 0열"
   ]
  },
  {
   "cell_type": "code",
   "execution_count": 39,
   "metadata": {},
   "outputs": [
    {
     "name": "stdout",
     "output_type": "stream",
     "text": [
      "[0 2 4 6 8]\n",
      "[0 1 0 1 0 1 0 1 0 1]\n",
      "[ True False  True False  True False  True False  True False]\n",
      "[0 2 4 6 8]\n"
     ]
    },
    {
     "data": {
      "text/plain": [
       "array([ 1,  2,  3,  4,  5,  6,  7,  8,  9, 10, 11, 12, 13, 14, 15, 16, 17,\n",
       "       18, 19, 20])"
      ]
     },
     "execution_count": 39,
     "metadata": {},
     "output_type": "execute_result"
    }
   ],
   "source": [
    "# fancy indexing (빼어난 인덱싱기술 제공)\n",
    "a = np.array([0,1,2,3,4,5,6,7,8,9])\n",
    "idx = np.array([True, False, True, False, True, False, True, False, True, False])\n",
    "\n",
    "print(a[idx])    # True인 값들만 골라냄\n",
    "print(a%2)\n",
    "print(a%2 == 0)\n",
    "print(a[a%2 == 0])\n",
    "\n",
    "b = np.array([[1,2,3,4], [5,6,7,8], \n",
    "              [9,10,11,12]])\n",
    "\n",
    "# 0번째부터 시작 한다는 것 잊지말기\n",
    "# [2,0,1] : 2번째 행의 0번째 열, 1개????\n",
    "b[[2,0,1], 0:2]  # 하나의 []를 , 로 구분하여 [][] 이렇게 하지 않아도 됨  : 앞뒤 공백이면 모든 범위\n",
    "\n",
    "c = np.array([i for i in range(1,21)])\n",
    "c\n",
    "# 이 배열에서 3의 배수를 찾아라.\n",
    "# 이 배열에서 4로 나누면 1이 남는 수를 찾아라\n",
    "# 이 배열에서 3으로 나누면 나눠지고 4로 나누면 1이 남는 수를 찾아라\n",
    "\n",
    "# print(c%4 == 1)\n",
    "# print"
   ]
  },
  {
   "cell_type": "markdown",
   "metadata": {},
   "source": [
    "### 배열 슬라이싱"
   ]
  },
  {
   "cell_type": "code",
   "execution_count": 47,
   "metadata": {},
   "outputs": [
    {
     "data": {
      "text/plain": [
       "array([[0, 1],\n",
       "       [4, 5]])"
      ]
     },
     "execution_count": 47,
     "metadata": {},
     "output_type": "execute_result"
    }
   ],
   "source": [
    "a = np.array([[0,1,2,3], \n",
    "              [4,5,6,7]])\n",
    "\n",
    "a[0, :]    # 0번째 행의 모든 열\n",
    "a[: , 1]   # 모든 행의 1번째 열\n",
    "\n",
    "# 두번째 행의 두번째 열부터 끝까지((5,6,7)이 나오게끔)\n",
    "a[1, 1:]\n",
    "\n",
    "# 0,1\n",
    "# 4,5\n",
    "a[:2, :2]"
   ]
  },
  {
   "cell_type": "markdown",
   "metadata": {},
   "source": [
    "### numpy의 자료형\n",
    "    b : 불리언\n",
    "    i : 정수\n",
    "    u : 부호없는 정수\n",
    "    f : 부동소수점\n",
    "    c : 복소수 부동 소수점\n",
    "    o : 객체\n",
    "    s : 바이트 문자열\n",
    "    u : 유니코드 문자열"
   ]
  },
  {
   "cell_type": "code",
   "execution_count": 60,
   "metadata": {},
   "outputs": [
    {
     "name": "stdout",
     "output_type": "stream",
     "text": [
      "<U1\n",
      "12\n"
     ]
    }
   ],
   "source": [
    "a = np.array([1,2,3])\n",
    "a.dtype    # 데이터의 자료형이 무엇인지 알 수 있다\n",
    "\n",
    "a = np.array([1.0, 2.0, 3.0])\n",
    "a.dtype    # float64\n",
    "\n",
    "a = np.array([1,2,3.0])\n",
    "a.dtype    # float64: 큰 쪽으로 맞춰서 type 나옴\n",
    "\n",
    "a = np.array([1,2,3], dtype='U')    # 자료형 강제 변환\n",
    "print(a.dtype)    # f = float32 -> 크기지정: f8 = float64\n",
    "print(a[0] + a[1])"
   ]
  },
  {
   "cell_type": "markdown",
   "metadata": {},
   "source": [
    "### 배열 생성"
   ]
  },
  {
   "cell_type": "code",
   "execution_count": 89,
   "metadata": {},
   "outputs": [
    {
     "name": "stdout",
     "output_type": "stream",
     "text": [
      "[[0 0 0]\n",
      " [0 0 0]]\n",
      "int32\n"
     ]
    },
    {
     "data": {
      "text/plain": [
       "array([  0.,  25.,  50.,  75., 100.])"
      ]
     },
     "execution_count": 89,
     "metadata": {},
     "output_type": "execute_result"
    }
   ],
   "source": [
    "a = np.zeros(5)\n",
    "a\n",
    "\n",
    "b = np.zeros((2, 3), dtype='i')  # tuple로 묶어주면 행과열로 나뉨\n",
    "print(b)\n",
    "print(b.dtype)\n",
    "\n",
    "c = np.zeros(5, dtype='U4')    # 글자4개까지 가능\n",
    "c[0] = 'abc'\n",
    "c[1] = 'abcd'\n",
    "c[2] = 'ABCDE'    # 글자초과 = 출력안됨\n",
    "c\n",
    "\n",
    "d = np.ones((2,3,4)) # 2행 3열 4개씩 들어간 값?\n",
    "d\n",
    "\n",
    "e = np.ones_like(b)\n",
    "e\n",
    "\n",
    "f = np.empty((4, 3))    # 변수 초기화\n",
    "f\n",
    "\n",
    "g = np.arange(10)    # Python의 range와 동일한 기능\n",
    "g = np.arange(3, 21, 2)    # 시작, 끝(n-1), step\n",
    "g\n",
    "\n",
    "h = np.linspace(0, 100, 5)    # 구간 - 시작, 끝(n), 갯수\n",
    "h"
   ]
  },
  {
   "cell_type": "markdown",
   "metadata": {},
   "source": [
    "### 전치 연산"
   ]
  },
  {
   "cell_type": "code",
   "execution_count": 92,
   "metadata": {},
   "outputs": [
    {
     "name": "stdout",
     "output_type": "stream",
     "text": [
      "[[1 2 3]\n",
      " [4 5 6]]\n",
      "[[1 4]\n",
      " [2 5]\n",
      " [3 6]]\n"
     ]
    }
   ],
   "source": [
    "a = np.array([[1,2,3], [4,5,6]])\n",
    "print(a)\n",
    "print(a.T)    # T = transpose(전치)"
   ]
  },
  {
   "cell_type": "markdown",
   "metadata": {},
   "source": [
    "### 배열의 크기 변형"
   ]
  },
  {
   "cell_type": "code",
   "execution_count": 112,
   "metadata": {},
   "outputs": [
    {
     "data": {
      "text/plain": [
       "array([[ 0],\n",
       "       [ 1],\n",
       "       [ 2],\n",
       "       [ 3],\n",
       "       [ 4],\n",
       "       [ 5],\n",
       "       [ 6],\n",
       "       [ 7],\n",
       "       [ 8],\n",
       "       [ 9],\n",
       "       [10],\n",
       "       [11]])"
      ]
     },
     "execution_count": 112,
     "metadata": {},
     "output_type": "execute_result"
    }
   ],
   "source": [
    "a = np.arange(12)\n",
    "a\n",
    "\n",
    "b = a.reshape(3, 4)  # 1차원배열인 a를 2차원 배열로 바꿔 보여줌  *많이 쓰는 함수이니 기억해둘 것!\n",
    "b\n",
    "\n",
    "c = a.reshape(3, -1)   # -1 이건 위치가 아님!! 크기지정임  행은 3으로 하고, 열은 알아서해 라는 뜻\n",
    "c\n",
    "\n",
    "d = a.reshape(2, 2, 3)    # 3차원 변형\n",
    "d\n",
    "\n",
    "e = a.reshape(2, -1, 2)  # 행, 행, 열\n",
    "e\n",
    "\n",
    "e.flatten()    # 다차원을 1차원으로 변형\n",
    "e.ravel()    # 다차원을 1차원으로 변형\n",
    "\n",
    "a.reshape(12, 1)    # 원본은 변형되지 않음\n",
    "a[:, np.newaxis]    # 열에 축을 하나 새로 만든다?? 위와 동일한 표현"
   ]
  },
  {
   "cell_type": "markdown",
   "metadata": {},
   "source": [
    "### 배열 연결"
   ]
  },
  {
   "cell_type": "code",
   "execution_count": 117,
   "metadata": {},
   "outputs": [
    {
     "data": {
      "text/plain": [
       "array([[1., 1., 1., 0., 0.],\n",
       "       [1., 1., 1., 0., 0.]])"
      ]
     },
     "execution_count": 117,
     "metadata": {},
     "output_type": "execute_result"
    }
   ],
   "source": [
    "a1 = np.ones((2,3))\n",
    "a1\n",
    "a2 = np.zeros((2,2))\n",
    "a2\n",
    "\n",
    "np.hstack([a1, a2])   # 2개의 배열을 수평으로 쌓음, 행의 개수가 같을 때에만 사용"
   ]
  },
  {
   "cell_type": "code",
   "execution_count": 122,
   "metadata": {},
   "outputs": [
    {
     "data": {
      "text/plain": [
       "array([[1., 1., 1.],\n",
       "       [1., 1., 1.],\n",
       "       [0., 0., 0.],\n",
       "       [0., 0., 0.],\n",
       "       [0., 0., 0.]])"
      ]
     },
     "execution_count": 122,
     "metadata": {},
     "output_type": "execute_result"
    }
   ],
   "source": [
    "# 열의 개수가 같을 때, vstack\n",
    "a1 = np.ones((2,3))\n",
    "a1\n",
    "a2 = np.zeros((3,3))\n",
    "a2\n",
    "\n",
    "np.vstack([a1, a2])"
   ]
  },
  {
   "cell_type": "code",
   "execution_count": 126,
   "metadata": {},
   "outputs": [
    {
     "name": "stdout",
     "output_type": "stream",
     "text": [
      "[[[1. 0.]\n",
      "  [1. 0.]\n",
      "  [1. 0.]\n",
      "  [1. 0.]]\n",
      "\n",
      " [[1. 0.]\n",
      "  [1. 0.]\n",
      "  [1. 0.]\n",
      "  [1. 0.]]\n",
      "\n",
      " [[1. 0.]\n",
      "  [1. 0.]\n",
      "  [1. 0.]\n",
      "  [1. 0.]]]\n",
      "(3, 4, 2)\n"
     ]
    }
   ],
   "source": [
    "a1 = np.ones((3,4))\n",
    "a2 = np.zeros((3,4))    # 2차원 2개가 합쳐지면 3차원~\n",
    "\n",
    "a3 = np.dstack([a1, a2])\n",
    "print(a3)\n",
    "print(a3.shape)"
   ]
  },
  {
   "cell_type": "code",
   "execution_count": 133,
   "metadata": {},
   "outputs": [
    {
     "name": "stdout",
     "output_type": "stream",
     "text": [
      "[[[1. 1. 1. 1.]\n",
      "  [1. 1. 1. 1.]\n",
      "  [1. 1. 1. 1.]]\n",
      "\n",
      " [[0. 0. 0. 0.]\n",
      "  [0. 0. 0. 0.]\n",
      "  [0. 0. 0. 0.]]] (2, 3, 4)\n",
      "[[[1. 1. 1. 1.]\n",
      "  [0. 0. 0. 0.]]\n",
      "\n",
      " [[1. 1. 1. 1.]\n",
      "  [0. 0. 0. 0.]]\n",
      "\n",
      " [[1. 1. 1. 1.]\n",
      "  [0. 0. 0. 0.]]] (3, 2, 4)\n"
     ]
    }
   ],
   "source": [
    "a1 = np.ones((3,4))\n",
    "a2 = np.zeros((3,4))    # 2차원 2개가 합쳐지면 3차원~\n",
    "\n",
    "a3 = np.stack([a1, a2], axis=0)    # 열을 기준으로\n",
    "# print(a3)\n",
    "\n",
    "'''\n",
    "[[[1. 1. 1. 1.]\n",
    "  [1. 1. 1. 1.]\n",
    "  [1. 1. 1. 1.]]\n",
    "\n",
    " [[0. 0. 0. 0.]\n",
    "  [0. 0. 0. 0.]\n",
    "  [0. 0. 0. 0.]]]\n",
    "'''\n",
    "print(a3, a3.shape)    # 3열 4행짜리가 2개\n",
    "\n",
    "a3 = np.stack([a1, a2], axis=1)    # 행을 기준으로\n",
    "# print(a3)\n",
    "'''\n",
    "[[[1. 1. 1. 1.]\n",
    "  [0. 0. 0. 0.]]\n",
    "\n",
    " [[1. 1. 1. 1.]\n",
    "  [0. 0. 0. 0.]]\n",
    "\n",
    " [[1. 1. 1. 1.]\n",
    "  [0. 0. 0. 0.]]]\n",
    "'''\n",
    "print(a3, a3.shape)    # 2행 4열짜리가 3개"
   ]
  },
  {
   "cell_type": "code",
   "execution_count": 136,
   "metadata": {},
   "outputs": [
    {
     "name": "stdout",
     "output_type": "stream",
     "text": [
      "[[0 1 2 0 1 2]\n",
      " [3 4 5 3 4 5]]\n",
      "[[0 1 2 0 1 2]\n",
      " [3 4 5 3 4 5]\n",
      " [0 1 2 0 1 2]\n",
      " [3 4 5 3 4 5]\n",
      " [0 1 2 0 1 2]\n",
      " [3 4 5 3 4 5]]\n"
     ]
    }
   ],
   "source": [
    "a = np.array([[0,1,2], [3,4,5]])\n",
    "print(np.tile(a, 2)) # 각각의 배열들을 반복, 1차원으로\n",
    "\n",
    "print(np.tile(a,(3,2)))  # 3행 2열로 반복.."
   ]
  },
  {
   "cell_type": "markdown",
   "metadata": {},
   "source": [
    "### 2차원 그리드 포인트 생성 : meshgrid()"
   ]
  },
  {
   "cell_type": "code",
   "execution_count": 149,
   "metadata": {},
   "outputs": [
    {
     "name": "stdout",
     "output_type": "stream",
     "text": [
      "[0 1 2]\n",
      "-----------\n",
      "[0 1 2 3 4]\n",
      "-----------\n",
      "[[0 1 2]\n",
      " [0 1 2]\n",
      " [0 1 2]\n",
      " [0 1 2]\n",
      " [0 1 2]]\n",
      "-----------\n",
      "[[0 0 0]\n",
      " [1 1 1]\n",
      " [2 2 2]\n",
      " [3 3 3]\n",
      " [4 4 4]]\n",
      "-----------\n"
     ]
    },
    {
     "data": {
      "image/png": "[encoded data removed]",
      "text/plain": [
       "<Figure size 432x288 with 1 Axes>"
      ]
     },
     "metadata": {
      "needs_background": "light"
     },
     "output_type": "display_data"
    }
   ],
   "source": [
    "x = np.arange(3)\n",
    "print(x)\n",
    "print(\"-----------\")\n",
    "\n",
    "y = np.arange(5)\n",
    "print(y)\n",
    "print(\"-----------\")\n",
    "\n",
    "X, Y = np.meshgrid(x, y)    # return값이 2개\n",
    "print(X)\n",
    "print(\"-----------\")\n",
    "print(Y)\n",
    "print(\"-----------\")\n",
    "Z = [list(zip(x,y)) for x, y in zip(X, Y)]\n",
    "Z\n",
    "\n",
    "import matplotlib.pylab as plt\n",
    "plt.scatter(X, Y)\n",
    "plt.show()"
   ]
  },
  {
   "cell_type": "markdown",
   "metadata": {},
   "source": [
    "### 브로드 캐스팅 (!!!!!!중요!!!!!!)\n",
    "    크기가 서로 다른 행렬(벡터)끼리 연산을 가능하게 하는 것."
   ]
  },
  {
   "cell_type": "code",
   "execution_count": 157,
   "metadata": {},
   "outputs": [
    {
     "name": "stdout",
     "output_type": "stream",
     "text": [
      "[[0 1 2]\n",
      " [1 2 3]\n",
      " [2 3 4]\n",
      " [3 4 5]\n",
      " [4 5 6]]\n",
      "[[0]\n",
      " [1]\n",
      " [2]\n",
      " [3]\n",
      " [4]]\n"
     ]
    },
    {
     "data": {
      "text/plain": [
       "array([[0, 2, 4],\n",
       "       [1, 3, 5],\n",
       "       [2, 4, 6],\n",
       "       [3, 5, 7],\n",
       "       [4, 6, 8]])"
      ]
     },
     "execution_count": 157,
     "metadata": {},
     "output_type": "execute_result"
    }
   ],
   "source": [
    "# [i for i in range(5)]    # i 값을 계속 적재한다는 뜻\n",
    "# [range(5)[i] for i in range(5)]  #5개 각각의 자리에 i의 반복되는 값을 넣어준다\n",
    "# [range(7)[i:i+3] for i in range(5)]    # [i:i+3] 일종의 저장소?\n",
    "x = np.vstack([range(7)[i:i+3] for i in range(5)])\n",
    "print(x)\n",
    "\n",
    "y = np.arange(5)[:, np.newaxis]    # 열 에다가 새로운 차원 추가\n",
    "print(y)\n",
    "\n",
    "# x+y : 브로드 캐스팅\n",
    "x+y\n",
    "\n",
    "y = np.arange(3)\n",
    "\n",
    "x+y"
   ]
  },
  {
   "cell_type": "markdown",
   "metadata": {},
   "source": [
    "### 차원 축소(dimension reduction) 연산\n",
    "    - 최대/최소 : min, max, argmin, argmax (arg, 위치알려줌)\n",
    "    - 통계 : sum, mean, median, std, var\n",
    "    - 불리언: all, any"
   ]
  },
  {
   "cell_type": "code",
   "execution_count": 159,
   "metadata": {},
   "outputs": [
    {
     "data": {
      "text/plain": [
       "1"
      ]
     },
     "execution_count": 159,
     "metadata": {},
     "output_type": "execute_result"
    }
   ],
   "source": [
    "x = np.array([1, 3, 2])\n",
    "ag = np.argmin(x)    # 가장 작은 값이 있는 위치\n",
    "ag\n",
    "\n",
    "ag = np.argmax(x)    # 가장 큰 값이 있는 위치\n",
    "ag"
   ]
  },
  {
   "cell_type": "code",
   "execution_count": 162,
   "metadata": {},
   "outputs": [
    {
     "data": {
      "text/plain": [
       "True"
      ]
     },
     "execution_count": 162,
     "metadata": {},
     "output_type": "execute_result"
    }
   ],
   "source": [
    "# python all, any와 비슷한\n",
    "np.all([True, True, False])\n",
    "np.any([True, True, False])"
   ]
  },
  {
   "cell_type": "code",
   "execution_count": 166,
   "metadata": {},
   "outputs": [
    {
     "name": "stdout",
     "output_type": "stream",
     "text": [
      "합계 :  6\n",
      "열 합계 :  [3 3]\n",
      "행 합계 :  [2 4]\n"
     ]
    }
   ],
   "source": [
    "a = np.array([[1, 1], \n",
    "              [2, 2]])\n",
    "\n",
    "print(\"합계 : \", a.sum())\n",
    "print(\"열 합계 : \", a.sum(axis=0))   # 특정 축을 기준으로 넣어줌\n",
    "print(\"행 합계 : \", a.sum(axis=1))"
   ]
  },
  {
   "cell_type": "markdown",
   "metadata": {},
   "source": [
    "### 정렬"
   ]
  },
  {
   "cell_type": "code",
   "execution_count": 170,
   "metadata": {},
   "outputs": [
    {
     "data": {
      "text/plain": [
       "array([[ 3,  4,  5,  7],\n",
       "       [ 1,  9, 11, 12],\n",
       "       [ 1,  2, 14, 15]])"
      ]
     },
     "execution_count": 170,
     "metadata": {},
     "output_type": "execute_result"
    }
   ],
   "source": [
    "a = np.array([[4,3,5,7],\n",
    "             [1,12,11,9],\n",
    "             [2,15,1,14]])\n",
    "\n",
    "# 원본과 별도의 객체가 따로 생성됨\n",
    "np.sort(a)\n",
    "np.sort(a, axis=1)\n",
    "np.sort(a, axis=0)\n",
    "\n",
    "a.sort(axis=1)    # in-place (원본자체가 바뀜)\n",
    "a"
   ]
  },
  {
   "cell_type": "code",
   "execution_count": 173,
   "metadata": {},
   "outputs": [
    {
     "data": {
      "text/plain": [
       "array([12, 25, 38, 42])"
      ]
     },
     "execution_count": 173,
     "metadata": {},
     "output_type": "execute_result"
    }
   ],
   "source": [
    "# 순서만 알고 싶을 때 : argsort()\n",
    "a = np.array([42, 38, 12, 25])\n",
    "b = np.argsort(a)    # 정렬했을 때의 위치를 보여줌, 12,25,38,42=> 2,3,1,0\n",
    "b\n",
    "a[b]  # 정렬된 값을 보여줌"
   ]
  },
  {
   "cell_type": "markdown",
   "metadata": {},
   "source": [
    "### 기술 통계\n",
    "    len(), mean(), var(), std(), max(), min(), median(), percentile()\n",
    "    \n",
    "###### percentile\n",
    "    사분위수(quartile)는 데이터를 가장 작은 수부터 가장 큰 수까지 크기가 커지는 순서대로 정렬하였을 때 \n",
    "    1/4, 2/4, 3/4 위치에 있는 수를 말한다. \n",
    "    각각 1사분위수, 2사분위수, 3사분위수라고 한다. 1/4의 위치란 전체 데이터의 수가 만약 100개이면 \n",
    "    25번째 순서, 즉 하위 25%를 말한다. 따라서 2사분위수는 중앙값과 같다. \n",
    "    때로는 위치를 1/100 단위로 나눈 백분위수(percentile)을 사용하기도 한다. 1사분위수는 25% 백분위수와 같다."
   ]
  },
  {
   "cell_type": "code",
   "execution_count": 195,
   "metadata": {},
   "outputs": [
    {
     "name": "stdout",
     "output_type": "stream",
     "text": [
      "-24.0\n",
      "0.0\n",
      "5.0\n",
      "10.0\n",
      "23.0\n",
      "DescribeResult(nobs=26, minmax=(-24, 23), mean=4.8076923076923075, variance=119.84153846153846, skewness=-0.4762339485461929, kurtosis=0.37443381660038977)\n"
     ]
    }
   ],
   "source": [
    "x = np.array([18,   5,  10,  23,  19,  -8,  10,   0,   0,   5,   2,  15,   8,\n",
    "              2,   5,   4,  15,  -1,   4,  -7, -24,   7,   9,  -6,  23, -13])\n",
    "# percentile(4사분위)\n",
    "print(np.percentile(x,0))\n",
    "print(np.percentile(x,25)) #1사분위\n",
    "print(np.percentile(x,50)) #2사분위\n",
    "print(np.percentile(x,75)) #3사분위\n",
    "print(np.percentile(x,100))\n",
    "\n",
    "from scipy.stats import describe\n",
    "print(describe(x))"
   ]
  },
  {
   "cell_type": "markdown",
   "metadata": {},
   "source": [
    "### 난수\n",
    "    rand : 0부터 1사이의 균일분포\n",
    "    randn : 가우시안 표준 정규분포 (평균은 0, 표준편차는 1로)   결과 rand와 비슷\n",
    "    randint : 균일분포의 정수 난수"
   ]
  },
  {
   "cell_type": "code",
   "execution_count": 176,
   "metadata": {},
   "outputs": [
    {
     "data": {
      "text/plain": [
       "array([[0.20927612, 0.36336217, 0.11679012, 0.9066817 , 0.96764958],\n",
       "       [0.32050382, 0.38452294, 0.1951871 , 0.81492953, 0.49210944],\n",
       "       [0.0960675 , 0.42293362, 0.62545912, 0.61395433, 0.99005482]])"
      ]
     },
     "execution_count": 176,
     "metadata": {},
     "output_type": "execute_result"
    }
   ],
   "source": [
    "np.random.rand(10)    # 무작위 숫자 10개 뽑기\n",
    "np.random.rand(3, 5)  # 2차원 배열"
   ]
  },
  {
   "cell_type": "code",
   "execution_count": 183,
   "metadata": {},
   "outputs": [
    {
     "data": {
      "text/plain": [
       "array([[1, 1, 6, 8],\n",
       "       [9, 7, 6, 4],\n",
       "       [7, 1, 9, 2]])"
      ]
     },
     "execution_count": 183,
     "metadata": {},
     "output_type": "execute_result"
    }
   ],
   "source": [
    "np.random.randint(10)    # () 지정범위 내에서 숫자 1개 무작위로 뽑기\n",
    "np.random.randint(11, 20)    # 11~19 사이의 임의의 숫자 1개\n",
    "np.random.randint(11, 20, size=100)\n",
    "np.random.randint(10, size=(3, 4))"
   ]
  },
  {
   "cell_type": "code",
   "execution_count": 184,
   "metadata": {},
   "outputs": [],
   "source": [
    "np.random.seed(100)\n",
    "'''\n",
    "컴퓨터 프로그램에서 발생하는 무작위 수는 사실 엄격한 의미의 무작위 수가 아니다. \n",
    "어떤 특정한 시작 숫자를 정해 주면 컴퓨터가 정해진 알고리즘에 의해 마치 난수처럼 보이는 수열을 생성한다. \n",
    "이런 시작 숫자를 시드(seed)라고 한다.\n",
    "일단 생성된 난수는 다음번 난수 생성을 위한 시드값이 된다. \n",
    "'''"
   ]
  },
  {
   "cell_type": "code",
   "execution_count": 185,
   "metadata": {},
   "outputs": [
    {
     "data": {
      "text/plain": [
       "array([0.54340494, 0.27836939, 0.42451759, 0.84477613, 0.00471886])"
      ]
     },
     "execution_count": 185,
     "metadata": {},
     "output_type": "execute_result"
    }
   ],
   "source": [
    "np.random.rand(5)"
   ]
  },
  {
   "cell_type": "code",
   "execution_count": 186,
   "metadata": {},
   "outputs": [
    {
     "data": {
      "text/plain": [
       "array([0.12156912, 0.67074908, 0.82585276, 0.13670659, 0.57509333])"
      ]
     },
     "execution_count": 186,
     "metadata": {},
     "output_type": "execute_result"
    }
   ],
   "source": [
    "np.random.rand(5)"
   ]
  },
  {
   "cell_type": "code",
   "execution_count": 187,
   "metadata": {},
   "outputs": [],
   "source": [
    "np.random.seed(100)  # 초기값을 동일하게 주면 출력값이 같게됨   똑같은 결과를 그대로 재현하기 위해"
   ]
  },
  {
   "cell_type": "code",
   "execution_count": 188,
   "metadata": {},
   "outputs": [
    {
     "data": {
      "text/plain": [
       "array([0.54340494, 0.27836939, 0.42451759, 0.84477613, 0.00471886])"
      ]
     },
     "execution_count": 188,
     "metadata": {},
     "output_type": "execute_result"
    }
   ],
   "source": [
    "np.random.rand(5)"
   ]
  },
  {
   "cell_type": "code",
   "execution_count": 191,
   "metadata": {},
   "outputs": [
    {
     "data": {
      "text/plain": [
       "array([8, 4, 3, 0, 1, 6, 7, 9, 5, 2])"
      ]
     },
     "execution_count": 191,
     "metadata": {},
     "output_type": "execute_result"
    }
   ],
   "source": [
    "x = np.arange(10)\n",
    "x\n",
    "# 순서를 바꾸고 싶을때!\n",
    "np.random.shuffle(x)   # 섞어섞어\n",
    "x"
   ]
  },
  {
   "cell_type": "code",
   "execution_count": 198,
   "metadata": {},
   "outputs": [
    {
     "data": {
      "text/plain": [
       "array([0, 3, 3, 0, 0, 0, 2, 3, 0, 2], dtype=int64)"
      ]
     },
     "execution_count": 198,
     "metadata": {},
     "output_type": "execute_result"
    }
   ],
   "source": [
    "# 데이터 샘플링( 참고사항: 복원, 비복원)\n",
    "np.random.choice(5, 5, replace=False)   # 5개 숫자에서 5개를 뽑는다(복원/비복원 추출, 기본값은 복원=replace=True)\n",
    "np.random.choice(5, 3, replace=False)\n",
    "np.random.choice(5, 10)  # 복원 추출이니까 가능\n",
    "np.random.choice(5, 10, p=[0.1, 0, 0.3, 0.6, 0])   # 뽑힐 확률을 지정할 수 있음"
   ]
  },
  {
   "cell_type": "markdown",
   "metadata": {},
   "source": [
    "### 정수형 데이터 카운팅"
   ]
  },
  {
   "cell_type": "code",
   "execution_count": 199,
   "metadata": {},
   "outputs": [
    {
     "data": {
      "text/plain": [
       "array([ 2, 11, 34])"
      ]
     },
     "execution_count": 199,
     "metadata": {},
     "output_type": "execute_result"
    }
   ],
   "source": [
    "np.unique([11, 11, 2, 2, 34, 34])"
   ]
  },
  {
   "cell_type": "code",
   "execution_count": 200,
   "metadata": {},
   "outputs": [
    {
     "name": "stdout",
     "output_type": "stream",
     "text": [
      "['a' 'b' 'c'] , [2 2 1]\n"
     ]
    }
   ],
   "source": [
    "a = np.array(['a', 'b', 'b', 'c', 'a'])\n",
    "index, count = np.unique(a, return_counts=True)  # 중복된 횟수?\n",
    "print(index, \",\", count)  "
   ]
  },
  {
   "cell_type": "code",
   "execution_count": 201,
   "metadata": {},
   "outputs": [
    {
     "data": {
      "text/plain": [
       "array([0, 2, 3, 1, 0, 0], dtype=int64)"
      ]
     },
     "execution_count": 201,
     "metadata": {},
     "output_type": "execute_result"
    }
   ],
   "source": [
    "# unique 보완 => bincount: 한번도 뽑히지 않은 것도 count, 0으로 표시해줌\n",
    "np.bincount([1, 1, 2, 2, 2, 3], minlength=6)"
   ]
  },
  {
   "cell_type": "markdown",
   "metadata": {},
   "source": [
    "# 실습\n",
    "---------------\n",
    "### 1) 데이터 : https://grouplens.org/datasets/movielens\n",
    "    rating.dat\n",
    "        UserID::MovieId::Rating::Timestamp"
   ]
  },
  {
   "cell_type": "code",
   "execution_count": 2,
   "metadata": {},
   "outputs": [],
   "source": [
    "import numpy as np"
   ]
  },
  {
   "cell_type": "code",
   "execution_count": 2,
   "metadata": {},
   "outputs": [
    {
     "data": {
      "text/plain": [
       "(1000209, 4)"
      ]
     },
     "execution_count": 2,
     "metadata": {},
     "output_type": "execute_result"
    }
   ],
   "source": [
    "# 데이터 불러오기\n",
    "data = np.loadtxt(\"data/ml-1m/ratings.dat\", delimiter=\"::\", dtype=np.int64)  # ::으로 데이터 구분해서 불러오기, 데이터 타입도 지정할 수 있음\n",
    "data\n",
    "data.shape"
   ]
  },
  {
   "cell_type": "code",
   "execution_count": 6,
   "metadata": {},
   "outputs": [
    {
     "data": {
      "text/plain": [
       "array([[        1,      1193,         5, 978300760],\n",
       "       [        1,       661,         3, 978302109],\n",
       "       [        1,       914,         3, 978301968],\n",
       "       [        1,      3408,         4, 978300275],\n",
       "       [        1,      2355,         5, 978824291],\n",
       "       [        1,      1197,         3, 978302268],\n",
       "       [        1,      1287,         5, 978302039],\n",
       "       [        1,      2804,         5, 978300719],\n",
       "       [        1,       594,         4, 978302268],\n",
       "       [        1,       919,         4, 978301368]], dtype=int64)"
      ]
     },
     "execution_count": 6,
     "metadata": {},
     "output_type": "execute_result"
    }
   ],
   "source": [
    "# 1행~ 10행 까지 출력\n",
    "data = np.loadtxt(\"data/ml-1m/ratings.dat\", delimiter=\"::\", dtype=np.int64)\n",
    "data[0:10, :]"
   ]
  },
  {
   "cell_type": "code",
   "execution_count": 9,
   "metadata": {},
   "outputs": [
    {
     "data": {
      "text/plain": [
       "array([[   1,  595],\n",
       "       [   1,  938],\n",
       "       [   1, 2398],\n",
       "       [   1, 2918],\n",
       "       [   1, 1035]], dtype=int64)"
      ]
     },
     "execution_count": 9,
     "metadata": {},
     "output_type": "execute_result"
    }
   ],
   "source": [
    "# 11행~ 15행까지 userid와 movieid를 출력\n",
    "data[10:15, :2]"
   ]
  },
  {
   "cell_type": "code",
   "execution_count": 14,
   "metadata": {},
   "outputs": [
    {
     "data": {
      "text/plain": [
       "3.581564453029317"
      ]
     },
     "execution_count": 14,
     "metadata": {},
     "output_type": "execute_result"
    }
   ],
   "source": [
    "# 전체 평점 평균\n",
    "r = np.mean(data[:,2])\n",
    "r"
   ]
  },
  {
   "cell_type": "code",
   "execution_count": 29,
   "metadata": {},
   "outputs": [
    {
     "data": {
      "text/plain": [
       "array([   1,    2,    3, ..., 6038, 6039, 6040], dtype=int64)"
      ]
     },
     "execution_count": 29,
     "metadata": {},
     "output_type": "execute_result"
    }
   ],
   "source": [
    "# 사용자별 평점 평균 (중복 제거)\n",
    "user_ids = np.unique(data[:,0])\n",
    "user_ids"
   ]
  },
  {
   "cell_type": "code",
   "execution_count": 23,
   "metadata": {},
   "outputs": [],
   "source": [
    "# 참고페이지:https://nittaku.tistory.com/109\n",
    "# 원하는 조건성분: for문을 통해서 user_ids에 있는 것이 하나씩 입력되는 user_id\n",
    "# append()함수를 사용해서 데이터를 받아줄 list를 하나 만들어준다\n",
    "# mean_rating_by_user_list는 기준인 user_id와 각 사용자의 평점들을 평균낸 값을 받아줄 것이다\n",
    "mean_rating_by_user_list = []\n",
    "for user_id in user_ids:\n",
    "    # 특정열->특정성분을 가진 행들만을 뽑아서 모으는 과정\n",
    "    # 마스크를 만든다(전체기준열 ==중복없는 기준열 중 원하는 조건) -> data[:,0] == user_id\n",
    "    # 마스크를 전체데이터의 행index에 집어넣어서, 기준을 만족하는 행들만 받아오는 data_for_user에 넣는다\n",
    "    data_for_user = data[data[:,0] == user_id, :]\n",
    "    # 원하는 행들만 모여있는 data_for_user에서 평점을 의미하는 3열만 인덱싱한 뒤, 그 array에 대해 array.mean()으로 평균을 구하여 객체에 담는다.\n",
    "    # 현재 조건인 user_id에 대한 행들의 평점array를 평균낸 값이 저장된다.\n",
    "    mean_rating_for_user = data_for_user[:,2].mean();\n",
    "    #mean_rating_by_user_list라는 빈 리스트에 '넣을 list변수.append([리스트,성분])'을 통해 \n",
    "    #해당 user_id와 함께 해당 user_id에 대한 평점들의 평균(data_for_user)을 같이 담을 것이다.\n",
    "    mean_rating_by_user_list.append([user_id, mean_rating_for_user])"
   ]
  },
  {
   "cell_type": "code",
   "execution_count": 26,
   "metadata": {},
   "outputs": [
    {
     "data": {
      "text/plain": [
       "[[1, 4.188679245283019],\n",
       " [2, 3.7131782945736433],\n",
       " [3, 3.9019607843137254],\n",
       " [4, 4.190476190476191],\n",
       " [5, 3.1464646464646466],\n",
       " [6, 3.9014084507042255],\n",
       " [7, 4.32258064516129],\n",
       " [8, 3.884892086330935],\n",
       " [9, 3.7358490566037736],\n",
       " [10, 4.114713216957606]]"
      ]
     },
     "execution_count": 26,
     "metadata": {},
     "output_type": "execute_result"
    }
   ],
   "source": [
    "mean_rating_by_user_list[:10]"
   ]
  },
  {
   "cell_type": "code",
   "execution_count": 5,
   "metadata": {},
   "outputs": [
    {
     "name": "stdout",
     "output_type": "stream",
     "text": [
      "결과:\n",
      "[[1, 4.188679245283019], [2, 3.7131782945736433], [3, 3.9019607843137254], [4, 4.190476190476191], [5, 3.1464646464646466], [6, 3.9014084507042255], [7, 4.32258064516129], [8, 3.884892086330935], [9, 3.7358490566037736], [10, 4.114713216957606]]\n"
     ]
    }
   ],
   "source": [
    "# 사용자별 평점 평균 (중복 제거)\n",
    "# unique한 사용자 골라내기(강사 답안)\n",
    "user_id = np.unique(data[:,0])\n",
    "user_id\n",
    "\n",
    "mean_values = []\n",
    "for id in user_id:\n",
    "    data_for_user = data[data[:,0]== id,:]\n",
    "    value = data_for_user[:,2].mean()\n",
    "    mean_values.append([id, value])  # value누적하기\n",
    "    \n",
    "print(\"결과:\")\n",
    "print(mean_values[:10])"
   ]
  },
  {
   "cell_type": "code",
   "execution_count": 8,
   "metadata": {},
   "outputs": [
    {
     "name": "stdout",
     "output_type": "stream",
     "text": [
      "[[ 1.         4.188679 ]\n",
      " [ 2.         3.7131784]\n",
      " [ 3.         3.9019608]\n",
      " [ 4.         4.1904764]\n",
      " [ 5.         3.1464646]\n",
      " [ 6.         3.9014084]\n",
      " [ 7.         4.322581 ]\n",
      " [ 8.         3.884892 ]\n",
      " [ 9.         3.7358491]\n",
      " [10.         4.114713 ]]\n"
     ]
    }
   ],
   "source": [
    "# 결과값을 csv파일로 저장\n",
    "# mean_values 파일형식 list -> 배열로 바꿔야 numpy로 저장가능\n",
    "mean_array = np.array(mean_values, dtype=np.float32)\n",
    "print(mean_array[:10])\n",
    "np.savetxt(\"data/ml-1m/id_ration.csv\", mean_array, fmt = \"%.1f\", delimiter=\",\")"
   ]
  },
  {
   "cell_type": "code",
   "execution_count": null,
   "metadata": {},
   "outputs": [],
   "source": []
  },
  {
   "cell_type": "code",
   "execution_count": null,
   "metadata": {},
   "outputs": [],
   "source": []
  },
  {
   "cell_type": "code",
   "execution_count": null,
   "metadata": {},
   "outputs": [],
   "source": []
  },
  {
   "cell_type": "code",
   "execution_count": null,
   "metadata": {},
   "outputs": [],
   "source": []
  },
  {
   "cell_type": "code",
   "execution_count": null,
   "metadata": {},
   "outputs": [],
   "source": []
  },
  {
   "cell_type": "code",
   "execution_count": null,
   "metadata": {},
   "outputs": [],
   "source": []
  },
  {
   "cell_type": "code",
   "execution_count": null,
   "metadata": {},
   "outputs": [],
   "source": []
  },
  {
   "cell_type": "code",
   "execution_count": null,
   "metadata": {},
   "outputs": [],
   "source": []
  }
 ],
 "metadata": {
  "kernelspec": {
   "display_name": "Python 3",
   "language": "python",
   "name": "python3"
  },
  "language_info": {
   "codemirror_mode": {
    "name": "ipython",
    "version": 3
   },
   "file_extension": ".py",
   "mimetype": "text/x-python",
   "name": "python",
   "nbconvert_exporter": "python",
   "pygments_lexer": "ipython3",
   "version": "3.7.1"
  }
 },
 "nbformat": 4,
 "nbformat_minor": 2
}
