{
 "cells": [
  {
   "cell_type": "markdown",
   "metadata": {},
   "source": [
    "# Regular Expression\n",
    "    https://docs.python.org/3/library/re.html\n",
    "    \n",
    "    - 반복\n",
    "        * : 0번 이상 반복\n",
    "        + : 1회 이상 반복\n",
    "        ? : 0회 또는 1회\n",
    "       {m} : m회 반복\n",
    "       {m,n} : m회부터 n회까지 반복\n",
    "       \n",
    "    - 매칭 메타문자\n",
    "        . : 줄바꿈 문자를 제외한 모든 문자와 메치\n",
    "        ^ : 문자열의 시작과 매치\n",
    "        $ : 문자열의 마지막과 매치\n",
    "       [ ] : 문자 집합 중 한 문자를 의미\n",
    "       | : \"또는(or)\"을 의미\n",
    "       { } : 정규식을 그룹으로 묶음\n",
    "       \n",
    "    - 특수 문자(\\문자)\n",
    "        \\d : 모든 숫자와 매치\n",
    "        \\D : 숫자가 아닌 문자와 매치\n",
    "        \\s : 공백(space) 문자와 매치\n",
    "        \\S : 공백 문자가 아닌 모든 것과 매치\n",
    "        \\w : 숫자 또는 문자와 매치\n",
    "        \\W : 숫자 또는 문자가 아닌 모든 문자와 매치? (특수문자 의미?)\n",
    "        \n",
    "    - 파이썬에서 제공하는 메서드\n",
    "        compile()\n",
    "        match()\n",
    "        search()\n",
    "        split()\n",
    "        findall()\n",
    "        finditer()\n",
    "        sub()\n",
    "        ..."
   ]
  },
  {
   "cell_type": "code",
   "execution_count": 5,
   "metadata": {},
   "outputs": [
    {
     "data": {
      "text/plain": [
       "'파이썬은 범용 언어'"
      ]
     },
     "execution_count": 5,
     "metadata": {},
     "output_type": "execute_result"
    }
   ],
   "source": [
    "s = \"파이썬은 멋진 언어\"\n",
    "\n",
    "# replace()\n",
    "s.replace('멋진', '범용')\n",
    "\n",
    "# slice를 이용\n",
    "s[:5] + s[5:7].replace('멋진', '범용') + s[7:]   # '파이썬은' + '멋진'->'범용' + '언어'\n",
    "\n",
    "# re 모듈을 이용\n",
    "import re\n",
    "re.sub('멋진', '범용', s)"
   ]
  },
  {
   "cell_type": "code",
   "execution_count": 13,
   "metadata": {},
   "outputs": [
    {
     "name": "stdout",
     "output_type": "stream",
     "text": [
      "['123']\n",
      "['가나다']\n",
      "[]\n",
      "['1', '2', '3', '4']\n",
      "['1', '2', '3', '4', '5', '5', '5', '6']\n",
      "['1234', '555', '6']\n",
      "['12', '34', '55']\n",
      "['123', '555']\n"
     ]
    }
   ],
   "source": [
    "ss = '1234 abc가나다ABC_555_6'\n",
    "\n",
    "print(re.findall(r'123', ss))    # 괄호 안의 r : raw (특별하게 가공하지 않은 원래의 형태, 원시적인 문자)\n",
    "print(re.findall(r'가나다', ss))\n",
    "print(re.findall(r'[0]',ss))   # 0이라는 숫자만 찾겠다 => 출력값없음\n",
    "print(re.findall(r'[01234]',ss))   # 이 중에서 하나라도 매칭되면 그 값 출력함 => '1', '2', '3', '4'\n",
    "print(re.findall(r'[0-9]',ss))    # 0부터 9 까지라는 뜻\n",
    "\n",
    "# 반복횟수 지정\n",
    "print(re.findall(r'[0-9]+',ss))  # 1개 이상 오는 값들??\n",
    "print(re.findall(r'[0-9]{2}',ss))   # 2개씩 끊는건가? 뭔 의미인지 모르겠네\n",
    "print(re.findall(r'[0-9]{2,3}',ss))  # 2번이상 3번이하"
   ]
  },
  {
   "cell_type": "code",
   "execution_count": 21,
   "metadata": {},
   "outputs": [
    {
     "name": "stdout",
     "output_type": "stream",
     "text": [
      "['abc', 'mbc']\n",
      "['1']\n",
      "['234 abc가나다ABC_555_6 mbc air air']\n",
      "['abc', 'air', 'air']\n",
      "['air']\n"
     ]
    }
   ],
   "source": [
    "ss = '1234 abc가나다ABC_555_6 mbc air air'\n",
    "\n",
    "print(re.findall(r'.bc',ss))    # . 앞의 문자가 뭐든 상관없이 bc들어간 것 끌어 옴\n",
    "print(re.findall(r'^1+',ss))    # 반드시 1로 시작하고 1이 여러개 나오는 것\n",
    "print(re.findall(r'[^1]+',ss))   # [^1] : 1을 제외한 나머지 문자 , 여기에 +를 붙여주면 연속적인 문자형태로 출력된다.\n",
    "print(re.findall(r'a..',ss))    # a로 시작하고 a뒤에 2개가 붙는 문자\n",
    "print(re.findall(r'air$',ss))   # air로 끝나는 것만 찾겠다"
   ]
  },
  {
   "cell_type": "code",
   "execution_count": 26,
   "metadata": {},
   "outputs": [
    {
     "name": "stdout",
     "output_type": "stream",
     "text": [
      "['8', '0', '1', '0', '0', '5']\n",
      "['8', '0', '1', '0', '0', '5']\n",
      "['80', '10']\n",
      "['80', '100', '5']\n",
      "['100']\n"
     ]
    }
   ],
   "source": [
    "ss = 'tom 80, james 100, oscar 5'\n",
    "\n",
    "print(re.findall(r'[0-9]', ss))\n",
    "print(re.findall(r'\\d', ss))\n",
    "print(re.findall(r'\\d{2}', ss))\n",
    "print(re.findall(r'\\d{1,3}', ss))\n",
    "print(re.findall(r'\\d\\d\\d', ss))   # 3개의 숫자가 연달아 오는 것"
   ]
  },
  {
   "cell_type": "code",
   "execution_count": 27,
   "metadata": {},
   "outputs": [
    {
     "name": "stdout",
     "output_type": "stream",
     "text": [
      "['mbc', 'kbs', 'sbs', 'ytn']\n"
     ]
    }
   ],
   "source": [
    "# split : 찾아서 분리\n",
    "print(re.split('\\W+', 'mbc,kbs sbs:ytn'))"
   ]
  },
  {
   "cell_type": "code",
   "execution_count": 29,
   "metadata": {},
   "outputs": [
    {
     "name": "stdout",
     "output_type": "stream",
     "text": [
      "<re.Match object; span=(0, 4), match='1234'>\n"
     ]
    }
   ],
   "source": [
    "# search는 가장 먼저 찾아지는 값을 return한다.\n",
    "s = re.search(r'[0-9]+', '1234 abc가나다ABC_567')\n",
    "print(s)"
   ]
  },
  {
   "cell_type": "code",
   "execution_count": 31,
   "metadata": {},
   "outputs": [
    {
     "name": "stdout",
     "output_type": "stream",
     "text": [
      "888 abc가나다ABC_888\n"
     ]
    }
   ],
   "source": [
    "# sub : 찾아줘서 치환\n",
    "s = re.sub('[0-9]+', '888', '1234 abc가나다ABC_567')    # [0-9]+ : 0~9까지 1번이상 반복되는 것\n",
    "print(s)  # 0~9의 숫자들은 888로 치환됨."
   ]
  },
  {
   "cell_type": "code",
   "execution_count": 34,
   "metadata": {},
   "outputs": [
    {
     "name": "stdout",
     "output_type": "stream",
     "text": [
      "True\n",
      "False\n"
     ]
    }
   ],
   "source": [
    "# 전화번호 검사\n",
    "regexp = \"^\\d{3}-\\d{3,4}-\\d{4}\"   # 시작은 반드시 숫자로 해야한다고 표시\n",
    "\n",
    "test1 = \"010-111-1111\"\n",
    "test2 = \"0101111111\"\n",
    "\n",
    "print(bool(re.search(regexp,test1)))\n",
    "print(bool(re.search(regexp,test2)))  # 안되넹."
   ]
  },
  {
   "cell_type": "code",
   "execution_count": null,
   "metadata": {},
   "outputs": [],
   "source": []
  },
  {
   "cell_type": "code",
   "execution_count": null,
   "metadata": {},
   "outputs": [],
   "source": []
  },
  {
   "cell_type": "code",
   "execution_count": null,
   "metadata": {},
   "outputs": [],
   "source": []
  },
  {
   "cell_type": "code",
   "execution_count": null,
   "metadata": {},
   "outputs": [],
   "source": []
  },
  {
   "cell_type": "code",
   "execution_count": null,
   "metadata": {},
   "outputs": [],
   "source": []
  },
  {
   "cell_type": "code",
   "execution_count": null,
   "metadata": {},
   "outputs": [],
   "source": []
  },
  {
   "cell_type": "code",
   "execution_count": null,
   "metadata": {},
   "outputs": [],
   "source": []
  },
  {
   "cell_type": "code",
   "execution_count": null,
   "metadata": {},
   "outputs": [],
   "source": []
  },
  {
   "cell_type": "code",
   "execution_count": null,
   "metadata": {},
   "outputs": [],
   "source": []
  },
  {
   "cell_type": "code",
   "execution_count": null,
   "metadata": {},
   "outputs": [],
   "source": []
  },
  {
   "cell_type": "code",
   "execution_count": null,
   "metadata": {},
   "outputs": [],
   "source": []
  }
 ],
 "metadata": {
  "kernelspec": {
   "display_name": "Python 3",
   "language": "python",
   "name": "python3"
  },
  "language_info": {
   "codemirror_mode": {
    "name": "ipython",
    "version": 3
   },
   "file_extension": ".py",
   "mimetype": "text/x-python",
   "name": "python",
   "nbconvert_exporter": "python",
   "pygments_lexer": "ipython3",
   "version": "3.7.1"
  }
 },
 "nbformat": 4,
 "nbformat_minor": 2
}
