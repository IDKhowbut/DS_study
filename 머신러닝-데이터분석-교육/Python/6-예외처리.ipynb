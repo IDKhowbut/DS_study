{
 "cells": [
  {
   "cell_type": "markdown",
   "metadata": {},
   "source": [
    "## 예외처리를 하는 이유\n",
    "\n",
    "    1. 자연스러운 에러 메시지를 출력\n",
    "    2. 프로그램의 비정상적인 종료를 방지\n",
    "    \n",
    "## 문법\n",
    "\n",
    "    try:                    *참고 - 오류가 발생할 것 같은 코드의 위치에 try를 써줌, 지금까지는 오류가 나면 시스템에서 인지하여 처리\n",
    "        문장(일반 코드)\n",
    "        ...\n",
    "    except [예외처리 클래스 [as 변수]]:\n",
    "        문장(예외가 발생했을때 실행될 코드)     *참고- 오류가 시스템에 보내지기 전에 오류정보 가져와서 처리\n",
    "        ...\n",
    "    [else:                                  \n",
    "        문장(예외가 발생하지 않았을 경우 작성될 코드)       \n",
    "        ...] \n",
    "    [finally:\n",
    "        문장(예외 발생과는 무관하게 항상 실행될 코드)\n",
    "        ...]\n",
    "        \n",
    "### 오류를 일부러 발생 : raise\n",
    "\n",
    "    1) except에 대한 test\n",
    "    2) 사용자 정의 예외처리 클래스"
   ]
  },
  {
   "cell_type": "code",
   "execution_count": 5,
   "metadata": {},
   "outputs": [
    {
     "name": "stdout",
     "output_type": "stream",
     "text": [
      "5.0\n",
      "잘 실행되었습니까?\n",
      "0으로 나누면 안됩니다.\n",
      "잘 실행되었습니까?\n"
     ]
    }
   ],
   "source": [
    "def test(num):\n",
    "    try:                         # error 발생! -> try 건너뛰고 except로 내려감 -> except에서 처리\n",
    "        a = 10/num\n",
    "        print(a)\n",
    "    except:\n",
    "        print(\"0으로 나누면 안됩니다.\")\n",
    "    print(\"잘 실행되었습니까?\")\n",
    "######################################################\n",
    "test(2)\n",
    "test(0)"
   ]
  },
  {
   "cell_type": "code",
   "execution_count": 15,
   "metadata": {},
   "outputs": [
    {
     "name": "stdout",
     "output_type": "stream",
     "text": [
      "0으로 나누면 안됩니다. division by zero\n",
      "잘 실행되었습니까?\n",
      "5.0\n",
      "Index사용이 잘못되었습니다.\n",
      "잘 실행되었습니까?\n"
     ]
    }
   ],
   "source": [
    "def test(num):\n",
    "    try:                         \n",
    "        a = 10/num\n",
    "        print(a)\n",
    "        \n",
    "        b = [1, 2, 3]\n",
    "        print(b[4])   # b의 4번째 요소의 값을 print\n",
    "    except ZeroDivisionError as e1:                     # 밑으로 내려갈수록 부모클래스를 적용하는게 좀 더 유리(포괄범위가 넓어짐)\n",
    "        print(\"0으로 나누면 안됩니다.\", e1)             # 자식클래스가 제일 위에 올라오도록?\n",
    "    except IndexError:\n",
    "        print(\"Index사용이 잘못되었습니다.\")\n",
    "    except Exception:\n",
    "        print(\"일반 오류\")\n",
    "        \n",
    "    print(\"잘 실행되었습니까?\")\n",
    "##################################################################\n",
    "test(0)\n",
    "test(2)"
   ]
  },
  {
   "cell_type": "code",
   "execution_count": 9,
   "metadata": {
    "collapsed": true
   },
   "outputs": [
    {
     "ename": "ZeroDivisionError",
     "evalue": "division by zero",
     "output_type": "error",
     "traceback": [
      "\u001b[1;31m---------------------------------------------------------------------------\u001b[0m",
      "\u001b[1;31mZeroDivisionError\u001b[0m                         Traceback (most recent call last)",
      "\u001b[1;32m<ipython-input-9-a782caa3cb7c>\u001b[0m in \u001b[0;36m<module>\u001b[1;34m\u001b[0m\n\u001b[0;32m      3\u001b[0m     \u001b[0mprint\u001b[0m\u001b[1;33m(\u001b[0m\u001b[0ma\u001b[0m\u001b[1;33m)\u001b[0m\u001b[1;33m\u001b[0m\u001b[1;33m\u001b[0m\u001b[0m\n\u001b[0;32m      4\u001b[0m \u001b[1;31m#####################################\u001b[0m\u001b[1;33m\u001b[0m\u001b[1;33m\u001b[0m\u001b[1;33m\u001b[0m\u001b[0m\n\u001b[1;32m----> 5\u001b[1;33m \u001b[0mtest\u001b[0m\u001b[1;33m(\u001b[0m\u001b[1;33m)\u001b[0m\u001b[1;33m\u001b[0m\u001b[1;33m\u001b[0m\u001b[0m\n\u001b[0m",
      "\u001b[1;32m<ipython-input-9-a782caa3cb7c>\u001b[0m in \u001b[0;36mtest\u001b[1;34m()\u001b[0m\n\u001b[0;32m      1\u001b[0m \u001b[1;32mdef\u001b[0m \u001b[0mtest\u001b[0m\u001b[1;33m(\u001b[0m\u001b[1;33m)\u001b[0m\u001b[1;33m:\u001b[0m\u001b[1;33m\u001b[0m\u001b[1;33m\u001b[0m\u001b[0m\n\u001b[1;32m----> 2\u001b[1;33m     \u001b[0ma\u001b[0m \u001b[1;33m=\u001b[0m \u001b[1;36m10\u001b[0m\u001b[1;33m/\u001b[0m\u001b[1;36m0\u001b[0m        \u001b[1;31m#index error인데 except를 넣으면 except로 가서 설정해놓은 문장이 출력됌-> 클래스 지정으로 잡아준다.\u001b[0m\u001b[1;33m\u001b[0m\u001b[1;33m\u001b[0m\u001b[0m\n\u001b[0m\u001b[0;32m      3\u001b[0m     \u001b[0mprint\u001b[0m\u001b[1;33m(\u001b[0m\u001b[0ma\u001b[0m\u001b[1;33m)\u001b[0m\u001b[1;33m\u001b[0m\u001b[1;33m\u001b[0m\u001b[0m\n\u001b[0;32m      4\u001b[0m \u001b[1;31m#####################################\u001b[0m\u001b[1;33m\u001b[0m\u001b[1;33m\u001b[0m\u001b[1;33m\u001b[0m\u001b[0m\n\u001b[0;32m      5\u001b[0m \u001b[0mtest\u001b[0m\u001b[1;33m(\u001b[0m\u001b[1;33m)\u001b[0m\u001b[1;33m\u001b[0m\u001b[1;33m\u001b[0m\u001b[0m\n",
      "\u001b[1;31mZeroDivisionError\u001b[0m: division by zero"
     ]
    }
   ],
   "source": [
    "def test():\n",
    "    a = 10/0        # 나오는 error의 종류를 보고 이 클래스를 except에 적용하면 된다. (여기에선 ZeroDivisionError)\n",
    "    print(a)\n",
    "#####################################    \n",
    "test()"
   ]
  },
  {
   "cell_type": "code",
   "execution_count": 25,
   "metadata": {
    "collapsed": true
   },
   "outputs": [
    {
     "name": "stdout",
     "output_type": "stream",
     "text": [
      "0으로 나누면 안됩니다. division by zero\n",
      "무조건 실행되는 문장\n"
     ]
    },
    {
     "ename": "SystemExit",
     "evalue": "",
     "output_type": "error",
     "traceback": [
      "An exception has occurred, use %tb to see the full traceback.\n",
      "\u001b[1;31mSystemExit\u001b[0m\n"
     ]
    },
    {
     "name": "stderr",
     "output_type": "stream",
     "text": [
      "C:\\Users\\acorn\\Anaconda3\\lib\\site-packages\\IPython\\core\\interactiveshell.py:3275: UserWarning: To exit: use 'exit', 'quit', or Ctrl-D.\n",
      "  warn(\"To exit: use 'exit', 'quit', or Ctrl-D.\", stacklevel=1)\n"
     ]
    }
   ],
   "source": [
    "import sys\n",
    "def test(num):\n",
    "    try:                         \n",
    "        a = 10/num\n",
    "        print(a)\n",
    "        \n",
    "        b = [1, 2, 3, 4, 5]\n",
    "        print(b[4])   # b의 4번째 요소의 값을 print\n",
    "    except ZeroDivisionError as e1:                     # 밑으로 내려갈수록 부모클래스를 적용하는게 좀 더 유리(포괄범위가 넓어짐)\n",
    "        print(\"0으로 나누면 안됩니다.\", e1)             # 자식클래스가 제일 위에 올라오도록?\n",
    "        # return\n",
    "        sys.exit()\n",
    "    except IndexError as e1:\n",
    "        print(\"Index사용이 잘못되었습니다.\", e1)\n",
    "    else:\n",
    "        print(\"에러가 발생하지 않았습니다.\")\n",
    "    finally:                                    # 굳이 필요한 이유? (바깥쪽에 print로 해도 무조건 실행될텐데) => 프로그램을 중지해야할 때\n",
    "        print(\"무조건 실행되는 문장\")\n",
    "        \n",
    "    print(\"잘 실행되었습니까?\")\n",
    "##################################################################\n",
    "test(0)\n",
    "test(2)"
   ]
  },
  {
   "cell_type": "code",
   "execution_count": 27,
   "metadata": {
    "collapsed": true
   },
   "outputs": [
    {
     "name": "stdout",
     "output_type": "stream",
     "text": [
      "오류 원인:  division by zero\n"
     ]
    },
    {
     "ename": "AttributeError",
     "evalue": "module 'traceback' has no attribute 'print_exec'",
     "output_type": "error",
     "traceback": [
      "\u001b[1;31m---------------------------------------------------------------------------\u001b[0m",
      "\u001b[1;31mZeroDivisionError\u001b[0m                         Traceback (most recent call last)",
      "\u001b[1;32m<ipython-input-27-2f3de1a3b747>\u001b[0m in \u001b[0;36mthird\u001b[1;34m()\u001b[0m\n\u001b[0;32m      4\u001b[0m     \u001b[1;32mtry\u001b[0m\u001b[1;33m:\u001b[0m\u001b[1;33m\u001b[0m\u001b[1;33m\u001b[0m\u001b[0m\n\u001b[1;32m----> 5\u001b[1;33m         \u001b[0ma\u001b[0m \u001b[1;33m=\u001b[0m \u001b[1;36m10\u001b[0m\u001b[1;33m/\u001b[0m\u001b[1;36m0\u001b[0m\u001b[1;33m\u001b[0m\u001b[1;33m\u001b[0m\u001b[0m\n\u001b[0m\u001b[0;32m      6\u001b[0m         \u001b[0mprint\u001b[0m\u001b[1;33m(\u001b[0m\u001b[0ma\u001b[0m\u001b[1;33m)\u001b[0m\u001b[1;33m\u001b[0m\u001b[1;33m\u001b[0m\u001b[0m\n",
      "\u001b[1;31mZeroDivisionError\u001b[0m: division by zero",
      "\nDuring handling of the above exception, another exception occurred:\n",
      "\u001b[1;31mAttributeError\u001b[0m                            Traceback (most recent call last)",
      "\u001b[1;32m<ipython-input-27-2f3de1a3b747>\u001b[0m in \u001b[0;36m<module>\u001b[1;34m\u001b[0m\n\u001b[0;32m     13\u001b[0m     \u001b[0msecond\u001b[0m\u001b[1;33m(\u001b[0m\u001b[1;33m)\u001b[0m\u001b[1;33m\u001b[0m\u001b[1;33m\u001b[0m\u001b[0m\n\u001b[0;32m     14\u001b[0m \u001b[1;31m#####################################################################\u001b[0m\u001b[1;33m\u001b[0m\u001b[1;33m\u001b[0m\u001b[1;33m\u001b[0m\u001b[0m\n\u001b[1;32m---> 15\u001b[1;33m \u001b[0mfirst\u001b[0m\u001b[1;33m(\u001b[0m\u001b[1;33m)\u001b[0m\u001b[1;33m\u001b[0m\u001b[1;33m\u001b[0m\u001b[0m\n\u001b[0m",
      "\u001b[1;32m<ipython-input-27-2f3de1a3b747>\u001b[0m in \u001b[0;36mfirst\u001b[1;34m()\u001b[0m\n\u001b[0;32m     11\u001b[0m     \u001b[0mthird\u001b[0m\u001b[1;33m(\u001b[0m\u001b[1;33m)\u001b[0m\u001b[1;33m\u001b[0m\u001b[1;33m\u001b[0m\u001b[0m\n\u001b[0;32m     12\u001b[0m \u001b[1;32mdef\u001b[0m \u001b[0mfirst\u001b[0m \u001b[1;33m(\u001b[0m\u001b[1;33m)\u001b[0m\u001b[1;33m:\u001b[0m\u001b[1;33m\u001b[0m\u001b[1;33m\u001b[0m\u001b[0m\n\u001b[1;32m---> 13\u001b[1;33m     \u001b[0msecond\u001b[0m\u001b[1;33m(\u001b[0m\u001b[1;33m)\u001b[0m\u001b[1;33m\u001b[0m\u001b[1;33m\u001b[0m\u001b[0m\n\u001b[0m\u001b[0;32m     14\u001b[0m \u001b[1;31m#####################################################################\u001b[0m\u001b[1;33m\u001b[0m\u001b[1;33m\u001b[0m\u001b[1;33m\u001b[0m\u001b[0m\n\u001b[0;32m     15\u001b[0m \u001b[0mfirst\u001b[0m\u001b[1;33m(\u001b[0m\u001b[1;33m)\u001b[0m\u001b[1;33m\u001b[0m\u001b[1;33m\u001b[0m\u001b[0m\n",
      "\u001b[1;32m<ipython-input-27-2f3de1a3b747>\u001b[0m in \u001b[0;36msecond\u001b[1;34m()\u001b[0m\n\u001b[0;32m      9\u001b[0m         \u001b[0mtraceback\u001b[0m\u001b[1;33m.\u001b[0m\u001b[0mprint_exec\u001b[0m\u001b[1;33m(\u001b[0m\u001b[1;33m)\u001b[0m\u001b[1;33m\u001b[0m\u001b[1;33m\u001b[0m\u001b[0m\n\u001b[0;32m     10\u001b[0m \u001b[1;32mdef\u001b[0m \u001b[0msecond\u001b[0m\u001b[1;33m(\u001b[0m\u001b[1;33m)\u001b[0m\u001b[1;33m:\u001b[0m\u001b[1;33m\u001b[0m\u001b[1;33m\u001b[0m\u001b[0m\n\u001b[1;32m---> 11\u001b[1;33m     \u001b[0mthird\u001b[0m\u001b[1;33m(\u001b[0m\u001b[1;33m)\u001b[0m\u001b[1;33m\u001b[0m\u001b[1;33m\u001b[0m\u001b[0m\n\u001b[0m\u001b[0;32m     12\u001b[0m \u001b[1;32mdef\u001b[0m \u001b[0mfirst\u001b[0m \u001b[1;33m(\u001b[0m\u001b[1;33m)\u001b[0m\u001b[1;33m:\u001b[0m\u001b[1;33m\u001b[0m\u001b[1;33m\u001b[0m\u001b[0m\n\u001b[0;32m     13\u001b[0m     \u001b[0msecond\u001b[0m\u001b[1;33m(\u001b[0m\u001b[1;33m)\u001b[0m\u001b[1;33m\u001b[0m\u001b[1;33m\u001b[0m\u001b[0m\n",
      "\u001b[1;32m<ipython-input-27-2f3de1a3b747>\u001b[0m in \u001b[0;36mthird\u001b[1;34m()\u001b[0m\n\u001b[0;32m      7\u001b[0m     \u001b[1;32mexcept\u001b[0m \u001b[0mZeroDivisionError\u001b[0m \u001b[1;32mas\u001b[0m \u001b[0me1\u001b[0m\u001b[1;33m:\u001b[0m\u001b[1;33m\u001b[0m\u001b[1;33m\u001b[0m\u001b[0m\n\u001b[0;32m      8\u001b[0m         \u001b[0mprint\u001b[0m\u001b[1;33m(\u001b[0m\u001b[1;34m\"오류 원인: \"\u001b[0m\u001b[1;33m,\u001b[0m \u001b[0me1\u001b[0m\u001b[1;33m)\u001b[0m\u001b[1;33m\u001b[0m\u001b[1;33m\u001b[0m\u001b[0m\n\u001b[1;32m----> 9\u001b[1;33m         \u001b[0mtraceback\u001b[0m\u001b[1;33m.\u001b[0m\u001b[0mprint_exec\u001b[0m\u001b[1;33m(\u001b[0m\u001b[1;33m)\u001b[0m\u001b[1;33m\u001b[0m\u001b[1;33m\u001b[0m\u001b[0m\n\u001b[0m\u001b[0;32m     10\u001b[0m \u001b[1;32mdef\u001b[0m \u001b[0msecond\u001b[0m\u001b[1;33m(\u001b[0m\u001b[1;33m)\u001b[0m\u001b[1;33m:\u001b[0m\u001b[1;33m\u001b[0m\u001b[1;33m\u001b[0m\u001b[0m\n\u001b[0;32m     11\u001b[0m     \u001b[0mthird\u001b[0m\u001b[1;33m(\u001b[0m\u001b[1;33m)\u001b[0m\u001b[1;33m\u001b[0m\u001b[1;33m\u001b[0m\u001b[0m\n",
      "\u001b[1;31mAttributeError\u001b[0m: module 'traceback' has no attribute 'print_exec'"
     ]
    }
   ],
   "source": [
    "import traceback\n",
    "\n",
    "def third():\n",
    "    try:\n",
    "        a = 10/0\n",
    "        print(a)\n",
    "    except ZeroDivisionError as e1:\n",
    "        print(\"오류 원인: \", e1)\n",
    "        traceback.print_exec()    # 역추적!\n",
    "def second():\n",
    "    third()\n",
    "def first ():\n",
    "    second()\n",
    "#####################################################################\n",
    "first()"
   ]
  },
  {
   "cell_type": "code",
   "execution_count": 30,
   "metadata": {},
   "outputs": [
    {
     "name": "stdout",
     "output_type": "stream",
     "text": [
      "0으로 나누면 안됩니다. \n"
     ]
    }
   ],
   "source": [
    "def test():\n",
    "    try:\n",
    "        a = 10/2\n",
    "        raise ZeroDivisionError\n",
    "        \n",
    "        print(a)\n",
    "    except ZeroDivisionError as e1:\n",
    "        print(\"0으로 나누면 안됩니다.\", e1)\n",
    "        \n",
    "##################################################################\n",
    "test()"
   ]
  },
  {
   "cell_type": "code",
   "execution_count": 45,
   "metadata": {},
   "outputs": [
    {
     "name": "stdout",
     "output_type": "stream",
     "text": [
      "프로그램 시작\n",
      "5.0\n",
      "음수로 나눌 수 없다.\n"
     ]
    }
   ],
   "source": [
    "def positiveDivide(a, b):\n",
    "    if b<0:\n",
    "        raise NegativeDivideError\n",
    "        \n",
    "    return a/b\n",
    "\n",
    "###################################################\n",
    "\n",
    "class NegativeDivideError(Exception):\n",
    "    pass\n",
    "\n",
    "##################################################\n",
    "\n",
    "def main():\n",
    "    print(\"프로그램 시작\")\n",
    "    try:\n",
    "        result = positiveDivide(10, 2)\n",
    "        print(result)\n",
    "        \n",
    "        result = positiveDivide(10, -2)\n",
    "        print(result)\n",
    "    except NegativeDivideError:\n",
    "        print(\"음수로 나눌 수 없다.\")\n",
    "    \n",
    "###################################################\n",
    "\n",
    "if __name__ == \"__main__\":\n",
    "    main()"
   ]
  },
  {
   "cell_type": "code",
   "execution_count": null,
   "metadata": {},
   "outputs": [],
   "source": []
  },
  {
   "cell_type": "code",
   "execution_count": null,
   "metadata": {},
   "outputs": [],
   "source": []
  }
 ],
 "metadata": {
  "kernelspec": {
   "display_name": "Python 3",
   "language": "python",
   "name": "python3"
  },
  "language_info": {
   "codemirror_mode": {
    "name": "ipython",
    "version": 3
   },
   "file_extension": ".py",
   "mimetype": "text/x-python",
   "name": "python",
   "nbconvert_exporter": "python",
   "pygments_lexer": "ipython3",
   "version": "3.7.1"
  }
 },
 "nbformat": 4,
 "nbformat_minor": 2
}
