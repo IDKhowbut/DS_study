{
 "cells": [
  {
   "cell_type": "markdown",
   "metadata": {},
   "source": [
    "# 클로저"
   ]
  },
  {
   "cell_type": "code",
   "execution_count": null,
   "metadata": {},
   "outputs": [],
   "source": [
    "# 클로저(Closure)\n",
    "'''\n",
    "함수 밖에서 임의의 함수 안에서 선언된 지역변수를 계속 참조할 수 있게하는 방법\n",
    "'''\n",
    "# 함수를 중첩해서 사용하는 방법\n",
    "def out():\n",
    "    count = 0\n",
    "    def inn():\n",
    "        nonlocal count  # 이걸 써놓으면 참조가능\n",
    "        count += 1\n",
    "        return count\n",
    "    print(inn())\n",
    "#######################################################\n",
    "out()\n",
    "out() # 증가가 안된다..! 함수한번호출하고나면 기능 사라져버려서 -> 이걸 계속쓸 수 있게 만드는 \"클로저\""
   ]
  },
  {
   "cell_type": "code",
   "execution_count": null,
   "metadata": {},
   "outputs": [],
   "source": [
    "def outer():\n",
    "    count = 0\n",
    "    def inner():\n",
    "        nonlocal count  # 이걸 써놓으면 참조가능\n",
    "        count += 1\n",
    "        return count\n",
    "    return inner   #함수를 돌려서 저장된 값을 쓸 수 있게끔. 이 방법이 Closure!\n",
    "#######################################################\n",
    "a = outer()\n",
    "print(a())\n",
    "print(a())\n",
    "print(a())"
   ]
  },
  {
   "cell_type": "code",
   "execution_count": null,
   "metadata": {},
   "outputs": [],
   "source": [
    "def outer(tax):\n",
    "    def inner(su, dan):\n",
    "        amount = su * dan * tax\n",
    "        return amount\n",
    "    return inner\n",
    "#######################################\n",
    "tax_rate = outer(0.1)\n",
    "mouse = tax_rate(5, 5000)\n",
    "print(\"마우스 총액 : \", 5*5000)\n",
    "print(\"세금 : \", mouse)\n",
    "\n",
    "print()\n",
    "\n",
    "usb = tax_rate(3, 12000)\n",
    "print(\"usb메모리의 총액은\", 3*12000)\n",
    "print(\"세금 : \", usb)\n",
    "\n",
    "print()\n",
    "\n",
    "tax_rate2 = outer(0.05)\n",
    "pencil = tax_rate2(2, 1000)\n",
    "print(\"연필의 총액은\", 2*1000)\n",
    "print(\"세금:\", pencil)"
   ]
  },
  {
   "cell_type": "markdown",
   "metadata": {},
   "source": [
    "# 람다 함수\n",
    "\n",
    "    쓰고 버리는 임시적 함수\n",
    "    익명함수, 축약함수\n",
    "    filter(), map(), reduce()와  같은 전형적인 기능 개념과 함께 사용되는 매우 강력한 개념\n",
    "    (출처: https://offbyone.tistory.com/73 [쉬고 싶은 개발자])\n",
    "    lambda인자...: 표현식"
   ]
  },
  {
   "cell_type": "code",
   "execution_count": null,
   "metadata": {},
   "outputs": [],
   "source": [
    "def hap(x, y):\n",
    "    return x + y\n",
    "\n",
    "result = hap(2, 3)\n",
    "print(result)\n"
   ]
  },
  {
   "cell_type": "code",
   "execution_count": 1,
   "metadata": {},
   "outputs": [
    {
     "name": "stdout",
     "output_type": "stream",
     "text": [
      "5\n"
     ]
    }
   ],
   "source": [
    "result = (lambda x, y : x + y)(2,3)\n",
    "print(result)"
   ]
  },
  {
   "cell_type": "code",
   "execution_count": 2,
   "metadata": {},
   "outputs": [
    {
     "name": "stdout",
     "output_type": "stream",
     "text": [
      "5\n"
     ]
    }
   ],
   "source": [
    "aaa = lambda x, y : x + y  # return이 숨겨져있다고 생각해라\n",
    "print(aaa(2, 3))"
   ]
  },
  {
   "cell_type": "code",
   "execution_count": 3,
   "metadata": {},
   "outputs": [
    {
     "name": "stdout",
     "output_type": "stream",
     "text": [
      "15\n",
      "11\n"
     ]
    }
   ],
   "source": [
    "bbb = lambda a, b = 10 :a + b\n",
    "print(bbb(5))\n",
    "print(bbb(5, 6))"
   ]
  },
  {
   "cell_type": "code",
   "execution_count": null,
   "metadata": {},
   "outputs": [],
   "source": [
    "# lambda에서는 가변인자를 마지막에 작성해야한다. \n",
    "ccc = lambda a, *b, **c : print(a, b, c)\n",
    "ccc(1, 2, 3, m=4, n=5)"
   ]
  },
  {
   "cell_type": "code",
   "execution_count": 1,
   "metadata": {},
   "outputs": [
    {
     "name": "stdout",
     "output_type": "stream",
     "text": [
      "[0, 1, 2, 3, 4]\n"
     ]
    }
   ],
   "source": [
    "print(list(filter(lambda a: a<5, range(10)))) #총 10개의 데이터 중에서 5보다 작은것을 걸러내라"
   ]
  },
  {
   "cell_type": "markdown",
   "metadata": {},
   "source": [
    "# decorator(장식자)"
   ]
  },
  {
   "cell_type": "code",
   "execution_count": 5,
   "metadata": {},
   "outputs": [
    {
     "name": "stdout",
     "output_type": "stream",
     "text": [
      "안녕반가워홍길동\n"
     ]
    }
   ],
   "source": [
    "def make2(fn): # fn: 함수의 주소\n",
    "    return lambda: \"안녕\" + fn()\n",
    "\n",
    "def make1(fn):\n",
    "    return lambda: \"반가워\" + fn()\n",
    "\n",
    "def hello():\n",
    "    return \"홍길동\"\n",
    "\n",
    "a = make2(make1(hello))\n",
    "print(a())"
   ]
  },
  {
   "cell_type": "code",
   "execution_count": 6,
   "metadata": {},
   "outputs": [
    {
     "name": "stdout",
     "output_type": "stream",
     "text": [
      "안녕반가워임꺽정\n"
     ]
    }
   ],
   "source": [
    "@make2\n",
    "@make1            # 오호.. 이렇게 불러올 수 있다. 이렇게 꾸며줘서 decorator라고 하는군.\n",
    "def hello2():\n",
    "    return \"임꺽정\"\n",
    "\n",
    "b = hello2()\n",
    "print(b)"
   ]
  },
  {
   "cell_type": "code",
   "execution_count": null,
   "metadata": {},
   "outputs": [],
   "source": [
    "def outer(func):\n",
    "    def inner(no1, no2):\n",
    "        print(\"결과는 {0}\".format(func(no1, no2)))\n",
    "    return inner\n",
    "\n",
    "@outer              # \"결과는\" 이란 장식붙이기\n",
    "def func(n1, n2):\n",
    "    return n1 + n2\n",
    "\n",
    "func(3, 4)"
   ]
  },
  {
   "cell_type": "code",
   "execution_count": null,
   "metadata": {},
   "outputs": [],
   "source": [
    "print(__name__)"
   ]
  },
  {
   "cell_type": "code",
   "execution_count": null,
   "metadata": {},
   "outputs": [],
   "source": [
    "import sys\n",
    "sys.path"
   ]
  },
  {
   "cell_type": "code",
   "execution_count": 3,
   "metadata": {},
   "outputs": [
    {
     "ename": "ModuleNotFoundError",
     "evalue": "No module named 'mymodule2'",
     "output_type": "error",
     "traceback": [
      "\u001b[1;31m---------------------------------------------------------------------------\u001b[0m",
      "\u001b[1;31mModuleNotFoundError\u001b[0m                       Traceback (most recent call last)",
      "\u001b[1;32m<ipython-input-3-4e66c3e63010>\u001b[0m in \u001b[0;36m<module>\u001b[1;34m\u001b[0m\n\u001b[1;32m----> 1\u001b[1;33m \u001b[1;32mimport\u001b[0m \u001b[0mmymodule2\u001b[0m     \u001b[1;31m# 모듈을 path가 걸린 곳에 만들어야 아나콘다 환경에서 import 가능(Lib-site packages)\u001b[0m\u001b[1;33m\u001b[0m\u001b[1;33m\u001b[0m\u001b[0m\n\u001b[0m\u001b[0;32m      2\u001b[0m \u001b[0mmymodule2\u001b[0m\u001b[1;33m.\u001b[0m\u001b[0mmyfunc\u001b[0m\u001b[1;33m(\u001b[0m\u001b[1;33m)\u001b[0m   \u001b[1;31m# 좋은 방법은 아님..?\u001b[0m\u001b[1;33m\u001b[0m\u001b[1;33m\u001b[0m\u001b[0m\n",
      "\u001b[1;31mModuleNotFoundError\u001b[0m: No module named 'mymodule2'"
     ]
    }
   ],
   "source": [
    "import mymodule2     # 모듈을 path가 걸린 곳에 만들어야 아나콘다 환경에서 import 가능(Lib-site packages)\n",
    "mymodule2.myfunc()   # 좋은 방법은 아님..?"
   ]
  },
  {
   "cell_type": "code",
   "execution_count": 1,
   "metadata": {},
   "outputs": [
    {
     "name": "stdout",
     "output_type": "stream",
     "text": [
      "This is Test...\n"
     ]
    }
   ],
   "source": [
    "import sys\n",
    "sys.path.append(r\"C:\\chung\\pythonmodule\")  # path 추가\n",
    "\n",
    "import mymodule3\n",
    "mymodule3.myfunc()    # 일시적인 것임. 끄면 사라짐(프로그램을 쓰고 있는 동안만 가능) off&on하면 또 추가해줘야함"
   ]
  },
  {
   "cell_type": "code",
   "execution_count": 2,
   "metadata": {},
   "outputs": [
    {
     "name": "stdout",
     "output_type": "stream",
     "text": [
      "This is Test...\n"
     ]
    }
   ],
   "source": [
    "import mymodule4\n",
    "mymodule4.myfunc()"
   ]
  },
  {
   "cell_type": "code",
   "execution_count": 4,
   "metadata": {},
   "outputs": [
    {
     "name": "stdout",
     "output_type": "stream",
     "text": [
      "This is Test...\n"
     ]
    }
   ],
   "source": [
    "import mymodule3\n",
    "mymodule3.myfunc()"
   ]
  },
  {
   "cell_type": "code",
   "execution_count": null,
   "metadata": {},
   "outputs": [],
   "source": []
  },
  {
   "cell_type": "code",
   "execution_count": null,
   "metadata": {},
   "outputs": [],
   "source": []
  },
  {
   "cell_type": "code",
   "execution_count": null,
   "metadata": {},
   "outputs": [],
   "source": []
  },
  {
   "cell_type": "code",
   "execution_count": null,
   "metadata": {},
   "outputs": [],
   "source": []
  },
  {
   "cell_type": "code",
   "execution_count": null,
   "metadata": {},
   "outputs": [],
   "source": []
  },
  {
   "cell_type": "code",
   "execution_count": null,
   "metadata": {},
   "outputs": [],
   "source": []
  }
 ],
 "metadata": {
  "kernelspec": {
   "display_name": "Python 3",
   "language": "python",
   "name": "python3"
  },
  "language_info": {
   "codemirror_mode": {
    "name": "ipython",
    "version": 3
   },
   "file_extension": ".py",
   "mimetype": "text/x-python",
   "name": "python",
   "nbconvert_exporter": "python",
   "pygments_lexer": "ipython3",
   "version": "3.7.1"
  }
 },
 "nbformat": 4,
 "nbformat_minor": 2
}
