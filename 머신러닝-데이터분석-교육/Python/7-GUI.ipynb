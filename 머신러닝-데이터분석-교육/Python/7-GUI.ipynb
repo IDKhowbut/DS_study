{
 "cells": [
  {
   "cell_type": "markdown",
   "metadata": {},
   "source": [
    "# 라이브러리 종류\n",
    "\n",
    "    1) Tkinter\n",
    "    2) wxPython\n",
    "    3) PyQT           # 2) & 3)을 주로 씀\n",
    "    \n",
    "# 라이브러리 준비\n",
    "\n",
    "    1) 직접 다운로드를 받아서 site-packages에 복사\n",
    "        https://wxpython.org/Phoenix/snapshot-builds/\n",
    "    2) pip install 모듈명     *pip: installer for Python packages\n",
    "    3) pycharm에서 직접 세팅(File-setting-project interpreter-추가)"
   ]
  },
  {
   "cell_type": "code",
   "execution_count": null,
   "metadata": {},
   "outputs": [],
   "source": []
  }
 ],
 "metadata": {
  "kernelspec": {
   "display_name": "Python 3",
   "language": "python",
   "name": "python3"
  },
  "language_info": {
   "codemirror_mode": {
    "name": "ipython",
    "version": 3
   },
   "file_extension": ".py",
   "mimetype": "text/x-python",
   "name": "python",
   "nbconvert_exporter": "python",
   "pygments_lexer": "ipython3",
   "version": "3.7.1"
  }
 },
 "nbformat": 4,
 "nbformat_minor": 2
}
