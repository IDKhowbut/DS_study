{
 "cells": [
  {
   "cell_type": "code",
   "execution_count": 1,
   "metadata": {},
   "outputs": [
    {
     "name": "stdout",
     "output_type": "stream",
     "text": [
      "Collecting pymongo\n",
      "  Downloading https://files.pythonhosted.org/packages/10/35/f081e8f16cb357cc1e082743fed98fb699f3b9f215addc1b4b8bd1b58472/pymongo-3.7.2-cp37-cp37m-win_amd64.whl (311kB)\n",
      "Installing collected packages: pymongo\n",
      "Successfully installed pymongo-3.7.2\n"
     ]
    }
   ],
   "source": [
    "# pip install pymongo (파이썬에서 몽고DB쓸 수 있도록 하는 프로그램..)\n",
    "!pip install pymongo"
   ]
  },
  {
   "cell_type": "code",
   "execution_count": 3,
   "metadata": {},
   "outputs": [],
   "source": [
    "from pymongo import MongoClient"
   ]
  },
  {
   "cell_type": "code",
   "execution_count": 5,
   "metadata": {},
   "outputs": [
    {
     "name": "stdout",
     "output_type": "stream",
     "text": [
      "MongoClient(host=['127.0.0.1:27017'], document_class=dict, tz_aware=False, connect=True)\n"
     ]
    }
   ],
   "source": [
    "#conn = MongoClient(\"127.0.0.1\", 27017)  #pymongo와 연결하는 객체 생성\n",
    "conn = MongoClient(\"mongodb://127.0.0.1:27017\") # 또 다른 객체 생성법\n",
    "print(conn)"
   ]
  },
  {
   "cell_type": "code",
   "execution_count": 8,
   "metadata": {},
   "outputs": [
    {
     "name": "stdout",
     "output_type": "stream",
     "text": [
      "Database(MongoClient(host=['127.0.0.1:27017'], document_class=dict, tz_aware=False, connect=True), 'firstdb')\n"
     ]
    }
   ],
   "source": [
    "# firstDB와의 연결\n",
    "# db = conn.firstdb\n",
    "# db = conn[\"firstdb\"]\n",
    "db = conn.get_database(\"firstdb\")\n",
    "print(db)"
   ]
  },
  {
   "cell_type": "code",
   "execution_count": 11,
   "metadata": {},
   "outputs": [
    {
     "name": "stdout",
     "output_type": "stream",
     "text": [
      "Collection(Database(MongoClient(host=['127.0.0.1:27017'], document_class=dict, tz_aware=False, connect=True), 'firstdb'), 'people')\n"
     ]
    }
   ],
   "source": [
    "#collect = db.people\n",
    "# collect = db.[\"people\"]\n",
    "collect = db.get_collection(\"people\")\n",
    "print(collect)"
   ]
  },
  {
   "cell_type": "code",
   "execution_count": 12,
   "metadata": {},
   "outputs": [
    {
     "name": "stdout",
     "output_type": "stream",
     "text": [
      "Collection(Database(MongoClient(host=['127.0.0.1:27017'], document_class=dict, tz_aware=False, connect=True), 'firstdb'), 'person')\n"
     ]
    }
   ],
   "source": [
    "collect = db.person\n",
    "print(collect)"
   ]
  },
  {
   "cell_type": "code",
   "execution_count": 14,
   "metadata": {},
   "outputs": [
    {
     "data": {
      "text/plain": [
       "<pymongo.results.InsertOneResult at 0x5357e48>"
      ]
     },
     "execution_count": 14,
     "metadata": {},
     "output_type": "execute_result"
    }
   ],
   "source": [
    "# 모듈을 이용한 insert: document를 참고한 (insert_one(), insert_menay())\n",
    "data = {\"author\":\"Mike\", \"text\":\"My first blog post!\", \"tag\":[\"mongodb\", \"python\"]}\n",
    "collect.insert_one(data)"
   ]
  },
  {
   "cell_type": "code",
   "execution_count": 15,
   "metadata": {},
   "outputs": [],
   "source": [
    "data = {\"author\":\"John\", \"text\":\"My first blog post!\", \"tag\":[\"mongodb\", \"python\"]}\n",
    "post_id = collect.insert_one(data).inserted_id"
   ]
  },
  {
   "cell_type": "code",
   "execution_count": 16,
   "metadata": {},
   "outputs": [
    {
     "data": {
      "text/plain": [
       "ObjectId('5ca574d08799231f0c889c13')"
      ]
     },
     "execution_count": 16,
     "metadata": {},
     "output_type": "execute_result"
    }
   ],
   "source": [
    "post_id"
   ]
  },
  {
   "cell_type": "code",
   "execution_count": 20,
   "metadata": {
    "scrolled": true
   },
   "outputs": [
    {
     "name": "stdout",
     "output_type": "stream",
     "text": [
      "2\n"
     ]
    },
    {
     "name": "stderr",
     "output_type": "stream",
     "text": [
      "C:\\Users\\acorn\\Anaconda3\\lib\\site-packages\\ipykernel_launcher.py:2: DeprecationWarning: count is deprecated. Use estimated_document_count or count_documents instead. Please note that $where must be replaced by $expr, $near must be replaced by $geoWithin with $center, and $nearSphere must be replaced by $geoWithin with $centerSphere\n",
      "  \n"
     ]
    }
   ],
   "source": [
    "# document의 갯수\n",
    "print(collect.count())"
   ]
  },
  {
   "cell_type": "code",
   "execution_count": null,
   "metadata": {},
   "outputs": [],
   "source": [
    "collect.insert_many([{\"number\":i} for i in range(10)])"
   ]
  },
  {
   "cell_type": "code",
   "execution_count": 24,
   "metadata": {},
   "outputs": [
    {
     "data": {
      "text/plain": [
       "<pymongo.results.InsertManyResult at 0x56a76c8>"
      ]
     },
     "execution_count": 24,
     "metadata": {},
     "output_type": "execute_result"
    }
   ],
   "source": [
    "data = list()\n",
    "data.append({\"name\":\"aron\", \"age\":20})\n",
    "data.append({\"name\":\"aron\", \"age\":21})\n",
    "data.append({\"name\":\"aron\", \"age\":22})\n",
    "data.append({\"name\":\"aron\", \"age\":23})\n",
    "              \n",
    "collect.insert_many(data)"
   ]
  },
  {
   "cell_type": "code",
   "execution_count": 29,
   "metadata": {},
   "outputs": [
    {
     "name": "stdout",
     "output_type": "stream",
     "text": [
      "{'_id': ObjectId('5ca574398799231f0c889c12'), 'author': 'Mike', 'text': 'My first blog post!', 'tag': ['mongodb', 'python']}\n",
      "{'_id': ObjectId('5ca574d08799231f0c889c13'), 'author': 'John', 'text': 'My first blog post!', 'tag': ['mongodb', 'python']}\n",
      "{'_id': ObjectId('5ca577c08799231f0c889c14'), 'name': 'aron', 'age': 20}\n",
      "{'_id': ObjectId('5ca577c08799231f0c889c15'), 'name': 'aron', 'age': 21}\n",
      "{'_id': ObjectId('5ca577c08799231f0c889c16'), 'name': 'aron', 'age': 22}\n",
      "{'_id': ObjectId('5ca577c08799231f0c889c17'), 'name': 'aron', 'age': 23}\n"
     ]
    }
   ],
   "source": [
    "# 조회\n",
    "for result in collect.find():\n",
    "    print(result)    # data type : dict"
   ]
  },
  {
   "cell_type": "code",
   "execution_count": 31,
   "metadata": {},
   "outputs": [
    {
     "data": {
      "text/plain": [
       "{'_id': ObjectId('5ca574d08799231f0c889c13'),\n",
       " 'author': 'John',\n",
       " 'text': 'My first blog post!',\n",
       " 'tag': ['mongodb', 'python']}"
      ]
     },
     "execution_count": 31,
     "metadata": {},
     "output_type": "execute_result"
    }
   ],
   "source": [
    "# document 조회(find_one(), find())\n",
    "collect.find_one()\n",
    "collect.find_one({\"author\":\"John\"})  # filtering"
   ]
  },
  {
   "cell_type": "code",
   "execution_count": 32,
   "metadata": {},
   "outputs": [
    {
     "data": {
      "text/plain": [
       "<pymongo.results.UpdateResult at 0x4feebc8>"
      ]
     },
     "execution_count": 32,
     "metadata": {},
     "output_type": "execute_result"
    }
   ],
   "source": [
    "# 수정(update_one(), update_many())\n",
    "collect.update_one({\"author\":\"Mike\"}, {\"$set\":{\"text\":\"My second blog post!\"}})"
   ]
  },
  {
   "cell_type": "code",
   "execution_count": 33,
   "metadata": {
    "scrolled": true
   },
   "outputs": [
    {
     "data": {
      "text/plain": [
       "{'_id': ObjectId('5ca574398799231f0c889c12'),\n",
       " 'author': 'Mike',\n",
       " 'text': 'My second blog post!',\n",
       " 'tag': ['mongodb', 'python']}"
      ]
     },
     "execution_count": 33,
     "metadata": {},
     "output_type": "execute_result"
    }
   ],
   "source": [
    "collect.find_one({\"author\":\"Mike\"})"
   ]
  },
  {
   "cell_type": "code",
   "execution_count": null,
   "metadata": {},
   "outputs": [],
   "source": [
    "# MongoDB 강의 끝"
   ]
  }
 ],
 "metadata": {
  "kernelspec": {
   "display_name": "Python 3",
   "language": "python",
   "name": "python3"
  },
  "language_info": {
   "codemirror_mode": {
    "name": "ipython",
    "version": 3
   },
   "file_extension": ".py",
   "mimetype": "text/x-python",
   "name": "python",
   "nbconvert_exporter": "python",
   "pygments_lexer": "ipython3",
   "version": "3.7.1"
  }
 },
 "nbformat": 4,
 "nbformat_minor": 2
}
