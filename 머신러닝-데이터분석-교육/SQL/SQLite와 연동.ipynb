{
 "cells": [
  {
   "cell_type": "code",
   "execution_count": 2,
   "metadata": {},
   "outputs": [
    {
     "name": "stdout",
     "output_type": "stream",
     "text": [
      "2.6.0\n",
      "3.26.0\n"
     ]
    }
   ],
   "source": [
    "import sqlite3\n",
    "#모듈 버전\n",
    "print(sqlite3.version)\n",
    "#실제 내장된 버전\n",
    "print(sqlite3.sqlite_version)"
   ]
  },
  {
   "cell_type": "code",
   "execution_count": 9,
   "metadata": {},
   "outputs": [
    {
     "name": "stdout",
     "output_type": "stream",
     "text": [
      "<sqlite3.Cursor object at 0x0000000004D95C00>\n"
     ]
    }
   ],
   "source": [
    "conn = sqlite3.connect(\"data/mysqlite.db\")\n",
    "#print(conn)\n",
    "cursor = conn.cursor()\n",
    "print(cursor)\n",
    "conn.close()"
   ]
  },
  {
   "cell_type": "code",
   "execution_count": 9,
   "metadata": {},
   "outputs": [
    {
     "name": "stdout",
     "output_type": "stream",
     "text": [
      "(1, '홍길동', '2019-05-01')\n",
      "(2, '임꺽정', '2019-04-03')\n"
     ]
    }
   ],
   "source": [
    "# select\n",
    "conn = sqlite3.connect(\"data/mysqlite.db\")\n",
    "cursor = conn.cursor()\n",
    "\n",
    "sql = \"select * from member\"\n",
    "cursor.execute(sql)\n",
    "# fetchall = 전체데이터 불러오기\n",
    "rows = cursor.fetchall()\n",
    "for row in rows:\n",
    "    print(row)\n",
    "conn.close()"
   ]
  },
  {
   "cell_type": "code",
   "execution_count": 4,
   "metadata": {},
   "outputs": [
    {
     "name": "stdout",
     "output_type": "stream",
     "text": [
      "('C', '001-1009', '3321', 615000.0, '2017-02-03')\n"
     ]
    }
   ],
   "source": [
    "conn = sqlite3.connect(\"data/sqlitetest.db\")\n",
    "cursor = conn.cursor()\n",
    "\n",
    "sql = \"select * from suppliers\"\n",
    "cursor.execute(sql)\n",
    "# 무조건 execute하면 전체 data를 불러옴. 하지만 fetchmany를 쓰면 일부 data만 불러올 수 있음!\n",
    "rows = cursor.fetchmany(2) # select * from suppliers limit 2 와 동일\n",
    "for row in cursor:\n",
    "    print(row)\n",
    "\n",
    "# MySQL에서 내가 원하는 records만 들고오는 방법 = limit 사용"
   ]
  },
  {
   "cell_type": "code",
   "execution_count": 20,
   "metadata": {},
   "outputs": [
    {
     "name": "stdout",
     "output_type": "stream",
     "text": [
      "(3, 1365000.0, 615000.0)\n",
      "3\n"
     ]
    }
   ],
   "source": [
    "conn = sqlite3.connect(\"data/sqlitetest.db\")\n",
    "cursor = conn.cursor()\n",
    "\n",
    "sql = \"select count(*), sum(cost), max(cost) from suppliers\"\n",
    "cursor.execute(sql)\n",
    "# fetchone = 하나만 불러오기\n",
    "rows = cursor.fetchone()\n",
    "print(rows)\n",
    "print(rows[0])\n",
    "conn.close()"
   ]
  },
  {
   "cell_type": "code",
   "execution_count": 22,
   "metadata": {},
   "outputs": [],
   "source": [
    "# 데이터 베이스 작성, 생성?\n",
    "conn = sqlite3.connect(\"data/jupyter.db\")   #connect라는 메서드를 이용해서 sqlite3 import\n",
    "#print(conn)\n",
    "cursor = conn.cursor()\n",
    "\n",
    "# 테이블 생성\n",
    "# text : varchar보다 더 많은 문자열을 쓸 때 사용함\n",
    "# If not exists를 써서 재실행되었을 때의 중복을 막아준다\n",
    "sql = \"\"\"\n",
    "    CREATE TABLE IF NOT EXISTS tblbooks(\n",
    "        title            text,\n",
    "        published_date   text,\n",
    "        pages            integer,\n",
    "        recommend        integer\n",
    "    );\n",
    "\"\"\"\n",
    "cursor.execute(sql)\n",
    "conn.commit()"
   ]
  },
  {
   "cell_type": "code",
   "execution_count": 23,
   "metadata": {},
   "outputs": [],
   "source": [
    "# 데이터 입력 1\n",
    "cursor.execute(\"insert into tblbooks values('python', '2018-01-01', 500, 10)\")\n",
    "conn.commit()\n",
    "# cell만 끊어서 가는 중이지 위의 내용과 이어서 하는 과정임을 헷갈리지 말 것!"
   ]
  },
  {
   "cell_type": "code",
   "execution_count": 24,
   "metadata": {},
   "outputs": [],
   "source": [
    "# 데이터 입력 2\n",
    "sql = \"insert into tblbooks values(?,?,?,?)\" # 변수를 직접 괄호 안에 입력하면 불편쓰\n",
    "data = (\"R\", '2018-01-02', 600, 5) # tuple로 묶기\n",
    "cursor.execute(sql, data)\n",
    "conn.commit()"
   ]
  },
  {
   "cell_type": "code",
   "execution_count": 11,
   "metadata": {},
   "outputs": [
    {
     "ename": "ProgrammingError",
     "evalue": "Cannot operate on a closed database.",
     "output_type": "error",
     "traceback": [
      "\u001b[1;31m---------------------------------------------------------------------------\u001b[0m",
      "\u001b[1;31mProgrammingError\u001b[0m                          Traceback (most recent call last)",
      "\u001b[1;32m<ipython-input-11-862094bd1dab>\u001b[0m in \u001b[0;36m<module>\u001b[1;34m\u001b[0m\n\u001b[0;32m      5\u001b[0m (\"데이터분석\", '2019-01-01', 600, 5), (\"텐서플로우\", '2019-01-01', 600, 5)]  # tuple여러개 list로 묶기\n\u001b[0;32m      6\u001b[0m \u001b[1;31m#execute말고 executemany로 여러번 실행해준다 (동시에 여러개 입력)\u001b[0m\u001b[1;33m\u001b[0m\u001b[1;33m\u001b[0m\u001b[1;33m\u001b[0m\u001b[0m\n\u001b[1;32m----> 7\u001b[1;33m \u001b[0mcursor\u001b[0m\u001b[1;33m.\u001b[0m\u001b[0mexecutemany\u001b[0m\u001b[1;33m(\u001b[0m\u001b[0msql\u001b[0m\u001b[1;33m,\u001b[0m \u001b[0mitems\u001b[0m\u001b[1;33m)\u001b[0m\u001b[1;33m\u001b[0m\u001b[1;33m\u001b[0m\u001b[0m\n\u001b[0m\u001b[0;32m      8\u001b[0m \u001b[0mconn\u001b[0m\u001b[1;33m.\u001b[0m\u001b[0mcommit\u001b[0m\u001b[1;33m(\u001b[0m\u001b[1;33m)\u001b[0m\u001b[1;33m\u001b[0m\u001b[1;33m\u001b[0m\u001b[0m\n",
      "\u001b[1;31mProgrammingError\u001b[0m: Cannot operate on a closed database."
     ]
    }
   ],
   "source": [
    "# 데이터 입력 3\n",
    "# 여러개의 데이터를 한번에 전달\n",
    "sql = \"insert into tblbooks values(?,?,?,?)\"\n",
    "items = [(\"빅데이터\", '2019-01-01', 600, 5), (\"머신러닝\", '2019-01-01', 600, 5), \n",
    "(\"데이터분석\", '2019-01-01', 600, 5), (\"텐서플로우\", '2019-01-01', 600, 5)]  # tuple여러개 list로 묶기\n",
    "#execute말고 executemany로 여러번 실행해준다 (동시에 여러개 입력)\n",
    "cursor.executemany(sql, items)\n",
    "conn.commit()"
   ]
  },
  {
   "cell_type": "code",
   "execution_count": 26,
   "metadata": {},
   "outputs": [],
   "source": [
    "conn.close()"
   ]
  },
  {
   "cell_type": "code",
   "execution_count": 27,
   "metadata": {},
   "outputs": [
    {
     "data": {
      "text/plain": [
       "<sqlite3.Cursor at 0x5092ea0>"
      ]
     },
     "execution_count": 27,
     "metadata": {},
     "output_type": "execute_result"
    }
   ],
   "source": [
    "# CSV파일로부터 읽은 데이터를 테이블에 insert\n",
    "import csv\n",
    "import sqlite3\n",
    "\n",
    "input_file = \"data/input.csv\"\n",
    "conn = sqlite3.connect(\"data/jupyter.db\")\n",
    "cursor = conn.cursor()\n",
    "\n",
    "sql = \"\"\"\n",
    "    CREATE TABLE IF NOT EXISTS suppliers(\n",
    "    supplier_name    varchar(20),\n",
    "    invoice_number   varchar(20),\n",
    "    part_number      varchar(20),\n",
    "    cost             float,\n",
    "    purchase_date    date\n",
    ");\n",
    "\"\"\"\n",
    "cursor.execute(sql)"
   ]
  },
  {
   "cell_type": "code",
   "execution_count": 28,
   "metadata": {},
   "outputs": [],
   "source": [
    "file_reader = csv.reader(open(input_file, \"r\"), delimiter=\",\")\n",
    "header = next(file_reader)\n",
    "\n",
    "for row in file_reader:\n",
    "    data = []\n",
    "    for col in range(len(header)):\n",
    "        data.append(row[col])\n",
    "    cursor.execute(\"insert into suppliers values(?,?,?,?,?)\", data)\n",
    "    \n",
    "conn.commit()"
   ]
  },
  {
   "cell_type": "code",
   "execution_count": null,
   "metadata": {},
   "outputs": [],
   "source": [
    "# 규모에 따라서 data를 어디에 보관해서 쓸 것이냐는 사용자가 결..정...\n",
    "# SQLite 끄읕"
   ]
  },
  {
   "cell_type": "code",
   "execution_count": null,
   "metadata": {},
   "outputs": [],
   "source": []
  }
 ],
 "metadata": {
  "kernelspec": {
   "display_name": "Python 3",
   "language": "python",
   "name": "python3"
  },
  "language_info": {
   "codemirror_mode": {
    "name": "ipython",
    "version": 3
   },
   "file_extension": ".py",
   "mimetype": "text/x-python",
   "name": "python",
   "nbconvert_exporter": "python",
   "pygments_lexer": "ipython3",
   "version": "3.7.1"
  }
 },
 "nbformat": 4,
 "nbformat_minor": 2
}
